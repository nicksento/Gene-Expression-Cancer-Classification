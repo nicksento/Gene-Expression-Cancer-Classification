{
 "cells": [
  {
   "cell_type": "markdown",
   "metadata": {},
   "source": [
    "# Gene Expression Cancer RNA-Seq Classification"
   ]
  },
  {
   "cell_type": "markdown",
   "metadata": {},
   "source": [
    "In this notebook we shall examine a gene expression dataset of patients having different types of tumor and attempt to classify these tumors into one of five classes: BRCA, KIRC, COAD, LUAD and PRAD.\n",
    "\t\n",
    "The collection of data is part of the RNA-Seq (HiSeq) PANCAN data set and can be found [here](https://archive.ics.uci.edu/ml/datasets/gene+expression+cancer+RNA-Seq#).\n",
    "\n",
    "The GitHub repository for this project can be found [here](https://github.com/nicksento/Gene-Expression-Cancer-Classification)."
   ]
  },
  {
   "cell_type": "markdown",
   "metadata": {},
   "source": [
    "# Contents\n",
    "[1.Import Libraries](#import)   \n",
    "[2.Load the Data](#load)   \n",
    "[3.Visualize the Data](#visual)   \n",
    "[4.Prepare the Data for Machine Learning Algorithms](#prepare)      \n",
    "&nbsp;&nbsp;&nbsp;[4.1.Stratified Shuffle Split](#strat)     \n",
    "&nbsp;&nbsp;&nbsp;[4.2.Scale the Data](#scale)            \n",
    "&nbsp;&nbsp;&nbsp;[4.3.Principal Component Analysis](#pca)               \n",
    "[5.Train and Evaluate Machine Learning Models](#ml)                \n",
    "&nbsp;&nbsp;&nbsp;[5.1.Gaussian Naive Bayes ](#ml1)              \n",
    "&nbsp;&nbsp;&nbsp;[5.2.Logistic Regression ](#ml2)                        \n",
    "&nbsp;&nbsp;&nbsp;[5.3.Support Vector Machines ](#ml3)           \n",
    "&nbsp;&nbsp;&nbsp;[5.4.Random Forest](#ml4)               \n",
    "[6.Conclusion](#conclusion)"
   ]
  },
  {
   "cell_type": "markdown",
   "metadata": {},
   "source": [
    "## Import Libraries <a id='import'></a>"
   ]
  },
  {
   "cell_type": "code",
   "execution_count": 1,
   "metadata": {},
   "outputs": [],
   "source": [
    "import pandas as pd\n",
    "import numpy as np\n",
    "import seaborn as sns\n",
    "import matplotlib.pyplot as plt\n",
    "\n",
    "from sklearn.preprocessing import StandardScaler\n",
    "from sklearn.decomposition import PCA\n",
    "from sklearn.model_selection import GridSearchCV, cross_val_score\n",
    "from sklearn.metrics import accuracy_score, confusion_matrix\n",
    "from sklearn.cluster import KMeans\n",
    "from sklearn.svm import SVC\n",
    "from sklearn.linear_model import LogisticRegression\n",
    "from sklearn.naive_bayes import GaussianNB\n",
    "from sklearn.ensemble import RandomForestClassifier"
   ]
  },
  {
   "cell_type": "code",
   "execution_count": 2,
   "metadata": {},
   "outputs": [
    {
     "data": {
      "text/html": [
       "        <script type=\"text/javascript\">\n",
       "        window.PlotlyConfig = {MathJaxConfig: 'local'};\n",
       "        if (window.MathJax) {MathJax.Hub.Config({SVG: {font: \"STIX-Web\"}});}\n",
       "        if (typeof require !== 'undefined') {\n",
       "        require.undef(\"plotly\");\n",
       "        requirejs.config({\n",
       "            paths: {\n",
       "                'plotly': ['https://cdn.plot.ly/plotly-latest.min']\n",
       "            }\n",
       "        });\n",
       "        require(['plotly'], function(Plotly) {\n",
       "            window._Plotly = Plotly;\n",
       "        });\n",
       "        }\n",
       "        </script>\n",
       "        "
      ]
     },
     "metadata": {},
     "output_type": "display_data"
    },
    {
     "data": {
      "text/html": [
       "        <script type=\"text/javascript\">\n",
       "        window.PlotlyConfig = {MathJaxConfig: 'local'};\n",
       "        if (window.MathJax) {MathJax.Hub.Config({SVG: {font: \"STIX-Web\"}});}\n",
       "        if (typeof require !== 'undefined') {\n",
       "        require.undef(\"plotly\");\n",
       "        requirejs.config({\n",
       "            paths: {\n",
       "                'plotly': ['https://cdn.plot.ly/plotly-latest.min']\n",
       "            }\n",
       "        });\n",
       "        require(['plotly'], function(Plotly) {\n",
       "            window._Plotly = Plotly;\n",
       "        });\n",
       "        }\n",
       "        </script>\n",
       "        "
      ]
     },
     "metadata": {},
     "output_type": "display_data"
    }
   ],
   "source": [
    "import chart_studio.plotly as py\n",
    "import cufflinks as cf\n",
    "import plotly.express as px\n",
    "import plotly.graph_objects as go\n",
    "from mpl_toolkits.mplot3d import Axes3D\n",
    "\n",
    "from plotly.offline import download_plotlyjs, init_notebook_mode, plot, iplot\n",
    "init_notebook_mode(connected=True)\n",
    "cf.go_offline()"
   ]
  },
  {
   "cell_type": "markdown",
   "metadata": {},
   "source": [
    "## Load the Data <a id='load'></a>"
   ]
  },
  {
   "cell_type": "code",
   "execution_count": 3,
   "metadata": {
    "scrolled": true
   },
   "outputs": [
    {
     "data": {
      "text/html": [
       "<div>\n",
       "<style scoped>\n",
       "    .dataframe tbody tr th:only-of-type {\n",
       "        vertical-align: middle;\n",
       "    }\n",
       "\n",
       "    .dataframe tbody tr th {\n",
       "        vertical-align: top;\n",
       "    }\n",
       "\n",
       "    .dataframe thead th {\n",
       "        text-align: right;\n",
       "    }\n",
       "</style>\n",
       "<table border=\"1\" class=\"dataframe\">\n",
       "  <thead>\n",
       "    <tr style=\"text-align: right;\">\n",
       "      <th></th>\n",
       "      <th>Unnamed: 0</th>\n",
       "      <th>gene_0</th>\n",
       "      <th>gene_1</th>\n",
       "      <th>gene_2</th>\n",
       "      <th>gene_3</th>\n",
       "      <th>gene_4</th>\n",
       "      <th>gene_5</th>\n",
       "      <th>gene_6</th>\n",
       "      <th>gene_7</th>\n",
       "      <th>gene_8</th>\n",
       "      <th>...</th>\n",
       "      <th>gene_20521</th>\n",
       "      <th>gene_20522</th>\n",
       "      <th>gene_20523</th>\n",
       "      <th>gene_20524</th>\n",
       "      <th>gene_20525</th>\n",
       "      <th>gene_20526</th>\n",
       "      <th>gene_20527</th>\n",
       "      <th>gene_20528</th>\n",
       "      <th>gene_20529</th>\n",
       "      <th>gene_20530</th>\n",
       "    </tr>\n",
       "  </thead>\n",
       "  <tbody>\n",
       "    <tr>\n",
       "      <th>0</th>\n",
       "      <td>sample_0</td>\n",
       "      <td>0.0</td>\n",
       "      <td>2.017209</td>\n",
       "      <td>3.265527</td>\n",
       "      <td>5.478487</td>\n",
       "      <td>10.431999</td>\n",
       "      <td>0.0</td>\n",
       "      <td>7.175175</td>\n",
       "      <td>0.591871</td>\n",
       "      <td>0.0</td>\n",
       "      <td>...</td>\n",
       "      <td>4.926711</td>\n",
       "      <td>8.210257</td>\n",
       "      <td>9.723516</td>\n",
       "      <td>7.220030</td>\n",
       "      <td>9.119813</td>\n",
       "      <td>12.003135</td>\n",
       "      <td>9.650743</td>\n",
       "      <td>8.921326</td>\n",
       "      <td>5.286759</td>\n",
       "      <td>0.0</td>\n",
       "    </tr>\n",
       "    <tr>\n",
       "      <th>1</th>\n",
       "      <td>sample_1</td>\n",
       "      <td>0.0</td>\n",
       "      <td>0.592732</td>\n",
       "      <td>1.588421</td>\n",
       "      <td>7.586157</td>\n",
       "      <td>9.623011</td>\n",
       "      <td>0.0</td>\n",
       "      <td>6.816049</td>\n",
       "      <td>0.000000</td>\n",
       "      <td>0.0</td>\n",
       "      <td>...</td>\n",
       "      <td>4.593372</td>\n",
       "      <td>7.323865</td>\n",
       "      <td>9.740931</td>\n",
       "      <td>6.256586</td>\n",
       "      <td>8.381612</td>\n",
       "      <td>12.674552</td>\n",
       "      <td>10.517059</td>\n",
       "      <td>9.397854</td>\n",
       "      <td>2.094168</td>\n",
       "      <td>0.0</td>\n",
       "    </tr>\n",
       "    <tr>\n",
       "      <th>2</th>\n",
       "      <td>sample_2</td>\n",
       "      <td>0.0</td>\n",
       "      <td>3.511759</td>\n",
       "      <td>4.327199</td>\n",
       "      <td>6.881787</td>\n",
       "      <td>9.870730</td>\n",
       "      <td>0.0</td>\n",
       "      <td>6.972130</td>\n",
       "      <td>0.452595</td>\n",
       "      <td>0.0</td>\n",
       "      <td>...</td>\n",
       "      <td>5.125213</td>\n",
       "      <td>8.127123</td>\n",
       "      <td>10.908640</td>\n",
       "      <td>5.401607</td>\n",
       "      <td>9.911597</td>\n",
       "      <td>9.045255</td>\n",
       "      <td>9.788359</td>\n",
       "      <td>10.090470</td>\n",
       "      <td>1.683023</td>\n",
       "      <td>0.0</td>\n",
       "    </tr>\n",
       "    <tr>\n",
       "      <th>3</th>\n",
       "      <td>sample_3</td>\n",
       "      <td>0.0</td>\n",
       "      <td>3.663618</td>\n",
       "      <td>4.507649</td>\n",
       "      <td>6.659068</td>\n",
       "      <td>10.196184</td>\n",
       "      <td>0.0</td>\n",
       "      <td>7.843375</td>\n",
       "      <td>0.434882</td>\n",
       "      <td>0.0</td>\n",
       "      <td>...</td>\n",
       "      <td>6.076566</td>\n",
       "      <td>8.792959</td>\n",
       "      <td>10.141520</td>\n",
       "      <td>8.942805</td>\n",
       "      <td>9.601208</td>\n",
       "      <td>11.392682</td>\n",
       "      <td>9.694814</td>\n",
       "      <td>9.684365</td>\n",
       "      <td>3.292001</td>\n",
       "      <td>0.0</td>\n",
       "    </tr>\n",
       "    <tr>\n",
       "      <th>4</th>\n",
       "      <td>sample_4</td>\n",
       "      <td>0.0</td>\n",
       "      <td>2.655741</td>\n",
       "      <td>2.821547</td>\n",
       "      <td>6.539454</td>\n",
       "      <td>9.738265</td>\n",
       "      <td>0.0</td>\n",
       "      <td>6.566967</td>\n",
       "      <td>0.360982</td>\n",
       "      <td>0.0</td>\n",
       "      <td>...</td>\n",
       "      <td>5.996032</td>\n",
       "      <td>8.891425</td>\n",
       "      <td>10.373790</td>\n",
       "      <td>7.181162</td>\n",
       "      <td>9.846910</td>\n",
       "      <td>11.922439</td>\n",
       "      <td>9.217749</td>\n",
       "      <td>9.461191</td>\n",
       "      <td>5.110372</td>\n",
       "      <td>0.0</td>\n",
       "    </tr>\n",
       "  </tbody>\n",
       "</table>\n",
       "<p>5 rows × 20532 columns</p>\n",
       "</div>"
      ],
      "text/plain": [
       "  Unnamed: 0  gene_0    gene_1    gene_2    gene_3     gene_4  gene_5  \\\n",
       "0   sample_0     0.0  2.017209  3.265527  5.478487  10.431999     0.0   \n",
       "1   sample_1     0.0  0.592732  1.588421  7.586157   9.623011     0.0   \n",
       "2   sample_2     0.0  3.511759  4.327199  6.881787   9.870730     0.0   \n",
       "3   sample_3     0.0  3.663618  4.507649  6.659068  10.196184     0.0   \n",
       "4   sample_4     0.0  2.655741  2.821547  6.539454   9.738265     0.0   \n",
       "\n",
       "     gene_6    gene_7  gene_8  ...  gene_20521  gene_20522  gene_20523  \\\n",
       "0  7.175175  0.591871     0.0  ...    4.926711    8.210257    9.723516   \n",
       "1  6.816049  0.000000     0.0  ...    4.593372    7.323865    9.740931   \n",
       "2  6.972130  0.452595     0.0  ...    5.125213    8.127123   10.908640   \n",
       "3  7.843375  0.434882     0.0  ...    6.076566    8.792959   10.141520   \n",
       "4  6.566967  0.360982     0.0  ...    5.996032    8.891425   10.373790   \n",
       "\n",
       "   gene_20524  gene_20525  gene_20526  gene_20527  gene_20528  gene_20529  \\\n",
       "0    7.220030    9.119813   12.003135    9.650743    8.921326    5.286759   \n",
       "1    6.256586    8.381612   12.674552   10.517059    9.397854    2.094168   \n",
       "2    5.401607    9.911597    9.045255    9.788359   10.090470    1.683023   \n",
       "3    8.942805    9.601208   11.392682    9.694814    9.684365    3.292001   \n",
       "4    7.181162    9.846910   11.922439    9.217749    9.461191    5.110372   \n",
       "\n",
       "   gene_20530  \n",
       "0         0.0  \n",
       "1         0.0  \n",
       "2         0.0  \n",
       "3         0.0  \n",
       "4         0.0  \n",
       "\n",
       "[5 rows x 20532 columns]"
      ]
     },
     "execution_count": 3,
     "metadata": {},
     "output_type": "execute_result"
    }
   ],
   "source": [
    "data = pd.read_csv('data/data.csv')\n",
    "data.head()"
   ]
  },
  {
   "cell_type": "code",
   "execution_count": 4,
   "metadata": {},
   "outputs": [
    {
     "data": {
      "text/plain": [
       "(801, 20532)"
      ]
     },
     "execution_count": 4,
     "metadata": {},
     "output_type": "execute_result"
    }
   ],
   "source": [
    "data.shape"
   ]
  },
  {
   "cell_type": "markdown",
   "metadata": {},
   "source": [
    "Samples (instances) are stored row-wise. Variables (attributes) of each sample are RNA-Seq gene expression levels measured by illumina HiSeq platform. A dummy name (gene_XX) is given to each attribute. There are 20531 different genes and 801 samples."
   ]
  },
  {
   "cell_type": "code",
   "execution_count": 5,
   "metadata": {},
   "outputs": [
    {
     "data": {
      "text/html": [
       "<div>\n",
       "<style scoped>\n",
       "    .dataframe tbody tr th:only-of-type {\n",
       "        vertical-align: middle;\n",
       "    }\n",
       "\n",
       "    .dataframe tbody tr th {\n",
       "        vertical-align: top;\n",
       "    }\n",
       "\n",
       "    .dataframe thead th {\n",
       "        text-align: right;\n",
       "    }\n",
       "</style>\n",
       "<table border=\"1\" class=\"dataframe\">\n",
       "  <thead>\n",
       "    <tr style=\"text-align: right;\">\n",
       "      <th></th>\n",
       "      <th>Unnamed: 0</th>\n",
       "      <th>Class</th>\n",
       "    </tr>\n",
       "  </thead>\n",
       "  <tbody>\n",
       "    <tr>\n",
       "      <th>0</th>\n",
       "      <td>sample_0</td>\n",
       "      <td>PRAD</td>\n",
       "    </tr>\n",
       "    <tr>\n",
       "      <th>1</th>\n",
       "      <td>sample_1</td>\n",
       "      <td>LUAD</td>\n",
       "    </tr>\n",
       "    <tr>\n",
       "      <th>2</th>\n",
       "      <td>sample_2</td>\n",
       "      <td>PRAD</td>\n",
       "    </tr>\n",
       "    <tr>\n",
       "      <th>3</th>\n",
       "      <td>sample_3</td>\n",
       "      <td>PRAD</td>\n",
       "    </tr>\n",
       "    <tr>\n",
       "      <th>4</th>\n",
       "      <td>sample_4</td>\n",
       "      <td>BRCA</td>\n",
       "    </tr>\n",
       "  </tbody>\n",
       "</table>\n",
       "</div>"
      ],
      "text/plain": [
       "  Unnamed: 0 Class\n",
       "0   sample_0  PRAD\n",
       "1   sample_1  LUAD\n",
       "2   sample_2  PRAD\n",
       "3   sample_3  PRAD\n",
       "4   sample_4  BRCA"
      ]
     },
     "execution_count": 5,
     "metadata": {},
     "output_type": "execute_result"
    }
   ],
   "source": [
    "y = pd.read_csv('data/labels.csv')\n",
    "y.head()"
   ]
  },
  {
   "cell_type": "code",
   "execution_count": 6,
   "metadata": {},
   "outputs": [
    {
     "data": {
      "text/plain": [
       "array(['PRAD', 'LUAD', 'BRCA', 'KIRC', 'COAD'], dtype=object)"
      ]
     },
     "execution_count": 6,
     "metadata": {},
     "output_type": "execute_result"
    }
   ],
   "source": [
    "y.Class.unique()"
   ]
  },
  {
   "cell_type": "markdown",
   "metadata": {},
   "source": [
    "There are 5 types of tumor in this dataset:   \n",
    "- BRCA: Breast Cancer\n",
    "- KIRC: Kidney Renal Clear Cell Carcinoma \n",
    "- COAD: Colon Adenocarcinom\n",
    "- LUAD: Lung Adenocarcinoma  \n",
    "- PRAD: Prostate Adenocarcinoma"
   ]
  },
  {
   "cell_type": "code",
   "execution_count": 7,
   "metadata": {
    "scrolled": true
   },
   "outputs": [
    {
     "data": {
      "text/plain": [
       "BRCA    300\n",
       "KIRC    146\n",
       "LUAD    141\n",
       "PRAD    136\n",
       "COAD     78\n",
       "Name: Class, dtype: int64"
      ]
     },
     "execution_count": 7,
     "metadata": {},
     "output_type": "execute_result"
    }
   ],
   "source": [
    "y.Class.value_counts()"
   ]
  },
  {
   "cell_type": "code",
   "execution_count": 8,
   "metadata": {
    "scrolled": true
   },
   "outputs": [
    {
     "data": {
      "text/plain": [
       "BRCA    0.374532\n",
       "KIRC    0.182272\n",
       "LUAD    0.176030\n",
       "PRAD    0.169788\n",
       "COAD    0.097378\n",
       "Name: Class, dtype: float64"
      ]
     },
     "execution_count": 8,
     "metadata": {},
     "output_type": "execute_result"
    }
   ],
   "source": [
    "y.Class.value_counts() / len(y)"
   ]
  },
  {
   "cell_type": "markdown",
   "metadata": {},
   "source": [
    "## Visualize the Data <a id='visual'></a>"
   ]
  },
  {
   "cell_type": "code",
   "execution_count": 9,
   "metadata": {
    "scrolled": false
   },
   "outputs": [
    {
     "data": {
      "application/vnd.plotly.v1+json": {
       "config": {
        "plotlyServerURL": "https://plot.ly"
       },
       "data": [
        {
         "domain": {
          "x": [
           0,
           1
          ],
          "y": [
           0,
           1
          ]
         },
         "hovertemplate": "Class=%{label}<extra></extra>",
         "labels": [
          "PRAD",
          "LUAD",
          "PRAD",
          "PRAD",
          "BRCA",
          "PRAD",
          "KIRC",
          "PRAD",
          "BRCA",
          "PRAD",
          "BRCA",
          "KIRC",
          "PRAD",
          "BRCA",
          "BRCA",
          "BRCA",
          "LUAD",
          "KIRC",
          "KIRC",
          "PRAD",
          "BRCA",
          "KIRC",
          "LUAD",
          "BRCA",
          "KIRC",
          "LUAD",
          "COAD",
          "BRCA",
          "BRCA",
          "BRCA",
          "BRCA",
          "BRCA",
          "KIRC",
          "BRCA",
          "PRAD",
          "BRCA",
          "KIRC",
          "LUAD",
          "BRCA",
          "BRCA",
          "KIRC",
          "PRAD",
          "PRAD",
          "KIRC",
          "KIRC",
          "BRCA",
          "PRAD",
          "COAD",
          "BRCA",
          "LUAD",
          "BRCA",
          "LUAD",
          "BRCA",
          "PRAD",
          "COAD",
          "BRCA",
          "BRCA",
          "COAD",
          "KIRC",
          "BRCA",
          "LUAD",
          "KIRC",
          "BRCA",
          "LUAD",
          "PRAD",
          "COAD",
          "BRCA",
          "PRAD",
          "KIRC",
          "BRCA",
          "KIRC",
          "BRCA",
          "BRCA",
          "LUAD",
          "BRCA",
          "LUAD",
          "BRCA",
          "KIRC",
          "PRAD",
          "COAD",
          "BRCA",
          "PRAD",
          "BRCA",
          "BRCA",
          "PRAD",
          "PRAD",
          "BRCA",
          "BRCA",
          "KIRC",
          "BRCA",
          "PRAD",
          "PRAD",
          "BRCA",
          "BRCA",
          "BRCA",
          "PRAD",
          "COAD",
          "BRCA",
          "PRAD",
          "BRCA",
          "BRCA",
          "KIRC",
          "BRCA",
          "KIRC",
          "LUAD",
          "KIRC",
          "LUAD",
          "COAD",
          "LUAD",
          "LUAD",
          "PRAD",
          "BRCA",
          "LUAD",
          "PRAD",
          "BRCA",
          "KIRC",
          "KIRC",
          "KIRC",
          "BRCA",
          "BRCA",
          "LUAD",
          "KIRC",
          "LUAD",
          "BRCA",
          "PRAD",
          "PRAD",
          "PRAD",
          "BRCA",
          "KIRC",
          "LUAD",
          "COAD",
          "BRCA",
          "COAD",
          "BRCA",
          "BRCA",
          "KIRC",
          "LUAD",
          "BRCA",
          "KIRC",
          "COAD",
          "BRCA",
          "PRAD",
          "BRCA",
          "KIRC",
          "LUAD",
          "COAD",
          "PRAD",
          "BRCA",
          "LUAD",
          "LUAD",
          "LUAD",
          "LUAD",
          "BRCA",
          "BRCA",
          "LUAD",
          "BRCA",
          "BRCA",
          "PRAD",
          "PRAD",
          "LUAD",
          "PRAD",
          "LUAD",
          "KIRC",
          "BRCA",
          "PRAD",
          "LUAD",
          "COAD",
          "KIRC",
          "LUAD",
          "BRCA",
          "KIRC",
          "LUAD",
          "BRCA",
          "LUAD",
          "BRCA",
          "BRCA",
          "BRCA",
          "PRAD",
          "BRCA",
          "KIRC",
          "COAD",
          "KIRC",
          "BRCA",
          "PRAD",
          "PRAD",
          "PRAD",
          "LUAD",
          "LUAD",
          "BRCA",
          "LUAD",
          "LUAD",
          "KIRC",
          "LUAD",
          "PRAD",
          "LUAD",
          "BRCA",
          "BRCA",
          "BRCA",
          "LUAD",
          "LUAD",
          "BRCA",
          "KIRC",
          "KIRC",
          "KIRC",
          "KIRC",
          "PRAD",
          "BRCA",
          "PRAD",
          "BRCA",
          "LUAD",
          "LUAD",
          "BRCA",
          "PRAD",
          "BRCA",
          "PRAD",
          "BRCA",
          "BRCA",
          "BRCA",
          "LUAD",
          "BRCA",
          "KIRC",
          "LUAD",
          "KIRC",
          "KIRC",
          "LUAD",
          "BRCA",
          "KIRC",
          "PRAD",
          "BRCA",
          "LUAD",
          "LUAD",
          "PRAD",
          "COAD",
          "BRCA",
          "KIRC",
          "PRAD",
          "KIRC",
          "COAD",
          "BRCA",
          "KIRC",
          "KIRC",
          "LUAD",
          "PRAD",
          "PRAD",
          "LUAD",
          "LUAD",
          "KIRC",
          "BRCA",
          "BRCA",
          "COAD",
          "BRCA",
          "PRAD",
          "COAD",
          "BRCA",
          "PRAD",
          "KIRC",
          "PRAD",
          "PRAD",
          "PRAD",
          "BRCA",
          "COAD",
          "COAD",
          "LUAD",
          "COAD",
          "COAD",
          "PRAD",
          "LUAD",
          "BRCA",
          "BRCA",
          "KIRC",
          "KIRC",
          "BRCA",
          "COAD",
          "PRAD",
          "KIRC",
          "PRAD",
          "BRCA",
          "BRCA",
          "KIRC",
          "BRCA",
          "BRCA",
          "BRCA",
          "BRCA",
          "LUAD",
          "LUAD",
          "BRCA",
          "BRCA",
          "BRCA",
          "KIRC",
          "KIRC",
          "KIRC",
          "KIRC",
          "BRCA",
          "BRCA",
          "BRCA",
          "KIRC",
          "BRCA",
          "BRCA",
          "LUAD",
          "PRAD",
          "BRCA",
          "BRCA",
          "COAD",
          "LUAD",
          "PRAD",
          "BRCA",
          "BRCA",
          "BRCA",
          "COAD",
          "BRCA",
          "PRAD",
          "BRCA",
          "COAD",
          "LUAD",
          "LUAD",
          "PRAD",
          "KIRC",
          "BRCA",
          "KIRC",
          "KIRC",
          "LUAD",
          "COAD",
          "KIRC",
          "BRCA",
          "BRCA",
          "BRCA",
          "BRCA",
          "KIRC",
          "BRCA",
          "BRCA",
          "PRAD",
          "BRCA",
          "KIRC",
          "BRCA",
          "LUAD",
          "PRAD",
          "KIRC",
          "BRCA",
          "PRAD",
          "COAD",
          "BRCA",
          "BRCA",
          "BRCA",
          "LUAD",
          "LUAD",
          "LUAD",
          "BRCA",
          "BRCA",
          "PRAD",
          "LUAD",
          "BRCA",
          "KIRC",
          "BRCA",
          "COAD",
          "COAD",
          "LUAD",
          "BRCA",
          "KIRC",
          "BRCA",
          "BRCA",
          "BRCA",
          "COAD",
          "LUAD",
          "COAD",
          "KIRC",
          "PRAD",
          "KIRC",
          "BRCA",
          "BRCA",
          "KIRC",
          "BRCA",
          "COAD",
          "PRAD",
          "LUAD",
          "PRAD",
          "BRCA",
          "KIRC",
          "PRAD",
          "BRCA",
          "COAD",
          "KIRC",
          "KIRC",
          "COAD",
          "COAD",
          "PRAD",
          "BRCA",
          "BRCA",
          "COAD",
          "KIRC",
          "BRCA",
          "PRAD",
          "BRCA",
          "BRCA",
          "BRCA",
          "LUAD",
          "LUAD",
          "KIRC",
          "LUAD",
          "BRCA",
          "KIRC",
          "COAD",
          "PRAD",
          "BRCA",
          "LUAD",
          "PRAD",
          "BRCA",
          "BRCA",
          "BRCA",
          "LUAD",
          "BRCA",
          "BRCA",
          "PRAD",
          "BRCA",
          "PRAD",
          "COAD",
          "BRCA",
          "LUAD",
          "BRCA",
          "BRCA",
          "LUAD",
          "BRCA",
          "BRCA",
          "BRCA",
          "KIRC",
          "LUAD",
          "PRAD",
          "BRCA",
          "PRAD",
          "KIRC",
          "BRCA",
          "KIRC",
          "COAD",
          "BRCA",
          "PRAD",
          "LUAD",
          "KIRC",
          "BRCA",
          "BRCA",
          "KIRC",
          "BRCA",
          "LUAD",
          "BRCA",
          "BRCA",
          "PRAD",
          "COAD",
          "BRCA",
          "KIRC",
          "LUAD",
          "PRAD",
          "BRCA",
          "PRAD",
          "BRCA",
          "BRCA",
          "BRCA",
          "BRCA",
          "KIRC",
          "LUAD",
          "BRCA",
          "KIRC",
          "BRCA",
          "BRCA",
          "LUAD",
          "LUAD",
          "KIRC",
          "COAD",
          "PRAD",
          "COAD",
          "BRCA",
          "KIRC",
          "KIRC",
          "BRCA",
          "PRAD",
          "KIRC",
          "COAD",
          "LUAD",
          "LUAD",
          "BRCA",
          "PRAD",
          "PRAD",
          "BRCA",
          "PRAD",
          "LUAD",
          "KIRC",
          "PRAD",
          "BRCA",
          "LUAD",
          "PRAD",
          "LUAD",
          "BRCA",
          "BRCA",
          "COAD",
          "LUAD",
          "KIRC",
          "COAD",
          "LUAD",
          "BRCA",
          "PRAD",
          "BRCA",
          "BRCA",
          "PRAD",
          "BRCA",
          "COAD",
          "BRCA",
          "COAD",
          "KIRC",
          "BRCA",
          "BRCA",
          "LUAD",
          "LUAD",
          "LUAD",
          "COAD",
          "KIRC",
          "LUAD",
          "LUAD",
          "BRCA",
          "BRCA",
          "KIRC",
          "PRAD",
          "LUAD",
          "PRAD",
          "BRCA",
          "KIRC",
          "BRCA",
          "KIRC",
          "KIRC",
          "PRAD",
          "PRAD",
          "LUAD",
          "BRCA",
          "KIRC",
          "COAD",
          "COAD",
          "BRCA",
          "KIRC",
          "KIRC",
          "BRCA",
          "BRCA",
          "PRAD",
          "KIRC",
          "COAD",
          "BRCA",
          "BRCA",
          "COAD",
          "LUAD",
          "BRCA",
          "BRCA",
          "BRCA",
          "KIRC",
          "PRAD",
          "LUAD",
          "LUAD",
          "BRCA",
          "KIRC",
          "COAD",
          "KIRC",
          "KIRC",
          "BRCA",
          "PRAD",
          "LUAD",
          "KIRC",
          "BRCA",
          "COAD",
          "LUAD",
          "LUAD",
          "LUAD",
          "PRAD",
          "LUAD",
          "KIRC",
          "BRCA",
          "BRCA",
          "COAD",
          "PRAD",
          "BRCA",
          "BRCA",
          "BRCA",
          "KIRC",
          "LUAD",
          "LUAD",
          "BRCA",
          "PRAD",
          "LUAD",
          "LUAD",
          "BRCA",
          "KIRC",
          "PRAD",
          "COAD",
          "LUAD",
          "PRAD",
          "COAD",
          "LUAD",
          "COAD",
          "KIRC",
          "KIRC",
          "BRCA",
          "BRCA",
          "KIRC",
          "KIRC",
          "COAD",
          "BRCA",
          "LUAD",
          "PRAD",
          "PRAD",
          "KIRC",
          "BRCA",
          "LUAD",
          "BRCA",
          "BRCA",
          "COAD",
          "BRCA",
          "PRAD",
          "PRAD",
          "BRCA",
          "BRCA",
          "COAD",
          "BRCA",
          "KIRC",
          "BRCA",
          "BRCA",
          "COAD",
          "BRCA",
          "PRAD",
          "BRCA",
          "BRCA",
          "KIRC",
          "PRAD",
          "LUAD",
          "BRCA",
          "BRCA",
          "KIRC",
          "BRCA",
          "BRCA",
          "BRCA",
          "BRCA",
          "BRCA",
          "COAD",
          "LUAD",
          "LUAD",
          "BRCA",
          "BRCA",
          "BRCA",
          "PRAD",
          "BRCA",
          "BRCA",
          "KIRC",
          "LUAD",
          "LUAD",
          "KIRC",
          "KIRC",
          "LUAD",
          "KIRC",
          "COAD",
          "BRCA",
          "COAD",
          "KIRC",
          "BRCA",
          "BRCA",
          "PRAD",
          "PRAD",
          "PRAD",
          "LUAD",
          "PRAD",
          "PRAD",
          "COAD",
          "BRCA",
          "BRCA",
          "COAD",
          "LUAD",
          "KIRC",
          "BRCA",
          "KIRC",
          "COAD",
          "BRCA",
          "BRCA",
          "BRCA",
          "PRAD",
          "LUAD",
          "KIRC",
          "BRCA",
          "PRAD",
          "KIRC",
          "PRAD",
          "BRCA",
          "LUAD",
          "KIRC",
          "PRAD",
          "LUAD",
          "PRAD",
          "PRAD",
          "BRCA",
          "KIRC",
          "PRAD",
          "LUAD",
          "COAD",
          "COAD",
          "BRCA",
          "BRCA",
          "BRCA",
          "LUAD",
          "KIRC",
          "KIRC",
          "KIRC",
          "BRCA",
          "LUAD",
          "KIRC",
          "PRAD",
          "BRCA",
          "LUAD",
          "PRAD",
          "BRCA",
          "PRAD",
          "BRCA",
          "KIRC",
          "BRCA",
          "COAD",
          "PRAD",
          "PRAD",
          "KIRC",
          "PRAD",
          "KIRC",
          "BRCA",
          "LUAD",
          "LUAD",
          "BRCA",
          "BRCA",
          "KIRC",
          "BRCA",
          "BRCA",
          "BRCA",
          "BRCA",
          "KIRC",
          "KIRC",
          "PRAD",
          "COAD",
          "KIRC",
          "BRCA",
          "BRCA",
          "KIRC",
          "BRCA",
          "LUAD",
          "BRCA",
          "BRCA",
          "PRAD",
          "BRCA",
          "PRAD",
          "BRCA",
          "COAD",
          "BRCA",
          "BRCA",
          "KIRC",
          "LUAD",
          "BRCA",
          "BRCA",
          "PRAD",
          "BRCA",
          "PRAD",
          "COAD",
          "BRCA",
          "BRCA",
          "BRCA",
          "LUAD",
          "BRCA",
          "LUAD",
          "BRCA",
          "LUAD",
          "KIRC",
          "KIRC",
          "COAD",
          "COAD",
          "BRCA",
          "BRCA",
          "BRCA",
          "LUAD",
          "BRCA",
          "LUAD",
          "KIRC",
          "BRCA",
          "LUAD",
          "KIRC",
          "LUAD",
          "LUAD",
          "LUAD",
          "KIRC",
          "BRCA",
          "PRAD",
          "BRCA",
          "BRCA",
          "KIRC",
          "BRCA",
          "PRAD",
          "KIRC",
          "BRCA",
          "BRCA",
          "BRCA",
          "BRCA",
          "PRAD",
          "LUAD",
          "BRCA",
          "LUAD",
          "COAD",
          "PRAD",
          "PRAD"
         ],
         "legendgroup": "",
         "name": "",
         "showlegend": true,
         "type": "pie"
        }
       ],
       "layout": {
        "legend": {
         "tracegroupgap": 0
        },
        "piecolorway": [
         "rgb(3, 5, 18)",
         "rgb(25, 25, 51)",
         "rgb(44, 42, 87)",
         "rgb(58, 60, 125)",
         "rgb(62, 83, 160)",
         "rgb(62, 109, 178)",
         "rgb(72, 134, 187)",
         "rgb(89, 159, 196)",
         "rgb(114, 184, 205)",
         "rgb(149, 207, 216)",
         "rgb(192, 229, 232)",
         "rgb(234, 252, 253)"
        ],
        "template": {
         "data": {
          "bar": [
           {
            "error_x": {
             "color": "#2a3f5f"
            },
            "error_y": {
             "color": "#2a3f5f"
            },
            "marker": {
             "line": {
              "color": "#E5ECF6",
              "width": 0.5
             }
            },
            "type": "bar"
           }
          ],
          "barpolar": [
           {
            "marker": {
             "line": {
              "color": "#E5ECF6",
              "width": 0.5
             }
            },
            "type": "barpolar"
           }
          ],
          "carpet": [
           {
            "aaxis": {
             "endlinecolor": "#2a3f5f",
             "gridcolor": "white",
             "linecolor": "white",
             "minorgridcolor": "white",
             "startlinecolor": "#2a3f5f"
            },
            "baxis": {
             "endlinecolor": "#2a3f5f",
             "gridcolor": "white",
             "linecolor": "white",
             "minorgridcolor": "white",
             "startlinecolor": "#2a3f5f"
            },
            "type": "carpet"
           }
          ],
          "choropleth": [
           {
            "colorbar": {
             "outlinewidth": 0,
             "ticks": ""
            },
            "type": "choropleth"
           }
          ],
          "contour": [
           {
            "colorbar": {
             "outlinewidth": 0,
             "ticks": ""
            },
            "colorscale": [
             [
              0,
              "#0d0887"
             ],
             [
              0.1111111111111111,
              "#46039f"
             ],
             [
              0.2222222222222222,
              "#7201a8"
             ],
             [
              0.3333333333333333,
              "#9c179e"
             ],
             [
              0.4444444444444444,
              "#bd3786"
             ],
             [
              0.5555555555555556,
              "#d8576b"
             ],
             [
              0.6666666666666666,
              "#ed7953"
             ],
             [
              0.7777777777777778,
              "#fb9f3a"
             ],
             [
              0.8888888888888888,
              "#fdca26"
             ],
             [
              1,
              "#f0f921"
             ]
            ],
            "type": "contour"
           }
          ],
          "contourcarpet": [
           {
            "colorbar": {
             "outlinewidth": 0,
             "ticks": ""
            },
            "type": "contourcarpet"
           }
          ],
          "heatmap": [
           {
            "colorbar": {
             "outlinewidth": 0,
             "ticks": ""
            },
            "colorscale": [
             [
              0,
              "#0d0887"
             ],
             [
              0.1111111111111111,
              "#46039f"
             ],
             [
              0.2222222222222222,
              "#7201a8"
             ],
             [
              0.3333333333333333,
              "#9c179e"
             ],
             [
              0.4444444444444444,
              "#bd3786"
             ],
             [
              0.5555555555555556,
              "#d8576b"
             ],
             [
              0.6666666666666666,
              "#ed7953"
             ],
             [
              0.7777777777777778,
              "#fb9f3a"
             ],
             [
              0.8888888888888888,
              "#fdca26"
             ],
             [
              1,
              "#f0f921"
             ]
            ],
            "type": "heatmap"
           }
          ],
          "heatmapgl": [
           {
            "colorbar": {
             "outlinewidth": 0,
             "ticks": ""
            },
            "colorscale": [
             [
              0,
              "#0d0887"
             ],
             [
              0.1111111111111111,
              "#46039f"
             ],
             [
              0.2222222222222222,
              "#7201a8"
             ],
             [
              0.3333333333333333,
              "#9c179e"
             ],
             [
              0.4444444444444444,
              "#bd3786"
             ],
             [
              0.5555555555555556,
              "#d8576b"
             ],
             [
              0.6666666666666666,
              "#ed7953"
             ],
             [
              0.7777777777777778,
              "#fb9f3a"
             ],
             [
              0.8888888888888888,
              "#fdca26"
             ],
             [
              1,
              "#f0f921"
             ]
            ],
            "type": "heatmapgl"
           }
          ],
          "histogram": [
           {
            "marker": {
             "colorbar": {
              "outlinewidth": 0,
              "ticks": ""
             }
            },
            "type": "histogram"
           }
          ],
          "histogram2d": [
           {
            "colorbar": {
             "outlinewidth": 0,
             "ticks": ""
            },
            "colorscale": [
             [
              0,
              "#0d0887"
             ],
             [
              0.1111111111111111,
              "#46039f"
             ],
             [
              0.2222222222222222,
              "#7201a8"
             ],
             [
              0.3333333333333333,
              "#9c179e"
             ],
             [
              0.4444444444444444,
              "#bd3786"
             ],
             [
              0.5555555555555556,
              "#d8576b"
             ],
             [
              0.6666666666666666,
              "#ed7953"
             ],
             [
              0.7777777777777778,
              "#fb9f3a"
             ],
             [
              0.8888888888888888,
              "#fdca26"
             ],
             [
              1,
              "#f0f921"
             ]
            ],
            "type": "histogram2d"
           }
          ],
          "histogram2dcontour": [
           {
            "colorbar": {
             "outlinewidth": 0,
             "ticks": ""
            },
            "colorscale": [
             [
              0,
              "#0d0887"
             ],
             [
              0.1111111111111111,
              "#46039f"
             ],
             [
              0.2222222222222222,
              "#7201a8"
             ],
             [
              0.3333333333333333,
              "#9c179e"
             ],
             [
              0.4444444444444444,
              "#bd3786"
             ],
             [
              0.5555555555555556,
              "#d8576b"
             ],
             [
              0.6666666666666666,
              "#ed7953"
             ],
             [
              0.7777777777777778,
              "#fb9f3a"
             ],
             [
              0.8888888888888888,
              "#fdca26"
             ],
             [
              1,
              "#f0f921"
             ]
            ],
            "type": "histogram2dcontour"
           }
          ],
          "mesh3d": [
           {
            "colorbar": {
             "outlinewidth": 0,
             "ticks": ""
            },
            "type": "mesh3d"
           }
          ],
          "parcoords": [
           {
            "line": {
             "colorbar": {
              "outlinewidth": 0,
              "ticks": ""
             }
            },
            "type": "parcoords"
           }
          ],
          "pie": [
           {
            "automargin": true,
            "type": "pie"
           }
          ],
          "scatter": [
           {
            "marker": {
             "colorbar": {
              "outlinewidth": 0,
              "ticks": ""
             }
            },
            "type": "scatter"
           }
          ],
          "scatter3d": [
           {
            "line": {
             "colorbar": {
              "outlinewidth": 0,
              "ticks": ""
             }
            },
            "marker": {
             "colorbar": {
              "outlinewidth": 0,
              "ticks": ""
             }
            },
            "type": "scatter3d"
           }
          ],
          "scattercarpet": [
           {
            "marker": {
             "colorbar": {
              "outlinewidth": 0,
              "ticks": ""
             }
            },
            "type": "scattercarpet"
           }
          ],
          "scattergeo": [
           {
            "marker": {
             "colorbar": {
              "outlinewidth": 0,
              "ticks": ""
             }
            },
            "type": "scattergeo"
           }
          ],
          "scattergl": [
           {
            "marker": {
             "colorbar": {
              "outlinewidth": 0,
              "ticks": ""
             }
            },
            "type": "scattergl"
           }
          ],
          "scattermapbox": [
           {
            "marker": {
             "colorbar": {
              "outlinewidth": 0,
              "ticks": ""
             }
            },
            "type": "scattermapbox"
           }
          ],
          "scatterpolar": [
           {
            "marker": {
             "colorbar": {
              "outlinewidth": 0,
              "ticks": ""
             }
            },
            "type": "scatterpolar"
           }
          ],
          "scatterpolargl": [
           {
            "marker": {
             "colorbar": {
              "outlinewidth": 0,
              "ticks": ""
             }
            },
            "type": "scatterpolargl"
           }
          ],
          "scatterternary": [
           {
            "marker": {
             "colorbar": {
              "outlinewidth": 0,
              "ticks": ""
             }
            },
            "type": "scatterternary"
           }
          ],
          "surface": [
           {
            "colorbar": {
             "outlinewidth": 0,
             "ticks": ""
            },
            "colorscale": [
             [
              0,
              "#0d0887"
             ],
             [
              0.1111111111111111,
              "#46039f"
             ],
             [
              0.2222222222222222,
              "#7201a8"
             ],
             [
              0.3333333333333333,
              "#9c179e"
             ],
             [
              0.4444444444444444,
              "#bd3786"
             ],
             [
              0.5555555555555556,
              "#d8576b"
             ],
             [
              0.6666666666666666,
              "#ed7953"
             ],
             [
              0.7777777777777778,
              "#fb9f3a"
             ],
             [
              0.8888888888888888,
              "#fdca26"
             ],
             [
              1,
              "#f0f921"
             ]
            ],
            "type": "surface"
           }
          ],
          "table": [
           {
            "cells": {
             "fill": {
              "color": "#EBF0F8"
             },
             "line": {
              "color": "white"
             }
            },
            "header": {
             "fill": {
              "color": "#C8D4E3"
             },
             "line": {
              "color": "white"
             }
            },
            "type": "table"
           }
          ]
         },
         "layout": {
          "annotationdefaults": {
           "arrowcolor": "#2a3f5f",
           "arrowhead": 0,
           "arrowwidth": 1
          },
          "autotypenumbers": "strict",
          "coloraxis": {
           "colorbar": {
            "outlinewidth": 0,
            "ticks": ""
           }
          },
          "colorscale": {
           "diverging": [
            [
             0,
             "#8e0152"
            ],
            [
             0.1,
             "#c51b7d"
            ],
            [
             0.2,
             "#de77ae"
            ],
            [
             0.3,
             "#f1b6da"
            ],
            [
             0.4,
             "#fde0ef"
            ],
            [
             0.5,
             "#f7f7f7"
            ],
            [
             0.6,
             "#e6f5d0"
            ],
            [
             0.7,
             "#b8e186"
            ],
            [
             0.8,
             "#7fbc41"
            ],
            [
             0.9,
             "#4d9221"
            ],
            [
             1,
             "#276419"
            ]
           ],
           "sequential": [
            [
             0,
             "#0d0887"
            ],
            [
             0.1111111111111111,
             "#46039f"
            ],
            [
             0.2222222222222222,
             "#7201a8"
            ],
            [
             0.3333333333333333,
             "#9c179e"
            ],
            [
             0.4444444444444444,
             "#bd3786"
            ],
            [
             0.5555555555555556,
             "#d8576b"
            ],
            [
             0.6666666666666666,
             "#ed7953"
            ],
            [
             0.7777777777777778,
             "#fb9f3a"
            ],
            [
             0.8888888888888888,
             "#fdca26"
            ],
            [
             1,
             "#f0f921"
            ]
           ],
           "sequentialminus": [
            [
             0,
             "#0d0887"
            ],
            [
             0.1111111111111111,
             "#46039f"
            ],
            [
             0.2222222222222222,
             "#7201a8"
            ],
            [
             0.3333333333333333,
             "#9c179e"
            ],
            [
             0.4444444444444444,
             "#bd3786"
            ],
            [
             0.5555555555555556,
             "#d8576b"
            ],
            [
             0.6666666666666666,
             "#ed7953"
            ],
            [
             0.7777777777777778,
             "#fb9f3a"
            ],
            [
             0.8888888888888888,
             "#fdca26"
            ],
            [
             1,
             "#f0f921"
            ]
           ]
          },
          "colorway": [
           "#636efa",
           "#EF553B",
           "#00cc96",
           "#ab63fa",
           "#FFA15A",
           "#19d3f3",
           "#FF6692",
           "#B6E880",
           "#FF97FF",
           "#FECB52"
          ],
          "font": {
           "color": "#2a3f5f"
          },
          "geo": {
           "bgcolor": "white",
           "lakecolor": "white",
           "landcolor": "#E5ECF6",
           "showlakes": true,
           "showland": true,
           "subunitcolor": "white"
          },
          "hoverlabel": {
           "align": "left"
          },
          "hovermode": "closest",
          "mapbox": {
           "style": "light"
          },
          "paper_bgcolor": "white",
          "plot_bgcolor": "#E5ECF6",
          "polar": {
           "angularaxis": {
            "gridcolor": "white",
            "linecolor": "white",
            "ticks": ""
           },
           "bgcolor": "#E5ECF6",
           "radialaxis": {
            "gridcolor": "white",
            "linecolor": "white",
            "ticks": ""
           }
          },
          "scene": {
           "xaxis": {
            "backgroundcolor": "#E5ECF6",
            "gridcolor": "white",
            "gridwidth": 2,
            "linecolor": "white",
            "showbackground": true,
            "ticks": "",
            "zerolinecolor": "white"
           },
           "yaxis": {
            "backgroundcolor": "#E5ECF6",
            "gridcolor": "white",
            "gridwidth": 2,
            "linecolor": "white",
            "showbackground": true,
            "ticks": "",
            "zerolinecolor": "white"
           },
           "zaxis": {
            "backgroundcolor": "#E5ECF6",
            "gridcolor": "white",
            "gridwidth": 2,
            "linecolor": "white",
            "showbackground": true,
            "ticks": "",
            "zerolinecolor": "white"
           }
          },
          "shapedefaults": {
           "line": {
            "color": "#2a3f5f"
           }
          },
          "ternary": {
           "aaxis": {
            "gridcolor": "white",
            "linecolor": "white",
            "ticks": ""
           },
           "baxis": {
            "gridcolor": "white",
            "linecolor": "white",
            "ticks": ""
           },
           "bgcolor": "#E5ECF6",
           "caxis": {
            "gridcolor": "white",
            "linecolor": "white",
            "ticks": ""
           }
          },
          "title": {
           "x": 0.05
          },
          "xaxis": {
           "automargin": true,
           "gridcolor": "white",
           "linecolor": "white",
           "ticks": "",
           "title": {
            "standoff": 15
           },
           "zerolinecolor": "white",
           "zerolinewidth": 2
          },
          "yaxis": {
           "automargin": true,
           "gridcolor": "white",
           "linecolor": "white",
           "ticks": "",
           "title": {
            "standoff": 15
           },
           "zerolinecolor": "white",
           "zerolinewidth": 2
          }
         }
        },
        "title": {
         "text": "Tumor Types"
        }
       }
      },
      "text/html": [
       "<div>                            <div id=\"afcf960b-2a32-4731-b36e-c85590c405fb\" class=\"plotly-graph-div\" style=\"height:525px; width:100%;\"></div>            <script type=\"text/javascript\">                require([\"plotly\"], function(Plotly) {                    window.PLOTLYENV=window.PLOTLYENV || {};                                    if (document.getElementById(\"afcf960b-2a32-4731-b36e-c85590c405fb\")) {                    Plotly.newPlot(                        \"afcf960b-2a32-4731-b36e-c85590c405fb\",                        [{\"domain\": {\"x\": [0.0, 1.0], \"y\": [0.0, 1.0]}, \"hovertemplate\": \"Class=%{label}<extra></extra>\", \"labels\": [\"PRAD\", \"LUAD\", \"PRAD\", \"PRAD\", \"BRCA\", \"PRAD\", \"KIRC\", \"PRAD\", \"BRCA\", \"PRAD\", \"BRCA\", \"KIRC\", \"PRAD\", \"BRCA\", \"BRCA\", \"BRCA\", \"LUAD\", \"KIRC\", \"KIRC\", \"PRAD\", \"BRCA\", \"KIRC\", \"LUAD\", \"BRCA\", \"KIRC\", \"LUAD\", \"COAD\", \"BRCA\", \"BRCA\", \"BRCA\", \"BRCA\", \"BRCA\", \"KIRC\", \"BRCA\", \"PRAD\", \"BRCA\", \"KIRC\", \"LUAD\", \"BRCA\", \"BRCA\", \"KIRC\", \"PRAD\", \"PRAD\", \"KIRC\", \"KIRC\", \"BRCA\", \"PRAD\", \"COAD\", \"BRCA\", \"LUAD\", \"BRCA\", \"LUAD\", \"BRCA\", \"PRAD\", \"COAD\", \"BRCA\", \"BRCA\", \"COAD\", \"KIRC\", \"BRCA\", \"LUAD\", \"KIRC\", \"BRCA\", \"LUAD\", \"PRAD\", \"COAD\", \"BRCA\", \"PRAD\", \"KIRC\", \"BRCA\", \"KIRC\", \"BRCA\", \"BRCA\", \"LUAD\", \"BRCA\", \"LUAD\", \"BRCA\", \"KIRC\", \"PRAD\", \"COAD\", \"BRCA\", \"PRAD\", \"BRCA\", \"BRCA\", \"PRAD\", \"PRAD\", \"BRCA\", \"BRCA\", \"KIRC\", \"BRCA\", \"PRAD\", \"PRAD\", \"BRCA\", \"BRCA\", \"BRCA\", \"PRAD\", \"COAD\", \"BRCA\", \"PRAD\", \"BRCA\", \"BRCA\", \"KIRC\", \"BRCA\", \"KIRC\", \"LUAD\", \"KIRC\", \"LUAD\", \"COAD\", \"LUAD\", \"LUAD\", \"PRAD\", \"BRCA\", \"LUAD\", \"PRAD\", \"BRCA\", \"KIRC\", \"KIRC\", \"KIRC\", \"BRCA\", \"BRCA\", \"LUAD\", \"KIRC\", \"LUAD\", \"BRCA\", \"PRAD\", \"PRAD\", \"PRAD\", \"BRCA\", \"KIRC\", \"LUAD\", \"COAD\", \"BRCA\", \"COAD\", \"BRCA\", \"BRCA\", \"KIRC\", \"LUAD\", \"BRCA\", \"KIRC\", \"COAD\", \"BRCA\", \"PRAD\", \"BRCA\", \"KIRC\", \"LUAD\", \"COAD\", \"PRAD\", \"BRCA\", \"LUAD\", \"LUAD\", \"LUAD\", \"LUAD\", \"BRCA\", \"BRCA\", \"LUAD\", \"BRCA\", \"BRCA\", \"PRAD\", \"PRAD\", \"LUAD\", \"PRAD\", \"LUAD\", \"KIRC\", \"BRCA\", \"PRAD\", \"LUAD\", \"COAD\", \"KIRC\", \"LUAD\", \"BRCA\", \"KIRC\", \"LUAD\", \"BRCA\", \"LUAD\", \"BRCA\", \"BRCA\", \"BRCA\", \"PRAD\", \"BRCA\", \"KIRC\", \"COAD\", \"KIRC\", \"BRCA\", \"PRAD\", \"PRAD\", \"PRAD\", \"LUAD\", \"LUAD\", \"BRCA\", \"LUAD\", \"LUAD\", \"KIRC\", \"LUAD\", \"PRAD\", \"LUAD\", \"BRCA\", \"BRCA\", \"BRCA\", \"LUAD\", \"LUAD\", \"BRCA\", \"KIRC\", \"KIRC\", \"KIRC\", \"KIRC\", \"PRAD\", \"BRCA\", \"PRAD\", \"BRCA\", \"LUAD\", \"LUAD\", \"BRCA\", \"PRAD\", \"BRCA\", \"PRAD\", \"BRCA\", \"BRCA\", \"BRCA\", \"LUAD\", \"BRCA\", \"KIRC\", \"LUAD\", \"KIRC\", \"KIRC\", \"LUAD\", \"BRCA\", \"KIRC\", \"PRAD\", \"BRCA\", \"LUAD\", \"LUAD\", \"PRAD\", \"COAD\", \"BRCA\", \"KIRC\", \"PRAD\", \"KIRC\", \"COAD\", \"BRCA\", \"KIRC\", \"KIRC\", \"LUAD\", \"PRAD\", \"PRAD\", \"LUAD\", \"LUAD\", \"KIRC\", \"BRCA\", \"BRCA\", \"COAD\", \"BRCA\", \"PRAD\", \"COAD\", \"BRCA\", \"PRAD\", \"KIRC\", \"PRAD\", \"PRAD\", \"PRAD\", \"BRCA\", \"COAD\", \"COAD\", \"LUAD\", \"COAD\", \"COAD\", \"PRAD\", \"LUAD\", \"BRCA\", \"BRCA\", \"KIRC\", \"KIRC\", \"BRCA\", \"COAD\", \"PRAD\", \"KIRC\", \"PRAD\", \"BRCA\", \"BRCA\", \"KIRC\", \"BRCA\", \"BRCA\", \"BRCA\", \"BRCA\", \"LUAD\", \"LUAD\", \"BRCA\", \"BRCA\", \"BRCA\", \"KIRC\", \"KIRC\", \"KIRC\", \"KIRC\", \"BRCA\", \"BRCA\", \"BRCA\", \"KIRC\", \"BRCA\", \"BRCA\", \"LUAD\", \"PRAD\", \"BRCA\", \"BRCA\", \"COAD\", \"LUAD\", \"PRAD\", \"BRCA\", \"BRCA\", \"BRCA\", \"COAD\", \"BRCA\", \"PRAD\", \"BRCA\", \"COAD\", \"LUAD\", \"LUAD\", \"PRAD\", \"KIRC\", \"BRCA\", \"KIRC\", \"KIRC\", \"LUAD\", \"COAD\", \"KIRC\", \"BRCA\", \"BRCA\", \"BRCA\", \"BRCA\", \"KIRC\", \"BRCA\", \"BRCA\", \"PRAD\", \"BRCA\", \"KIRC\", \"BRCA\", \"LUAD\", \"PRAD\", \"KIRC\", \"BRCA\", \"PRAD\", \"COAD\", \"BRCA\", \"BRCA\", \"BRCA\", \"LUAD\", \"LUAD\", \"LUAD\", \"BRCA\", \"BRCA\", \"PRAD\", \"LUAD\", \"BRCA\", \"KIRC\", \"BRCA\", \"COAD\", \"COAD\", \"LUAD\", \"BRCA\", \"KIRC\", \"BRCA\", \"BRCA\", \"BRCA\", \"COAD\", \"LUAD\", \"COAD\", \"KIRC\", \"PRAD\", \"KIRC\", \"BRCA\", \"BRCA\", \"KIRC\", \"BRCA\", \"COAD\", \"PRAD\", \"LUAD\", \"PRAD\", \"BRCA\", \"KIRC\", \"PRAD\", \"BRCA\", \"COAD\", \"KIRC\", \"KIRC\", \"COAD\", \"COAD\", \"PRAD\", \"BRCA\", \"BRCA\", \"COAD\", \"KIRC\", \"BRCA\", \"PRAD\", \"BRCA\", \"BRCA\", \"BRCA\", \"LUAD\", \"LUAD\", \"KIRC\", \"LUAD\", \"BRCA\", \"KIRC\", \"COAD\", \"PRAD\", \"BRCA\", \"LUAD\", \"PRAD\", \"BRCA\", \"BRCA\", \"BRCA\", \"LUAD\", \"BRCA\", \"BRCA\", \"PRAD\", \"BRCA\", \"PRAD\", \"COAD\", \"BRCA\", \"LUAD\", \"BRCA\", \"BRCA\", \"LUAD\", \"BRCA\", \"BRCA\", \"BRCA\", \"KIRC\", \"LUAD\", \"PRAD\", \"BRCA\", \"PRAD\", \"KIRC\", \"BRCA\", \"KIRC\", \"COAD\", \"BRCA\", \"PRAD\", \"LUAD\", \"KIRC\", \"BRCA\", \"BRCA\", \"KIRC\", \"BRCA\", \"LUAD\", \"BRCA\", \"BRCA\", \"PRAD\", \"COAD\", \"BRCA\", \"KIRC\", \"LUAD\", \"PRAD\", \"BRCA\", \"PRAD\", \"BRCA\", \"BRCA\", \"BRCA\", \"BRCA\", \"KIRC\", \"LUAD\", \"BRCA\", \"KIRC\", \"BRCA\", \"BRCA\", \"LUAD\", \"LUAD\", \"KIRC\", \"COAD\", \"PRAD\", \"COAD\", \"BRCA\", \"KIRC\", \"KIRC\", \"BRCA\", \"PRAD\", \"KIRC\", \"COAD\", \"LUAD\", \"LUAD\", \"BRCA\", \"PRAD\", \"PRAD\", \"BRCA\", \"PRAD\", \"LUAD\", \"KIRC\", \"PRAD\", \"BRCA\", \"LUAD\", \"PRAD\", \"LUAD\", \"BRCA\", \"BRCA\", \"COAD\", \"LUAD\", \"KIRC\", \"COAD\", \"LUAD\", \"BRCA\", \"PRAD\", \"BRCA\", \"BRCA\", \"PRAD\", \"BRCA\", \"COAD\", \"BRCA\", \"COAD\", \"KIRC\", \"BRCA\", \"BRCA\", \"LUAD\", \"LUAD\", \"LUAD\", \"COAD\", \"KIRC\", \"LUAD\", \"LUAD\", \"BRCA\", \"BRCA\", \"KIRC\", \"PRAD\", \"LUAD\", \"PRAD\", \"BRCA\", \"KIRC\", \"BRCA\", \"KIRC\", \"KIRC\", \"PRAD\", \"PRAD\", \"LUAD\", \"BRCA\", \"KIRC\", \"COAD\", \"COAD\", \"BRCA\", \"KIRC\", \"KIRC\", \"BRCA\", \"BRCA\", \"PRAD\", \"KIRC\", \"COAD\", \"BRCA\", \"BRCA\", \"COAD\", \"LUAD\", \"BRCA\", \"BRCA\", \"BRCA\", \"KIRC\", \"PRAD\", \"LUAD\", \"LUAD\", \"BRCA\", \"KIRC\", \"COAD\", \"KIRC\", \"KIRC\", \"BRCA\", \"PRAD\", \"LUAD\", \"KIRC\", \"BRCA\", \"COAD\", \"LUAD\", \"LUAD\", \"LUAD\", \"PRAD\", \"LUAD\", \"KIRC\", \"BRCA\", \"BRCA\", \"COAD\", \"PRAD\", \"BRCA\", \"BRCA\", \"BRCA\", \"KIRC\", \"LUAD\", \"LUAD\", \"BRCA\", \"PRAD\", \"LUAD\", \"LUAD\", \"BRCA\", \"KIRC\", \"PRAD\", \"COAD\", \"LUAD\", \"PRAD\", \"COAD\", \"LUAD\", \"COAD\", \"KIRC\", \"KIRC\", \"BRCA\", \"BRCA\", \"KIRC\", \"KIRC\", \"COAD\", \"BRCA\", \"LUAD\", \"PRAD\", \"PRAD\", \"KIRC\", \"BRCA\", \"LUAD\", \"BRCA\", \"BRCA\", \"COAD\", \"BRCA\", \"PRAD\", \"PRAD\", \"BRCA\", \"BRCA\", \"COAD\", \"BRCA\", \"KIRC\", \"BRCA\", \"BRCA\", \"COAD\", \"BRCA\", \"PRAD\", \"BRCA\", \"BRCA\", \"KIRC\", \"PRAD\", \"LUAD\", \"BRCA\", \"BRCA\", \"KIRC\", \"BRCA\", \"BRCA\", \"BRCA\", \"BRCA\", \"BRCA\", \"COAD\", \"LUAD\", \"LUAD\", \"BRCA\", \"BRCA\", \"BRCA\", \"PRAD\", \"BRCA\", \"BRCA\", \"KIRC\", \"LUAD\", \"LUAD\", \"KIRC\", \"KIRC\", \"LUAD\", \"KIRC\", \"COAD\", \"BRCA\", \"COAD\", \"KIRC\", \"BRCA\", \"BRCA\", \"PRAD\", \"PRAD\", \"PRAD\", \"LUAD\", \"PRAD\", \"PRAD\", \"COAD\", \"BRCA\", \"BRCA\", \"COAD\", \"LUAD\", \"KIRC\", \"BRCA\", \"KIRC\", \"COAD\", \"BRCA\", \"BRCA\", \"BRCA\", \"PRAD\", \"LUAD\", \"KIRC\", \"BRCA\", \"PRAD\", \"KIRC\", \"PRAD\", \"BRCA\", \"LUAD\", \"KIRC\", \"PRAD\", \"LUAD\", \"PRAD\", \"PRAD\", \"BRCA\", \"KIRC\", \"PRAD\", \"LUAD\", \"COAD\", \"COAD\", \"BRCA\", \"BRCA\", \"BRCA\", \"LUAD\", \"KIRC\", \"KIRC\", \"KIRC\", \"BRCA\", \"LUAD\", \"KIRC\", \"PRAD\", \"BRCA\", \"LUAD\", \"PRAD\", \"BRCA\", \"PRAD\", \"BRCA\", \"KIRC\", \"BRCA\", \"COAD\", \"PRAD\", \"PRAD\", \"KIRC\", \"PRAD\", \"KIRC\", \"BRCA\", \"LUAD\", \"LUAD\", \"BRCA\", \"BRCA\", \"KIRC\", \"BRCA\", \"BRCA\", \"BRCA\", \"BRCA\", \"KIRC\", \"KIRC\", \"PRAD\", \"COAD\", \"KIRC\", \"BRCA\", \"BRCA\", \"KIRC\", \"BRCA\", \"LUAD\", \"BRCA\", \"BRCA\", \"PRAD\", \"BRCA\", \"PRAD\", \"BRCA\", \"COAD\", \"BRCA\", \"BRCA\", \"KIRC\", \"LUAD\", \"BRCA\", \"BRCA\", \"PRAD\", \"BRCA\", \"PRAD\", \"COAD\", \"BRCA\", \"BRCA\", \"BRCA\", \"LUAD\", \"BRCA\", \"LUAD\", \"BRCA\", \"LUAD\", \"KIRC\", \"KIRC\", \"COAD\", \"COAD\", \"BRCA\", \"BRCA\", \"BRCA\", \"LUAD\", \"BRCA\", \"LUAD\", \"KIRC\", \"BRCA\", \"LUAD\", \"KIRC\", \"LUAD\", \"LUAD\", \"LUAD\", \"KIRC\", \"BRCA\", \"PRAD\", \"BRCA\", \"BRCA\", \"KIRC\", \"BRCA\", \"PRAD\", \"KIRC\", \"BRCA\", \"BRCA\", \"BRCA\", \"BRCA\", \"PRAD\", \"LUAD\", \"BRCA\", \"LUAD\", \"COAD\", \"PRAD\", \"PRAD\"], \"legendgroup\": \"\", \"name\": \"\", \"showlegend\": true, \"type\": \"pie\"}],                        {\"legend\": {\"tracegroupgap\": 0}, \"piecolorway\": [\"rgb(3, 5, 18)\", \"rgb(25, 25, 51)\", \"rgb(44, 42, 87)\", \"rgb(58, 60, 125)\", \"rgb(62, 83, 160)\", \"rgb(62, 109, 178)\", \"rgb(72, 134, 187)\", \"rgb(89, 159, 196)\", \"rgb(114, 184, 205)\", \"rgb(149, 207, 216)\", \"rgb(192, 229, 232)\", \"rgb(234, 252, 253)\"], \"template\": {\"data\": {\"bar\": [{\"error_x\": {\"color\": \"#2a3f5f\"}, \"error_y\": {\"color\": \"#2a3f5f\"}, \"marker\": {\"line\": {\"color\": \"#E5ECF6\", \"width\": 0.5}}, \"type\": \"bar\"}], \"barpolar\": [{\"marker\": {\"line\": {\"color\": \"#E5ECF6\", \"width\": 0.5}}, \"type\": \"barpolar\"}], \"carpet\": [{\"aaxis\": {\"endlinecolor\": \"#2a3f5f\", \"gridcolor\": \"white\", \"linecolor\": \"white\", \"minorgridcolor\": \"white\", \"startlinecolor\": \"#2a3f5f\"}, \"baxis\": {\"endlinecolor\": \"#2a3f5f\", \"gridcolor\": \"white\", \"linecolor\": \"white\", \"minorgridcolor\": \"white\", \"startlinecolor\": \"#2a3f5f\"}, \"type\": \"carpet\"}], \"choropleth\": [{\"colorbar\": {\"outlinewidth\": 0, \"ticks\": \"\"}, \"type\": \"choropleth\"}], \"contour\": [{\"colorbar\": {\"outlinewidth\": 0, \"ticks\": \"\"}, \"colorscale\": [[0.0, \"#0d0887\"], [0.1111111111111111, \"#46039f\"], [0.2222222222222222, \"#7201a8\"], [0.3333333333333333, \"#9c179e\"], [0.4444444444444444, \"#bd3786\"], [0.5555555555555556, \"#d8576b\"], [0.6666666666666666, \"#ed7953\"], [0.7777777777777778, \"#fb9f3a\"], [0.8888888888888888, \"#fdca26\"], [1.0, \"#f0f921\"]], \"type\": \"contour\"}], \"contourcarpet\": [{\"colorbar\": {\"outlinewidth\": 0, \"ticks\": \"\"}, \"type\": \"contourcarpet\"}], \"heatmap\": [{\"colorbar\": {\"outlinewidth\": 0, \"ticks\": \"\"}, \"colorscale\": [[0.0, \"#0d0887\"], [0.1111111111111111, \"#46039f\"], [0.2222222222222222, \"#7201a8\"], [0.3333333333333333, \"#9c179e\"], [0.4444444444444444, \"#bd3786\"], [0.5555555555555556, \"#d8576b\"], [0.6666666666666666, \"#ed7953\"], [0.7777777777777778, \"#fb9f3a\"], [0.8888888888888888, \"#fdca26\"], [1.0, \"#f0f921\"]], \"type\": \"heatmap\"}], \"heatmapgl\": [{\"colorbar\": {\"outlinewidth\": 0, \"ticks\": \"\"}, \"colorscale\": [[0.0, \"#0d0887\"], [0.1111111111111111, \"#46039f\"], [0.2222222222222222, \"#7201a8\"], [0.3333333333333333, \"#9c179e\"], [0.4444444444444444, \"#bd3786\"], [0.5555555555555556, \"#d8576b\"], [0.6666666666666666, \"#ed7953\"], [0.7777777777777778, \"#fb9f3a\"], [0.8888888888888888, \"#fdca26\"], [1.0, \"#f0f921\"]], \"type\": \"heatmapgl\"}], \"histogram\": [{\"marker\": {\"colorbar\": {\"outlinewidth\": 0, \"ticks\": \"\"}}, \"type\": \"histogram\"}], \"histogram2d\": [{\"colorbar\": {\"outlinewidth\": 0, \"ticks\": \"\"}, \"colorscale\": [[0.0, \"#0d0887\"], [0.1111111111111111, \"#46039f\"], [0.2222222222222222, \"#7201a8\"], [0.3333333333333333, \"#9c179e\"], [0.4444444444444444, \"#bd3786\"], [0.5555555555555556, \"#d8576b\"], [0.6666666666666666, \"#ed7953\"], [0.7777777777777778, \"#fb9f3a\"], [0.8888888888888888, \"#fdca26\"], [1.0, \"#f0f921\"]], \"type\": \"histogram2d\"}], \"histogram2dcontour\": [{\"colorbar\": {\"outlinewidth\": 0, \"ticks\": \"\"}, \"colorscale\": [[0.0, \"#0d0887\"], [0.1111111111111111, \"#46039f\"], [0.2222222222222222, \"#7201a8\"], [0.3333333333333333, \"#9c179e\"], [0.4444444444444444, \"#bd3786\"], [0.5555555555555556, \"#d8576b\"], [0.6666666666666666, \"#ed7953\"], [0.7777777777777778, \"#fb9f3a\"], [0.8888888888888888, \"#fdca26\"], [1.0, \"#f0f921\"]], \"type\": \"histogram2dcontour\"}], \"mesh3d\": [{\"colorbar\": {\"outlinewidth\": 0, \"ticks\": \"\"}, \"type\": \"mesh3d\"}], \"parcoords\": [{\"line\": {\"colorbar\": {\"outlinewidth\": 0, \"ticks\": \"\"}}, \"type\": \"parcoords\"}], \"pie\": [{\"automargin\": true, \"type\": \"pie\"}], \"scatter\": [{\"marker\": {\"colorbar\": {\"outlinewidth\": 0, \"ticks\": \"\"}}, \"type\": \"scatter\"}], \"scatter3d\": [{\"line\": {\"colorbar\": {\"outlinewidth\": 0, \"ticks\": \"\"}}, \"marker\": {\"colorbar\": {\"outlinewidth\": 0, \"ticks\": \"\"}}, \"type\": \"scatter3d\"}], \"scattercarpet\": [{\"marker\": {\"colorbar\": {\"outlinewidth\": 0, \"ticks\": \"\"}}, \"type\": \"scattercarpet\"}], \"scattergeo\": [{\"marker\": {\"colorbar\": {\"outlinewidth\": 0, \"ticks\": \"\"}}, \"type\": \"scattergeo\"}], \"scattergl\": [{\"marker\": {\"colorbar\": {\"outlinewidth\": 0, \"ticks\": \"\"}}, \"type\": \"scattergl\"}], \"scattermapbox\": [{\"marker\": {\"colorbar\": {\"outlinewidth\": 0, \"ticks\": \"\"}}, \"type\": \"scattermapbox\"}], \"scatterpolar\": [{\"marker\": {\"colorbar\": {\"outlinewidth\": 0, \"ticks\": \"\"}}, \"type\": \"scatterpolar\"}], \"scatterpolargl\": [{\"marker\": {\"colorbar\": {\"outlinewidth\": 0, \"ticks\": \"\"}}, \"type\": \"scatterpolargl\"}], \"scatterternary\": [{\"marker\": {\"colorbar\": {\"outlinewidth\": 0, \"ticks\": \"\"}}, \"type\": \"scatterternary\"}], \"surface\": [{\"colorbar\": {\"outlinewidth\": 0, \"ticks\": \"\"}, \"colorscale\": [[0.0, \"#0d0887\"], [0.1111111111111111, \"#46039f\"], [0.2222222222222222, \"#7201a8\"], [0.3333333333333333, \"#9c179e\"], [0.4444444444444444, \"#bd3786\"], [0.5555555555555556, \"#d8576b\"], [0.6666666666666666, \"#ed7953\"], [0.7777777777777778, \"#fb9f3a\"], [0.8888888888888888, \"#fdca26\"], [1.0, \"#f0f921\"]], \"type\": \"surface\"}], \"table\": [{\"cells\": {\"fill\": {\"color\": \"#EBF0F8\"}, \"line\": {\"color\": \"white\"}}, \"header\": {\"fill\": {\"color\": \"#C8D4E3\"}, \"line\": {\"color\": \"white\"}}, \"type\": \"table\"}]}, \"layout\": {\"annotationdefaults\": {\"arrowcolor\": \"#2a3f5f\", \"arrowhead\": 0, \"arrowwidth\": 1}, \"autotypenumbers\": \"strict\", \"coloraxis\": {\"colorbar\": {\"outlinewidth\": 0, \"ticks\": \"\"}}, \"colorscale\": {\"diverging\": [[0, \"#8e0152\"], [0.1, \"#c51b7d\"], [0.2, \"#de77ae\"], [0.3, \"#f1b6da\"], [0.4, \"#fde0ef\"], [0.5, \"#f7f7f7\"], [0.6, \"#e6f5d0\"], [0.7, \"#b8e186\"], [0.8, \"#7fbc41\"], [0.9, \"#4d9221\"], [1, \"#276419\"]], \"sequential\": [[0.0, \"#0d0887\"], [0.1111111111111111, \"#46039f\"], [0.2222222222222222, \"#7201a8\"], [0.3333333333333333, \"#9c179e\"], [0.4444444444444444, \"#bd3786\"], [0.5555555555555556, \"#d8576b\"], [0.6666666666666666, \"#ed7953\"], [0.7777777777777778, \"#fb9f3a\"], [0.8888888888888888, \"#fdca26\"], [1.0, \"#f0f921\"]], \"sequentialminus\": [[0.0, \"#0d0887\"], [0.1111111111111111, \"#46039f\"], [0.2222222222222222, \"#7201a8\"], [0.3333333333333333, \"#9c179e\"], [0.4444444444444444, \"#bd3786\"], [0.5555555555555556, \"#d8576b\"], [0.6666666666666666, \"#ed7953\"], [0.7777777777777778, \"#fb9f3a\"], [0.8888888888888888, \"#fdca26\"], [1.0, \"#f0f921\"]]}, \"colorway\": [\"#636efa\", \"#EF553B\", \"#00cc96\", \"#ab63fa\", \"#FFA15A\", \"#19d3f3\", \"#FF6692\", \"#B6E880\", \"#FF97FF\", \"#FECB52\"], \"font\": {\"color\": \"#2a3f5f\"}, \"geo\": {\"bgcolor\": \"white\", \"lakecolor\": \"white\", \"landcolor\": \"#E5ECF6\", \"showlakes\": true, \"showland\": true, \"subunitcolor\": \"white\"}, \"hoverlabel\": {\"align\": \"left\"}, \"hovermode\": \"closest\", \"mapbox\": {\"style\": \"light\"}, \"paper_bgcolor\": \"white\", \"plot_bgcolor\": \"#E5ECF6\", \"polar\": {\"angularaxis\": {\"gridcolor\": \"white\", \"linecolor\": \"white\", \"ticks\": \"\"}, \"bgcolor\": \"#E5ECF6\", \"radialaxis\": {\"gridcolor\": \"white\", \"linecolor\": \"white\", \"ticks\": \"\"}}, \"scene\": {\"xaxis\": {\"backgroundcolor\": \"#E5ECF6\", \"gridcolor\": \"white\", \"gridwidth\": 2, \"linecolor\": \"white\", \"showbackground\": true, \"ticks\": \"\", \"zerolinecolor\": \"white\"}, \"yaxis\": {\"backgroundcolor\": \"#E5ECF6\", \"gridcolor\": \"white\", \"gridwidth\": 2, \"linecolor\": \"white\", \"showbackground\": true, \"ticks\": \"\", \"zerolinecolor\": \"white\"}, \"zaxis\": {\"backgroundcolor\": \"#E5ECF6\", \"gridcolor\": \"white\", \"gridwidth\": 2, \"linecolor\": \"white\", \"showbackground\": true, \"ticks\": \"\", \"zerolinecolor\": \"white\"}}, \"shapedefaults\": {\"line\": {\"color\": \"#2a3f5f\"}}, \"ternary\": {\"aaxis\": {\"gridcolor\": \"white\", \"linecolor\": \"white\", \"ticks\": \"\"}, \"baxis\": {\"gridcolor\": \"white\", \"linecolor\": \"white\", \"ticks\": \"\"}, \"bgcolor\": \"#E5ECF6\", \"caxis\": {\"gridcolor\": \"white\", \"linecolor\": \"white\", \"ticks\": \"\"}}, \"title\": {\"x\": 0.05}, \"xaxis\": {\"automargin\": true, \"gridcolor\": \"white\", \"linecolor\": \"white\", \"ticks\": \"\", \"title\": {\"standoff\": 15}, \"zerolinecolor\": \"white\", \"zerolinewidth\": 2}, \"yaxis\": {\"automargin\": true, \"gridcolor\": \"white\", \"linecolor\": \"white\", \"ticks\": \"\", \"title\": {\"standoff\": 15}, \"zerolinecolor\": \"white\", \"zerolinewidth\": 2}}}, \"title\": {\"text\": \"Tumor Types\"}},                        {\"responsive\": true}                    ).then(function(){\n",
       "                            \n",
       "var gd = document.getElementById('afcf960b-2a32-4731-b36e-c85590c405fb');\n",
       "var x = new MutationObserver(function (mutations, observer) {{\n",
       "        var display = window.getComputedStyle(gd).display;\n",
       "        if (!display || display === 'none') {{\n",
       "            console.log([gd, 'removed!']);\n",
       "            Plotly.purge(gd);\n",
       "            observer.disconnect();\n",
       "        }}\n",
       "}});\n",
       "\n",
       "// Listen for the removal of the full notebook cells\n",
       "var notebookContainer = gd.closest('#notebook-container');\n",
       "if (notebookContainer) {{\n",
       "    x.observe(notebookContainer, {childList: true});\n",
       "}}\n",
       "\n",
       "// Listen for the clearing of the current output cell\n",
       "var outputEl = gd.closest('.output');\n",
       "if (outputEl) {{\n",
       "    x.observe(outputEl, {childList: true});\n",
       "}}\n",
       "\n",
       "                        })                };                });            </script>        </div>"
      ]
     },
     "metadata": {},
     "output_type": "display_data"
    }
   ],
   "source": [
    "px.pie(y, names='Class',\n",
    "       title='Tumor Types',\n",
    "       color_discrete_sequence=px.colors.sequential.ice)"
   ]
  },
  {
   "cell_type": "code",
   "execution_count": 10,
   "metadata": {
    "scrolled": false
   },
   "outputs": [
    {
     "data": {
      "application/vnd.plotly.v1+json": {
       "config": {
        "plotlyServerURL": "https://plot.ly"
       },
       "data": [
        {
         "alignmentgroup": "True",
         "bingroup": "x",
         "hovertemplate": "variable=Class<br>value=%{x}<br>count=%{y}<extra></extra>",
         "legendgroup": "Class",
         "marker": {
          "color": "#636efa"
         },
         "name": "Class",
         "nbinsx": 5,
         "offsetgroup": "Class",
         "orientation": "v",
         "showlegend": true,
         "type": "histogram",
         "x": [
          "PRAD",
          "LUAD",
          "PRAD",
          "PRAD",
          "BRCA",
          "PRAD",
          "KIRC",
          "PRAD",
          "BRCA",
          "PRAD",
          "BRCA",
          "KIRC",
          "PRAD",
          "BRCA",
          "BRCA",
          "BRCA",
          "LUAD",
          "KIRC",
          "KIRC",
          "PRAD",
          "BRCA",
          "KIRC",
          "LUAD",
          "BRCA",
          "KIRC",
          "LUAD",
          "COAD",
          "BRCA",
          "BRCA",
          "BRCA",
          "BRCA",
          "BRCA",
          "KIRC",
          "BRCA",
          "PRAD",
          "BRCA",
          "KIRC",
          "LUAD",
          "BRCA",
          "BRCA",
          "KIRC",
          "PRAD",
          "PRAD",
          "KIRC",
          "KIRC",
          "BRCA",
          "PRAD",
          "COAD",
          "BRCA",
          "LUAD",
          "BRCA",
          "LUAD",
          "BRCA",
          "PRAD",
          "COAD",
          "BRCA",
          "BRCA",
          "COAD",
          "KIRC",
          "BRCA",
          "LUAD",
          "KIRC",
          "BRCA",
          "LUAD",
          "PRAD",
          "COAD",
          "BRCA",
          "PRAD",
          "KIRC",
          "BRCA",
          "KIRC",
          "BRCA",
          "BRCA",
          "LUAD",
          "BRCA",
          "LUAD",
          "BRCA",
          "KIRC",
          "PRAD",
          "COAD",
          "BRCA",
          "PRAD",
          "BRCA",
          "BRCA",
          "PRAD",
          "PRAD",
          "BRCA",
          "BRCA",
          "KIRC",
          "BRCA",
          "PRAD",
          "PRAD",
          "BRCA",
          "BRCA",
          "BRCA",
          "PRAD",
          "COAD",
          "BRCA",
          "PRAD",
          "BRCA",
          "BRCA",
          "KIRC",
          "BRCA",
          "KIRC",
          "LUAD",
          "KIRC",
          "LUAD",
          "COAD",
          "LUAD",
          "LUAD",
          "PRAD",
          "BRCA",
          "LUAD",
          "PRAD",
          "BRCA",
          "KIRC",
          "KIRC",
          "KIRC",
          "BRCA",
          "BRCA",
          "LUAD",
          "KIRC",
          "LUAD",
          "BRCA",
          "PRAD",
          "PRAD",
          "PRAD",
          "BRCA",
          "KIRC",
          "LUAD",
          "COAD",
          "BRCA",
          "COAD",
          "BRCA",
          "BRCA",
          "KIRC",
          "LUAD",
          "BRCA",
          "KIRC",
          "COAD",
          "BRCA",
          "PRAD",
          "BRCA",
          "KIRC",
          "LUAD",
          "COAD",
          "PRAD",
          "BRCA",
          "LUAD",
          "LUAD",
          "LUAD",
          "LUAD",
          "BRCA",
          "BRCA",
          "LUAD",
          "BRCA",
          "BRCA",
          "PRAD",
          "PRAD",
          "LUAD",
          "PRAD",
          "LUAD",
          "KIRC",
          "BRCA",
          "PRAD",
          "LUAD",
          "COAD",
          "KIRC",
          "LUAD",
          "BRCA",
          "KIRC",
          "LUAD",
          "BRCA",
          "LUAD",
          "BRCA",
          "BRCA",
          "BRCA",
          "PRAD",
          "BRCA",
          "KIRC",
          "COAD",
          "KIRC",
          "BRCA",
          "PRAD",
          "PRAD",
          "PRAD",
          "LUAD",
          "LUAD",
          "BRCA",
          "LUAD",
          "LUAD",
          "KIRC",
          "LUAD",
          "PRAD",
          "LUAD",
          "BRCA",
          "BRCA",
          "BRCA",
          "LUAD",
          "LUAD",
          "BRCA",
          "KIRC",
          "KIRC",
          "KIRC",
          "KIRC",
          "PRAD",
          "BRCA",
          "PRAD",
          "BRCA",
          "LUAD",
          "LUAD",
          "BRCA",
          "PRAD",
          "BRCA",
          "PRAD",
          "BRCA",
          "BRCA",
          "BRCA",
          "LUAD",
          "BRCA",
          "KIRC",
          "LUAD",
          "KIRC",
          "KIRC",
          "LUAD",
          "BRCA",
          "KIRC",
          "PRAD",
          "BRCA",
          "LUAD",
          "LUAD",
          "PRAD",
          "COAD",
          "BRCA",
          "KIRC",
          "PRAD",
          "KIRC",
          "COAD",
          "BRCA",
          "KIRC",
          "KIRC",
          "LUAD",
          "PRAD",
          "PRAD",
          "LUAD",
          "LUAD",
          "KIRC",
          "BRCA",
          "BRCA",
          "COAD",
          "BRCA",
          "PRAD",
          "COAD",
          "BRCA",
          "PRAD",
          "KIRC",
          "PRAD",
          "PRAD",
          "PRAD",
          "BRCA",
          "COAD",
          "COAD",
          "LUAD",
          "COAD",
          "COAD",
          "PRAD",
          "LUAD",
          "BRCA",
          "BRCA",
          "KIRC",
          "KIRC",
          "BRCA",
          "COAD",
          "PRAD",
          "KIRC",
          "PRAD",
          "BRCA",
          "BRCA",
          "KIRC",
          "BRCA",
          "BRCA",
          "BRCA",
          "BRCA",
          "LUAD",
          "LUAD",
          "BRCA",
          "BRCA",
          "BRCA",
          "KIRC",
          "KIRC",
          "KIRC",
          "KIRC",
          "BRCA",
          "BRCA",
          "BRCA",
          "KIRC",
          "BRCA",
          "BRCA",
          "LUAD",
          "PRAD",
          "BRCA",
          "BRCA",
          "COAD",
          "LUAD",
          "PRAD",
          "BRCA",
          "BRCA",
          "BRCA",
          "COAD",
          "BRCA",
          "PRAD",
          "BRCA",
          "COAD",
          "LUAD",
          "LUAD",
          "PRAD",
          "KIRC",
          "BRCA",
          "KIRC",
          "KIRC",
          "LUAD",
          "COAD",
          "KIRC",
          "BRCA",
          "BRCA",
          "BRCA",
          "BRCA",
          "KIRC",
          "BRCA",
          "BRCA",
          "PRAD",
          "BRCA",
          "KIRC",
          "BRCA",
          "LUAD",
          "PRAD",
          "KIRC",
          "BRCA",
          "PRAD",
          "COAD",
          "BRCA",
          "BRCA",
          "BRCA",
          "LUAD",
          "LUAD",
          "LUAD",
          "BRCA",
          "BRCA",
          "PRAD",
          "LUAD",
          "BRCA",
          "KIRC",
          "BRCA",
          "COAD",
          "COAD",
          "LUAD",
          "BRCA",
          "KIRC",
          "BRCA",
          "BRCA",
          "BRCA",
          "COAD",
          "LUAD",
          "COAD",
          "KIRC",
          "PRAD",
          "KIRC",
          "BRCA",
          "BRCA",
          "KIRC",
          "BRCA",
          "COAD",
          "PRAD",
          "LUAD",
          "PRAD",
          "BRCA",
          "KIRC",
          "PRAD",
          "BRCA",
          "COAD",
          "KIRC",
          "KIRC",
          "COAD",
          "COAD",
          "PRAD",
          "BRCA",
          "BRCA",
          "COAD",
          "KIRC",
          "BRCA",
          "PRAD",
          "BRCA",
          "BRCA",
          "BRCA",
          "LUAD",
          "LUAD",
          "KIRC",
          "LUAD",
          "BRCA",
          "KIRC",
          "COAD",
          "PRAD",
          "BRCA",
          "LUAD",
          "PRAD",
          "BRCA",
          "BRCA",
          "BRCA",
          "LUAD",
          "BRCA",
          "BRCA",
          "PRAD",
          "BRCA",
          "PRAD",
          "COAD",
          "BRCA",
          "LUAD",
          "BRCA",
          "BRCA",
          "LUAD",
          "BRCA",
          "BRCA",
          "BRCA",
          "KIRC",
          "LUAD",
          "PRAD",
          "BRCA",
          "PRAD",
          "KIRC",
          "BRCA",
          "KIRC",
          "COAD",
          "BRCA",
          "PRAD",
          "LUAD",
          "KIRC",
          "BRCA",
          "BRCA",
          "KIRC",
          "BRCA",
          "LUAD",
          "BRCA",
          "BRCA",
          "PRAD",
          "COAD",
          "BRCA",
          "KIRC",
          "LUAD",
          "PRAD",
          "BRCA",
          "PRAD",
          "BRCA",
          "BRCA",
          "BRCA",
          "BRCA",
          "KIRC",
          "LUAD",
          "BRCA",
          "KIRC",
          "BRCA",
          "BRCA",
          "LUAD",
          "LUAD",
          "KIRC",
          "COAD",
          "PRAD",
          "COAD",
          "BRCA",
          "KIRC",
          "KIRC",
          "BRCA",
          "PRAD",
          "KIRC",
          "COAD",
          "LUAD",
          "LUAD",
          "BRCA",
          "PRAD",
          "PRAD",
          "BRCA",
          "PRAD",
          "LUAD",
          "KIRC",
          "PRAD",
          "BRCA",
          "LUAD",
          "PRAD",
          "LUAD",
          "BRCA",
          "BRCA",
          "COAD",
          "LUAD",
          "KIRC",
          "COAD",
          "LUAD",
          "BRCA",
          "PRAD",
          "BRCA",
          "BRCA",
          "PRAD",
          "BRCA",
          "COAD",
          "BRCA",
          "COAD",
          "KIRC",
          "BRCA",
          "BRCA",
          "LUAD",
          "LUAD",
          "LUAD",
          "COAD",
          "KIRC",
          "LUAD",
          "LUAD",
          "BRCA",
          "BRCA",
          "KIRC",
          "PRAD",
          "LUAD",
          "PRAD",
          "BRCA",
          "KIRC",
          "BRCA",
          "KIRC",
          "KIRC",
          "PRAD",
          "PRAD",
          "LUAD",
          "BRCA",
          "KIRC",
          "COAD",
          "COAD",
          "BRCA",
          "KIRC",
          "KIRC",
          "BRCA",
          "BRCA",
          "PRAD",
          "KIRC",
          "COAD",
          "BRCA",
          "BRCA",
          "COAD",
          "LUAD",
          "BRCA",
          "BRCA",
          "BRCA",
          "KIRC",
          "PRAD",
          "LUAD",
          "LUAD",
          "BRCA",
          "KIRC",
          "COAD",
          "KIRC",
          "KIRC",
          "BRCA",
          "PRAD",
          "LUAD",
          "KIRC",
          "BRCA",
          "COAD",
          "LUAD",
          "LUAD",
          "LUAD",
          "PRAD",
          "LUAD",
          "KIRC",
          "BRCA",
          "BRCA",
          "COAD",
          "PRAD",
          "BRCA",
          "BRCA",
          "BRCA",
          "KIRC",
          "LUAD",
          "LUAD",
          "BRCA",
          "PRAD",
          "LUAD",
          "LUAD",
          "BRCA",
          "KIRC",
          "PRAD",
          "COAD",
          "LUAD",
          "PRAD",
          "COAD",
          "LUAD",
          "COAD",
          "KIRC",
          "KIRC",
          "BRCA",
          "BRCA",
          "KIRC",
          "KIRC",
          "COAD",
          "BRCA",
          "LUAD",
          "PRAD",
          "PRAD",
          "KIRC",
          "BRCA",
          "LUAD",
          "BRCA",
          "BRCA",
          "COAD",
          "BRCA",
          "PRAD",
          "PRAD",
          "BRCA",
          "BRCA",
          "COAD",
          "BRCA",
          "KIRC",
          "BRCA",
          "BRCA",
          "COAD",
          "BRCA",
          "PRAD",
          "BRCA",
          "BRCA",
          "KIRC",
          "PRAD",
          "LUAD",
          "BRCA",
          "BRCA",
          "KIRC",
          "BRCA",
          "BRCA",
          "BRCA",
          "BRCA",
          "BRCA",
          "COAD",
          "LUAD",
          "LUAD",
          "BRCA",
          "BRCA",
          "BRCA",
          "PRAD",
          "BRCA",
          "BRCA",
          "KIRC",
          "LUAD",
          "LUAD",
          "KIRC",
          "KIRC",
          "LUAD",
          "KIRC",
          "COAD",
          "BRCA",
          "COAD",
          "KIRC",
          "BRCA",
          "BRCA",
          "PRAD",
          "PRAD",
          "PRAD",
          "LUAD",
          "PRAD",
          "PRAD",
          "COAD",
          "BRCA",
          "BRCA",
          "COAD",
          "LUAD",
          "KIRC",
          "BRCA",
          "KIRC",
          "COAD",
          "BRCA",
          "BRCA",
          "BRCA",
          "PRAD",
          "LUAD",
          "KIRC",
          "BRCA",
          "PRAD",
          "KIRC",
          "PRAD",
          "BRCA",
          "LUAD",
          "KIRC",
          "PRAD",
          "LUAD",
          "PRAD",
          "PRAD",
          "BRCA",
          "KIRC",
          "PRAD",
          "LUAD",
          "COAD",
          "COAD",
          "BRCA",
          "BRCA",
          "BRCA",
          "LUAD",
          "KIRC",
          "KIRC",
          "KIRC",
          "BRCA",
          "LUAD",
          "KIRC",
          "PRAD",
          "BRCA",
          "LUAD",
          "PRAD",
          "BRCA",
          "PRAD",
          "BRCA",
          "KIRC",
          "BRCA",
          "COAD",
          "PRAD",
          "PRAD",
          "KIRC",
          "PRAD",
          "KIRC",
          "BRCA",
          "LUAD",
          "LUAD",
          "BRCA",
          "BRCA",
          "KIRC",
          "BRCA",
          "BRCA",
          "BRCA",
          "BRCA",
          "KIRC",
          "KIRC",
          "PRAD",
          "COAD",
          "KIRC",
          "BRCA",
          "BRCA",
          "KIRC",
          "BRCA",
          "LUAD",
          "BRCA",
          "BRCA",
          "PRAD",
          "BRCA",
          "PRAD",
          "BRCA",
          "COAD",
          "BRCA",
          "BRCA",
          "KIRC",
          "LUAD",
          "BRCA",
          "BRCA",
          "PRAD",
          "BRCA",
          "PRAD",
          "COAD",
          "BRCA",
          "BRCA",
          "BRCA",
          "LUAD",
          "BRCA",
          "LUAD",
          "BRCA",
          "LUAD",
          "KIRC",
          "KIRC",
          "COAD",
          "COAD",
          "BRCA",
          "BRCA",
          "BRCA",
          "LUAD",
          "BRCA",
          "LUAD",
          "KIRC",
          "BRCA",
          "LUAD",
          "KIRC",
          "LUAD",
          "LUAD",
          "LUAD",
          "KIRC",
          "BRCA",
          "PRAD",
          "BRCA",
          "BRCA",
          "KIRC",
          "BRCA",
          "PRAD",
          "KIRC",
          "BRCA",
          "BRCA",
          "BRCA",
          "BRCA",
          "PRAD",
          "LUAD",
          "BRCA",
          "LUAD",
          "COAD",
          "PRAD",
          "PRAD"
         ],
         "xaxis": "x",
         "yaxis": "y"
        },
        {
         "alignmentgroup": "True",
         "hovertemplate": "variable=Class<br>value=%{x}<extra></extra>",
         "legendgroup": "Class",
         "marker": {
          "color": "#636efa"
         },
         "name": "Class",
         "offsetgroup": "Class",
         "scalegroup": "x",
         "showlegend": false,
         "type": "violin",
         "x": [
          "PRAD",
          "LUAD",
          "PRAD",
          "PRAD",
          "BRCA",
          "PRAD",
          "KIRC",
          "PRAD",
          "BRCA",
          "PRAD",
          "BRCA",
          "KIRC",
          "PRAD",
          "BRCA",
          "BRCA",
          "BRCA",
          "LUAD",
          "KIRC",
          "KIRC",
          "PRAD",
          "BRCA",
          "KIRC",
          "LUAD",
          "BRCA",
          "KIRC",
          "LUAD",
          "COAD",
          "BRCA",
          "BRCA",
          "BRCA",
          "BRCA",
          "BRCA",
          "KIRC",
          "BRCA",
          "PRAD",
          "BRCA",
          "KIRC",
          "LUAD",
          "BRCA",
          "BRCA",
          "KIRC",
          "PRAD",
          "PRAD",
          "KIRC",
          "KIRC",
          "BRCA",
          "PRAD",
          "COAD",
          "BRCA",
          "LUAD",
          "BRCA",
          "LUAD",
          "BRCA",
          "PRAD",
          "COAD",
          "BRCA",
          "BRCA",
          "COAD",
          "KIRC",
          "BRCA",
          "LUAD",
          "KIRC",
          "BRCA",
          "LUAD",
          "PRAD",
          "COAD",
          "BRCA",
          "PRAD",
          "KIRC",
          "BRCA",
          "KIRC",
          "BRCA",
          "BRCA",
          "LUAD",
          "BRCA",
          "LUAD",
          "BRCA",
          "KIRC",
          "PRAD",
          "COAD",
          "BRCA",
          "PRAD",
          "BRCA",
          "BRCA",
          "PRAD",
          "PRAD",
          "BRCA",
          "BRCA",
          "KIRC",
          "BRCA",
          "PRAD",
          "PRAD",
          "BRCA",
          "BRCA",
          "BRCA",
          "PRAD",
          "COAD",
          "BRCA",
          "PRAD",
          "BRCA",
          "BRCA",
          "KIRC",
          "BRCA",
          "KIRC",
          "LUAD",
          "KIRC",
          "LUAD",
          "COAD",
          "LUAD",
          "LUAD",
          "PRAD",
          "BRCA",
          "LUAD",
          "PRAD",
          "BRCA",
          "KIRC",
          "KIRC",
          "KIRC",
          "BRCA",
          "BRCA",
          "LUAD",
          "KIRC",
          "LUAD",
          "BRCA",
          "PRAD",
          "PRAD",
          "PRAD",
          "BRCA",
          "KIRC",
          "LUAD",
          "COAD",
          "BRCA",
          "COAD",
          "BRCA",
          "BRCA",
          "KIRC",
          "LUAD",
          "BRCA",
          "KIRC",
          "COAD",
          "BRCA",
          "PRAD",
          "BRCA",
          "KIRC",
          "LUAD",
          "COAD",
          "PRAD",
          "BRCA",
          "LUAD",
          "LUAD",
          "LUAD",
          "LUAD",
          "BRCA",
          "BRCA",
          "LUAD",
          "BRCA",
          "BRCA",
          "PRAD",
          "PRAD",
          "LUAD",
          "PRAD",
          "LUAD",
          "KIRC",
          "BRCA",
          "PRAD",
          "LUAD",
          "COAD",
          "KIRC",
          "LUAD",
          "BRCA",
          "KIRC",
          "LUAD",
          "BRCA",
          "LUAD",
          "BRCA",
          "BRCA",
          "BRCA",
          "PRAD",
          "BRCA",
          "KIRC",
          "COAD",
          "KIRC",
          "BRCA",
          "PRAD",
          "PRAD",
          "PRAD",
          "LUAD",
          "LUAD",
          "BRCA",
          "LUAD",
          "LUAD",
          "KIRC",
          "LUAD",
          "PRAD",
          "LUAD",
          "BRCA",
          "BRCA",
          "BRCA",
          "LUAD",
          "LUAD",
          "BRCA",
          "KIRC",
          "KIRC",
          "KIRC",
          "KIRC",
          "PRAD",
          "BRCA",
          "PRAD",
          "BRCA",
          "LUAD",
          "LUAD",
          "BRCA",
          "PRAD",
          "BRCA",
          "PRAD",
          "BRCA",
          "BRCA",
          "BRCA",
          "LUAD",
          "BRCA",
          "KIRC",
          "LUAD",
          "KIRC",
          "KIRC",
          "LUAD",
          "BRCA",
          "KIRC",
          "PRAD",
          "BRCA",
          "LUAD",
          "LUAD",
          "PRAD",
          "COAD",
          "BRCA",
          "KIRC",
          "PRAD",
          "KIRC",
          "COAD",
          "BRCA",
          "KIRC",
          "KIRC",
          "LUAD",
          "PRAD",
          "PRAD",
          "LUAD",
          "LUAD",
          "KIRC",
          "BRCA",
          "BRCA",
          "COAD",
          "BRCA",
          "PRAD",
          "COAD",
          "BRCA",
          "PRAD",
          "KIRC",
          "PRAD",
          "PRAD",
          "PRAD",
          "BRCA",
          "COAD",
          "COAD",
          "LUAD",
          "COAD",
          "COAD",
          "PRAD",
          "LUAD",
          "BRCA",
          "BRCA",
          "KIRC",
          "KIRC",
          "BRCA",
          "COAD",
          "PRAD",
          "KIRC",
          "PRAD",
          "BRCA",
          "BRCA",
          "KIRC",
          "BRCA",
          "BRCA",
          "BRCA",
          "BRCA",
          "LUAD",
          "LUAD",
          "BRCA",
          "BRCA",
          "BRCA",
          "KIRC",
          "KIRC",
          "KIRC",
          "KIRC",
          "BRCA",
          "BRCA",
          "BRCA",
          "KIRC",
          "BRCA",
          "BRCA",
          "LUAD",
          "PRAD",
          "BRCA",
          "BRCA",
          "COAD",
          "LUAD",
          "PRAD",
          "BRCA",
          "BRCA",
          "BRCA",
          "COAD",
          "BRCA",
          "PRAD",
          "BRCA",
          "COAD",
          "LUAD",
          "LUAD",
          "PRAD",
          "KIRC",
          "BRCA",
          "KIRC",
          "KIRC",
          "LUAD",
          "COAD",
          "KIRC",
          "BRCA",
          "BRCA",
          "BRCA",
          "BRCA",
          "KIRC",
          "BRCA",
          "BRCA",
          "PRAD",
          "BRCA",
          "KIRC",
          "BRCA",
          "LUAD",
          "PRAD",
          "KIRC",
          "BRCA",
          "PRAD",
          "COAD",
          "BRCA",
          "BRCA",
          "BRCA",
          "LUAD",
          "LUAD",
          "LUAD",
          "BRCA",
          "BRCA",
          "PRAD",
          "LUAD",
          "BRCA",
          "KIRC",
          "BRCA",
          "COAD",
          "COAD",
          "LUAD",
          "BRCA",
          "KIRC",
          "BRCA",
          "BRCA",
          "BRCA",
          "COAD",
          "LUAD",
          "COAD",
          "KIRC",
          "PRAD",
          "KIRC",
          "BRCA",
          "BRCA",
          "KIRC",
          "BRCA",
          "COAD",
          "PRAD",
          "LUAD",
          "PRAD",
          "BRCA",
          "KIRC",
          "PRAD",
          "BRCA",
          "COAD",
          "KIRC",
          "KIRC",
          "COAD",
          "COAD",
          "PRAD",
          "BRCA",
          "BRCA",
          "COAD",
          "KIRC",
          "BRCA",
          "PRAD",
          "BRCA",
          "BRCA",
          "BRCA",
          "LUAD",
          "LUAD",
          "KIRC",
          "LUAD",
          "BRCA",
          "KIRC",
          "COAD",
          "PRAD",
          "BRCA",
          "LUAD",
          "PRAD",
          "BRCA",
          "BRCA",
          "BRCA",
          "LUAD",
          "BRCA",
          "BRCA",
          "PRAD",
          "BRCA",
          "PRAD",
          "COAD",
          "BRCA",
          "LUAD",
          "BRCA",
          "BRCA",
          "LUAD",
          "BRCA",
          "BRCA",
          "BRCA",
          "KIRC",
          "LUAD",
          "PRAD",
          "BRCA",
          "PRAD",
          "KIRC",
          "BRCA",
          "KIRC",
          "COAD",
          "BRCA",
          "PRAD",
          "LUAD",
          "KIRC",
          "BRCA",
          "BRCA",
          "KIRC",
          "BRCA",
          "LUAD",
          "BRCA",
          "BRCA",
          "PRAD",
          "COAD",
          "BRCA",
          "KIRC",
          "LUAD",
          "PRAD",
          "BRCA",
          "PRAD",
          "BRCA",
          "BRCA",
          "BRCA",
          "BRCA",
          "KIRC",
          "LUAD",
          "BRCA",
          "KIRC",
          "BRCA",
          "BRCA",
          "LUAD",
          "LUAD",
          "KIRC",
          "COAD",
          "PRAD",
          "COAD",
          "BRCA",
          "KIRC",
          "KIRC",
          "BRCA",
          "PRAD",
          "KIRC",
          "COAD",
          "LUAD",
          "LUAD",
          "BRCA",
          "PRAD",
          "PRAD",
          "BRCA",
          "PRAD",
          "LUAD",
          "KIRC",
          "PRAD",
          "BRCA",
          "LUAD",
          "PRAD",
          "LUAD",
          "BRCA",
          "BRCA",
          "COAD",
          "LUAD",
          "KIRC",
          "COAD",
          "LUAD",
          "BRCA",
          "PRAD",
          "BRCA",
          "BRCA",
          "PRAD",
          "BRCA",
          "COAD",
          "BRCA",
          "COAD",
          "KIRC",
          "BRCA",
          "BRCA",
          "LUAD",
          "LUAD",
          "LUAD",
          "COAD",
          "KIRC",
          "LUAD",
          "LUAD",
          "BRCA",
          "BRCA",
          "KIRC",
          "PRAD",
          "LUAD",
          "PRAD",
          "BRCA",
          "KIRC",
          "BRCA",
          "KIRC",
          "KIRC",
          "PRAD",
          "PRAD",
          "LUAD",
          "BRCA",
          "KIRC",
          "COAD",
          "COAD",
          "BRCA",
          "KIRC",
          "KIRC",
          "BRCA",
          "BRCA",
          "PRAD",
          "KIRC",
          "COAD",
          "BRCA",
          "BRCA",
          "COAD",
          "LUAD",
          "BRCA",
          "BRCA",
          "BRCA",
          "KIRC",
          "PRAD",
          "LUAD",
          "LUAD",
          "BRCA",
          "KIRC",
          "COAD",
          "KIRC",
          "KIRC",
          "BRCA",
          "PRAD",
          "LUAD",
          "KIRC",
          "BRCA",
          "COAD",
          "LUAD",
          "LUAD",
          "LUAD",
          "PRAD",
          "LUAD",
          "KIRC",
          "BRCA",
          "BRCA",
          "COAD",
          "PRAD",
          "BRCA",
          "BRCA",
          "BRCA",
          "KIRC",
          "LUAD",
          "LUAD",
          "BRCA",
          "PRAD",
          "LUAD",
          "LUAD",
          "BRCA",
          "KIRC",
          "PRAD",
          "COAD",
          "LUAD",
          "PRAD",
          "COAD",
          "LUAD",
          "COAD",
          "KIRC",
          "KIRC",
          "BRCA",
          "BRCA",
          "KIRC",
          "KIRC",
          "COAD",
          "BRCA",
          "LUAD",
          "PRAD",
          "PRAD",
          "KIRC",
          "BRCA",
          "LUAD",
          "BRCA",
          "BRCA",
          "COAD",
          "BRCA",
          "PRAD",
          "PRAD",
          "BRCA",
          "BRCA",
          "COAD",
          "BRCA",
          "KIRC",
          "BRCA",
          "BRCA",
          "COAD",
          "BRCA",
          "PRAD",
          "BRCA",
          "BRCA",
          "KIRC",
          "PRAD",
          "LUAD",
          "BRCA",
          "BRCA",
          "KIRC",
          "BRCA",
          "BRCA",
          "BRCA",
          "BRCA",
          "BRCA",
          "COAD",
          "LUAD",
          "LUAD",
          "BRCA",
          "BRCA",
          "BRCA",
          "PRAD",
          "BRCA",
          "BRCA",
          "KIRC",
          "LUAD",
          "LUAD",
          "KIRC",
          "KIRC",
          "LUAD",
          "KIRC",
          "COAD",
          "BRCA",
          "COAD",
          "KIRC",
          "BRCA",
          "BRCA",
          "PRAD",
          "PRAD",
          "PRAD",
          "LUAD",
          "PRAD",
          "PRAD",
          "COAD",
          "BRCA",
          "BRCA",
          "COAD",
          "LUAD",
          "KIRC",
          "BRCA",
          "KIRC",
          "COAD",
          "BRCA",
          "BRCA",
          "BRCA",
          "PRAD",
          "LUAD",
          "KIRC",
          "BRCA",
          "PRAD",
          "KIRC",
          "PRAD",
          "BRCA",
          "LUAD",
          "KIRC",
          "PRAD",
          "LUAD",
          "PRAD",
          "PRAD",
          "BRCA",
          "KIRC",
          "PRAD",
          "LUAD",
          "COAD",
          "COAD",
          "BRCA",
          "BRCA",
          "BRCA",
          "LUAD",
          "KIRC",
          "KIRC",
          "KIRC",
          "BRCA",
          "LUAD",
          "KIRC",
          "PRAD",
          "BRCA",
          "LUAD",
          "PRAD",
          "BRCA",
          "PRAD",
          "BRCA",
          "KIRC",
          "BRCA",
          "COAD",
          "PRAD",
          "PRAD",
          "KIRC",
          "PRAD",
          "KIRC",
          "BRCA",
          "LUAD",
          "LUAD",
          "BRCA",
          "BRCA",
          "KIRC",
          "BRCA",
          "BRCA",
          "BRCA",
          "BRCA",
          "KIRC",
          "KIRC",
          "PRAD",
          "COAD",
          "KIRC",
          "BRCA",
          "BRCA",
          "KIRC",
          "BRCA",
          "LUAD",
          "BRCA",
          "BRCA",
          "PRAD",
          "BRCA",
          "PRAD",
          "BRCA",
          "COAD",
          "BRCA",
          "BRCA",
          "KIRC",
          "LUAD",
          "BRCA",
          "BRCA",
          "PRAD",
          "BRCA",
          "PRAD",
          "COAD",
          "BRCA",
          "BRCA",
          "BRCA",
          "LUAD",
          "BRCA",
          "LUAD",
          "BRCA",
          "LUAD",
          "KIRC",
          "KIRC",
          "COAD",
          "COAD",
          "BRCA",
          "BRCA",
          "BRCA",
          "LUAD",
          "BRCA",
          "LUAD",
          "KIRC",
          "BRCA",
          "LUAD",
          "KIRC",
          "LUAD",
          "LUAD",
          "LUAD",
          "KIRC",
          "BRCA",
          "PRAD",
          "BRCA",
          "BRCA",
          "KIRC",
          "BRCA",
          "PRAD",
          "KIRC",
          "BRCA",
          "BRCA",
          "BRCA",
          "BRCA",
          "PRAD",
          "LUAD",
          "BRCA",
          "LUAD",
          "COAD",
          "PRAD",
          "PRAD"
         ],
         "xaxis": "x2",
         "yaxis": "y2"
        }
       ],
       "layout": {
        "barmode": "relative",
        "legend": {
         "title": {
          "text": "variable"
         },
         "tracegroupgap": 0
        },
        "margin": {
         "t": 60
        },
        "template": {
         "data": {
          "bar": [
           {
            "error_x": {
             "color": "#2a3f5f"
            },
            "error_y": {
             "color": "#2a3f5f"
            },
            "marker": {
             "line": {
              "color": "#E5ECF6",
              "width": 0.5
             }
            },
            "type": "bar"
           }
          ],
          "barpolar": [
           {
            "marker": {
             "line": {
              "color": "#E5ECF6",
              "width": 0.5
             }
            },
            "type": "barpolar"
           }
          ],
          "carpet": [
           {
            "aaxis": {
             "endlinecolor": "#2a3f5f",
             "gridcolor": "white",
             "linecolor": "white",
             "minorgridcolor": "white",
             "startlinecolor": "#2a3f5f"
            },
            "baxis": {
             "endlinecolor": "#2a3f5f",
             "gridcolor": "white",
             "linecolor": "white",
             "minorgridcolor": "white",
             "startlinecolor": "#2a3f5f"
            },
            "type": "carpet"
           }
          ],
          "choropleth": [
           {
            "colorbar": {
             "outlinewidth": 0,
             "ticks": ""
            },
            "type": "choropleth"
           }
          ],
          "contour": [
           {
            "colorbar": {
             "outlinewidth": 0,
             "ticks": ""
            },
            "colorscale": [
             [
              0,
              "#0d0887"
             ],
             [
              0.1111111111111111,
              "#46039f"
             ],
             [
              0.2222222222222222,
              "#7201a8"
             ],
             [
              0.3333333333333333,
              "#9c179e"
             ],
             [
              0.4444444444444444,
              "#bd3786"
             ],
             [
              0.5555555555555556,
              "#d8576b"
             ],
             [
              0.6666666666666666,
              "#ed7953"
             ],
             [
              0.7777777777777778,
              "#fb9f3a"
             ],
             [
              0.8888888888888888,
              "#fdca26"
             ],
             [
              1,
              "#f0f921"
             ]
            ],
            "type": "contour"
           }
          ],
          "contourcarpet": [
           {
            "colorbar": {
             "outlinewidth": 0,
             "ticks": ""
            },
            "type": "contourcarpet"
           }
          ],
          "heatmap": [
           {
            "colorbar": {
             "outlinewidth": 0,
             "ticks": ""
            },
            "colorscale": [
             [
              0,
              "#0d0887"
             ],
             [
              0.1111111111111111,
              "#46039f"
             ],
             [
              0.2222222222222222,
              "#7201a8"
             ],
             [
              0.3333333333333333,
              "#9c179e"
             ],
             [
              0.4444444444444444,
              "#bd3786"
             ],
             [
              0.5555555555555556,
              "#d8576b"
             ],
             [
              0.6666666666666666,
              "#ed7953"
             ],
             [
              0.7777777777777778,
              "#fb9f3a"
             ],
             [
              0.8888888888888888,
              "#fdca26"
             ],
             [
              1,
              "#f0f921"
             ]
            ],
            "type": "heatmap"
           }
          ],
          "heatmapgl": [
           {
            "colorbar": {
             "outlinewidth": 0,
             "ticks": ""
            },
            "colorscale": [
             [
              0,
              "#0d0887"
             ],
             [
              0.1111111111111111,
              "#46039f"
             ],
             [
              0.2222222222222222,
              "#7201a8"
             ],
             [
              0.3333333333333333,
              "#9c179e"
             ],
             [
              0.4444444444444444,
              "#bd3786"
             ],
             [
              0.5555555555555556,
              "#d8576b"
             ],
             [
              0.6666666666666666,
              "#ed7953"
             ],
             [
              0.7777777777777778,
              "#fb9f3a"
             ],
             [
              0.8888888888888888,
              "#fdca26"
             ],
             [
              1,
              "#f0f921"
             ]
            ],
            "type": "heatmapgl"
           }
          ],
          "histogram": [
           {
            "marker": {
             "colorbar": {
              "outlinewidth": 0,
              "ticks": ""
             }
            },
            "type": "histogram"
           }
          ],
          "histogram2d": [
           {
            "colorbar": {
             "outlinewidth": 0,
             "ticks": ""
            },
            "colorscale": [
             [
              0,
              "#0d0887"
             ],
             [
              0.1111111111111111,
              "#46039f"
             ],
             [
              0.2222222222222222,
              "#7201a8"
             ],
             [
              0.3333333333333333,
              "#9c179e"
             ],
             [
              0.4444444444444444,
              "#bd3786"
             ],
             [
              0.5555555555555556,
              "#d8576b"
             ],
             [
              0.6666666666666666,
              "#ed7953"
             ],
             [
              0.7777777777777778,
              "#fb9f3a"
             ],
             [
              0.8888888888888888,
              "#fdca26"
             ],
             [
              1,
              "#f0f921"
             ]
            ],
            "type": "histogram2d"
           }
          ],
          "histogram2dcontour": [
           {
            "colorbar": {
             "outlinewidth": 0,
             "ticks": ""
            },
            "colorscale": [
             [
              0,
              "#0d0887"
             ],
             [
              0.1111111111111111,
              "#46039f"
             ],
             [
              0.2222222222222222,
              "#7201a8"
             ],
             [
              0.3333333333333333,
              "#9c179e"
             ],
             [
              0.4444444444444444,
              "#bd3786"
             ],
             [
              0.5555555555555556,
              "#d8576b"
             ],
             [
              0.6666666666666666,
              "#ed7953"
             ],
             [
              0.7777777777777778,
              "#fb9f3a"
             ],
             [
              0.8888888888888888,
              "#fdca26"
             ],
             [
              1,
              "#f0f921"
             ]
            ],
            "type": "histogram2dcontour"
           }
          ],
          "mesh3d": [
           {
            "colorbar": {
             "outlinewidth": 0,
             "ticks": ""
            },
            "type": "mesh3d"
           }
          ],
          "parcoords": [
           {
            "line": {
             "colorbar": {
              "outlinewidth": 0,
              "ticks": ""
             }
            },
            "type": "parcoords"
           }
          ],
          "pie": [
           {
            "automargin": true,
            "type": "pie"
           }
          ],
          "scatter": [
           {
            "marker": {
             "colorbar": {
              "outlinewidth": 0,
              "ticks": ""
             }
            },
            "type": "scatter"
           }
          ],
          "scatter3d": [
           {
            "line": {
             "colorbar": {
              "outlinewidth": 0,
              "ticks": ""
             }
            },
            "marker": {
             "colorbar": {
              "outlinewidth": 0,
              "ticks": ""
             }
            },
            "type": "scatter3d"
           }
          ],
          "scattercarpet": [
           {
            "marker": {
             "colorbar": {
              "outlinewidth": 0,
              "ticks": ""
             }
            },
            "type": "scattercarpet"
           }
          ],
          "scattergeo": [
           {
            "marker": {
             "colorbar": {
              "outlinewidth": 0,
              "ticks": ""
             }
            },
            "type": "scattergeo"
           }
          ],
          "scattergl": [
           {
            "marker": {
             "colorbar": {
              "outlinewidth": 0,
              "ticks": ""
             }
            },
            "type": "scattergl"
           }
          ],
          "scattermapbox": [
           {
            "marker": {
             "colorbar": {
              "outlinewidth": 0,
              "ticks": ""
             }
            },
            "type": "scattermapbox"
           }
          ],
          "scatterpolar": [
           {
            "marker": {
             "colorbar": {
              "outlinewidth": 0,
              "ticks": ""
             }
            },
            "type": "scatterpolar"
           }
          ],
          "scatterpolargl": [
           {
            "marker": {
             "colorbar": {
              "outlinewidth": 0,
              "ticks": ""
             }
            },
            "type": "scatterpolargl"
           }
          ],
          "scatterternary": [
           {
            "marker": {
             "colorbar": {
              "outlinewidth": 0,
              "ticks": ""
             }
            },
            "type": "scatterternary"
           }
          ],
          "surface": [
           {
            "colorbar": {
             "outlinewidth": 0,
             "ticks": ""
            },
            "colorscale": [
             [
              0,
              "#0d0887"
             ],
             [
              0.1111111111111111,
              "#46039f"
             ],
             [
              0.2222222222222222,
              "#7201a8"
             ],
             [
              0.3333333333333333,
              "#9c179e"
             ],
             [
              0.4444444444444444,
              "#bd3786"
             ],
             [
              0.5555555555555556,
              "#d8576b"
             ],
             [
              0.6666666666666666,
              "#ed7953"
             ],
             [
              0.7777777777777778,
              "#fb9f3a"
             ],
             [
              0.8888888888888888,
              "#fdca26"
             ],
             [
              1,
              "#f0f921"
             ]
            ],
            "type": "surface"
           }
          ],
          "table": [
           {
            "cells": {
             "fill": {
              "color": "#EBF0F8"
             },
             "line": {
              "color": "white"
             }
            },
            "header": {
             "fill": {
              "color": "#C8D4E3"
             },
             "line": {
              "color": "white"
             }
            },
            "type": "table"
           }
          ]
         },
         "layout": {
          "annotationdefaults": {
           "arrowcolor": "#2a3f5f",
           "arrowhead": 0,
           "arrowwidth": 1
          },
          "autotypenumbers": "strict",
          "coloraxis": {
           "colorbar": {
            "outlinewidth": 0,
            "ticks": ""
           }
          },
          "colorscale": {
           "diverging": [
            [
             0,
             "#8e0152"
            ],
            [
             0.1,
             "#c51b7d"
            ],
            [
             0.2,
             "#de77ae"
            ],
            [
             0.3,
             "#f1b6da"
            ],
            [
             0.4,
             "#fde0ef"
            ],
            [
             0.5,
             "#f7f7f7"
            ],
            [
             0.6,
             "#e6f5d0"
            ],
            [
             0.7,
             "#b8e186"
            ],
            [
             0.8,
             "#7fbc41"
            ],
            [
             0.9,
             "#4d9221"
            ],
            [
             1,
             "#276419"
            ]
           ],
           "sequential": [
            [
             0,
             "#0d0887"
            ],
            [
             0.1111111111111111,
             "#46039f"
            ],
            [
             0.2222222222222222,
             "#7201a8"
            ],
            [
             0.3333333333333333,
             "#9c179e"
            ],
            [
             0.4444444444444444,
             "#bd3786"
            ],
            [
             0.5555555555555556,
             "#d8576b"
            ],
            [
             0.6666666666666666,
             "#ed7953"
            ],
            [
             0.7777777777777778,
             "#fb9f3a"
            ],
            [
             0.8888888888888888,
             "#fdca26"
            ],
            [
             1,
             "#f0f921"
            ]
           ],
           "sequentialminus": [
            [
             0,
             "#0d0887"
            ],
            [
             0.1111111111111111,
             "#46039f"
            ],
            [
             0.2222222222222222,
             "#7201a8"
            ],
            [
             0.3333333333333333,
             "#9c179e"
            ],
            [
             0.4444444444444444,
             "#bd3786"
            ],
            [
             0.5555555555555556,
             "#d8576b"
            ],
            [
             0.6666666666666666,
             "#ed7953"
            ],
            [
             0.7777777777777778,
             "#fb9f3a"
            ],
            [
             0.8888888888888888,
             "#fdca26"
            ],
            [
             1,
             "#f0f921"
            ]
           ]
          },
          "colorway": [
           "#636efa",
           "#EF553B",
           "#00cc96",
           "#ab63fa",
           "#FFA15A",
           "#19d3f3",
           "#FF6692",
           "#B6E880",
           "#FF97FF",
           "#FECB52"
          ],
          "font": {
           "color": "#2a3f5f"
          },
          "geo": {
           "bgcolor": "white",
           "lakecolor": "white",
           "landcolor": "#E5ECF6",
           "showlakes": true,
           "showland": true,
           "subunitcolor": "white"
          },
          "hoverlabel": {
           "align": "left"
          },
          "hovermode": "closest",
          "mapbox": {
           "style": "light"
          },
          "paper_bgcolor": "white",
          "plot_bgcolor": "#E5ECF6",
          "polar": {
           "angularaxis": {
            "gridcolor": "white",
            "linecolor": "white",
            "ticks": ""
           },
           "bgcolor": "#E5ECF6",
           "radialaxis": {
            "gridcolor": "white",
            "linecolor": "white",
            "ticks": ""
           }
          },
          "scene": {
           "xaxis": {
            "backgroundcolor": "#E5ECF6",
            "gridcolor": "white",
            "gridwidth": 2,
            "linecolor": "white",
            "showbackground": true,
            "ticks": "",
            "zerolinecolor": "white"
           },
           "yaxis": {
            "backgroundcolor": "#E5ECF6",
            "gridcolor": "white",
            "gridwidth": 2,
            "linecolor": "white",
            "showbackground": true,
            "ticks": "",
            "zerolinecolor": "white"
           },
           "zaxis": {
            "backgroundcolor": "#E5ECF6",
            "gridcolor": "white",
            "gridwidth": 2,
            "linecolor": "white",
            "showbackground": true,
            "ticks": "",
            "zerolinecolor": "white"
           }
          },
          "shapedefaults": {
           "line": {
            "color": "#2a3f5f"
           }
          },
          "ternary": {
           "aaxis": {
            "gridcolor": "white",
            "linecolor": "white",
            "ticks": ""
           },
           "baxis": {
            "gridcolor": "white",
            "linecolor": "white",
            "ticks": ""
           },
           "bgcolor": "#E5ECF6",
           "caxis": {
            "gridcolor": "white",
            "linecolor": "white",
            "ticks": ""
           }
          },
          "title": {
           "x": 0.05
          },
          "xaxis": {
           "automargin": true,
           "gridcolor": "white",
           "linecolor": "white",
           "ticks": "",
           "title": {
            "standoff": 15
           },
           "zerolinecolor": "white",
           "zerolinewidth": 2
          },
          "yaxis": {
           "automargin": true,
           "gridcolor": "white",
           "linecolor": "white",
           "ticks": "",
           "title": {
            "standoff": 15
           },
           "zerolinecolor": "white",
           "zerolinewidth": 2
          }
         }
        },
        "xaxis": {
         "anchor": "y",
         "domain": [
          0,
          1
         ],
         "title": {
          "text": "value"
         }
        },
        "xaxis2": {
         "anchor": "y2",
         "domain": [
          0,
          1
         ],
         "matches": "x",
         "showgrid": true,
         "showticklabels": false
        },
        "yaxis": {
         "anchor": "x",
         "domain": [
          0,
          0.7326
         ],
         "title": {
          "text": "count"
         }
        },
        "yaxis2": {
         "anchor": "x2",
         "domain": [
          0.7426,
          1
         ],
         "matches": "y2",
         "showgrid": false,
         "showline": false,
         "showticklabels": false,
         "ticks": ""
        }
       }
      },
      "text/html": [
       "<div>                            <div id=\"99a61670-ec40-4d84-8662-3e9c67e43e15\" class=\"plotly-graph-div\" style=\"height:525px; width:100%;\"></div>            <script type=\"text/javascript\">                require([\"plotly\"], function(Plotly) {                    window.PLOTLYENV=window.PLOTLYENV || {};                                    if (document.getElementById(\"99a61670-ec40-4d84-8662-3e9c67e43e15\")) {                    Plotly.newPlot(                        \"99a61670-ec40-4d84-8662-3e9c67e43e15\",                        [{\"alignmentgroup\": \"True\", \"bingroup\": \"x\", \"hovertemplate\": \"variable=Class<br>value=%{x}<br>count=%{y}<extra></extra>\", \"legendgroup\": \"Class\", \"marker\": {\"color\": \"#636efa\"}, \"name\": \"Class\", \"nbinsx\": 5, \"offsetgroup\": \"Class\", \"orientation\": \"v\", \"showlegend\": true, \"type\": \"histogram\", \"x\": [\"PRAD\", \"LUAD\", \"PRAD\", \"PRAD\", \"BRCA\", \"PRAD\", \"KIRC\", \"PRAD\", \"BRCA\", \"PRAD\", \"BRCA\", \"KIRC\", \"PRAD\", \"BRCA\", \"BRCA\", \"BRCA\", \"LUAD\", \"KIRC\", \"KIRC\", \"PRAD\", \"BRCA\", \"KIRC\", \"LUAD\", \"BRCA\", \"KIRC\", \"LUAD\", \"COAD\", \"BRCA\", \"BRCA\", \"BRCA\", \"BRCA\", \"BRCA\", \"KIRC\", \"BRCA\", \"PRAD\", \"BRCA\", \"KIRC\", \"LUAD\", \"BRCA\", \"BRCA\", \"KIRC\", \"PRAD\", \"PRAD\", \"KIRC\", \"KIRC\", \"BRCA\", \"PRAD\", \"COAD\", \"BRCA\", \"LUAD\", \"BRCA\", \"LUAD\", \"BRCA\", \"PRAD\", \"COAD\", \"BRCA\", \"BRCA\", \"COAD\", \"KIRC\", \"BRCA\", \"LUAD\", \"KIRC\", \"BRCA\", \"LUAD\", \"PRAD\", \"COAD\", \"BRCA\", \"PRAD\", \"KIRC\", \"BRCA\", \"KIRC\", \"BRCA\", \"BRCA\", \"LUAD\", \"BRCA\", \"LUAD\", \"BRCA\", \"KIRC\", \"PRAD\", \"COAD\", \"BRCA\", \"PRAD\", \"BRCA\", \"BRCA\", \"PRAD\", \"PRAD\", \"BRCA\", \"BRCA\", \"KIRC\", \"BRCA\", \"PRAD\", \"PRAD\", \"BRCA\", \"BRCA\", \"BRCA\", \"PRAD\", \"COAD\", \"BRCA\", \"PRAD\", \"BRCA\", \"BRCA\", \"KIRC\", \"BRCA\", \"KIRC\", \"LUAD\", \"KIRC\", \"LUAD\", \"COAD\", \"LUAD\", \"LUAD\", \"PRAD\", \"BRCA\", \"LUAD\", \"PRAD\", \"BRCA\", \"KIRC\", \"KIRC\", \"KIRC\", \"BRCA\", \"BRCA\", \"LUAD\", \"KIRC\", \"LUAD\", \"BRCA\", \"PRAD\", \"PRAD\", \"PRAD\", \"BRCA\", \"KIRC\", \"LUAD\", \"COAD\", \"BRCA\", \"COAD\", \"BRCA\", \"BRCA\", \"KIRC\", \"LUAD\", \"BRCA\", \"KIRC\", \"COAD\", \"BRCA\", \"PRAD\", \"BRCA\", \"KIRC\", \"LUAD\", \"COAD\", \"PRAD\", \"BRCA\", \"LUAD\", \"LUAD\", \"LUAD\", \"LUAD\", \"BRCA\", \"BRCA\", \"LUAD\", \"BRCA\", \"BRCA\", \"PRAD\", \"PRAD\", \"LUAD\", \"PRAD\", \"LUAD\", \"KIRC\", \"BRCA\", \"PRAD\", \"LUAD\", \"COAD\", \"KIRC\", \"LUAD\", \"BRCA\", \"KIRC\", \"LUAD\", \"BRCA\", \"LUAD\", \"BRCA\", \"BRCA\", \"BRCA\", \"PRAD\", \"BRCA\", \"KIRC\", \"COAD\", \"KIRC\", \"BRCA\", \"PRAD\", \"PRAD\", \"PRAD\", \"LUAD\", \"LUAD\", \"BRCA\", \"LUAD\", \"LUAD\", \"KIRC\", \"LUAD\", \"PRAD\", \"LUAD\", \"BRCA\", \"BRCA\", \"BRCA\", \"LUAD\", \"LUAD\", \"BRCA\", \"KIRC\", \"KIRC\", \"KIRC\", \"KIRC\", \"PRAD\", \"BRCA\", \"PRAD\", \"BRCA\", \"LUAD\", \"LUAD\", \"BRCA\", \"PRAD\", \"BRCA\", \"PRAD\", \"BRCA\", \"BRCA\", \"BRCA\", \"LUAD\", \"BRCA\", \"KIRC\", \"LUAD\", \"KIRC\", \"KIRC\", \"LUAD\", \"BRCA\", \"KIRC\", \"PRAD\", \"BRCA\", \"LUAD\", \"LUAD\", \"PRAD\", \"COAD\", \"BRCA\", \"KIRC\", \"PRAD\", \"KIRC\", \"COAD\", \"BRCA\", \"KIRC\", \"KIRC\", \"LUAD\", \"PRAD\", \"PRAD\", \"LUAD\", \"LUAD\", \"KIRC\", \"BRCA\", \"BRCA\", \"COAD\", \"BRCA\", \"PRAD\", \"COAD\", \"BRCA\", \"PRAD\", \"KIRC\", \"PRAD\", \"PRAD\", \"PRAD\", \"BRCA\", \"COAD\", \"COAD\", \"LUAD\", \"COAD\", \"COAD\", \"PRAD\", \"LUAD\", \"BRCA\", \"BRCA\", \"KIRC\", \"KIRC\", \"BRCA\", \"COAD\", \"PRAD\", \"KIRC\", \"PRAD\", \"BRCA\", \"BRCA\", \"KIRC\", \"BRCA\", \"BRCA\", \"BRCA\", \"BRCA\", \"LUAD\", \"LUAD\", \"BRCA\", \"BRCA\", \"BRCA\", \"KIRC\", \"KIRC\", \"KIRC\", \"KIRC\", \"BRCA\", \"BRCA\", \"BRCA\", \"KIRC\", \"BRCA\", \"BRCA\", \"LUAD\", \"PRAD\", \"BRCA\", \"BRCA\", \"COAD\", \"LUAD\", \"PRAD\", \"BRCA\", \"BRCA\", \"BRCA\", \"COAD\", \"BRCA\", \"PRAD\", \"BRCA\", \"COAD\", \"LUAD\", \"LUAD\", \"PRAD\", \"KIRC\", \"BRCA\", \"KIRC\", \"KIRC\", \"LUAD\", \"COAD\", \"KIRC\", \"BRCA\", \"BRCA\", \"BRCA\", \"BRCA\", \"KIRC\", \"BRCA\", \"BRCA\", \"PRAD\", \"BRCA\", \"KIRC\", \"BRCA\", \"LUAD\", \"PRAD\", \"KIRC\", \"BRCA\", \"PRAD\", \"COAD\", \"BRCA\", \"BRCA\", \"BRCA\", \"LUAD\", \"LUAD\", \"LUAD\", \"BRCA\", \"BRCA\", \"PRAD\", \"LUAD\", \"BRCA\", \"KIRC\", \"BRCA\", \"COAD\", \"COAD\", \"LUAD\", \"BRCA\", \"KIRC\", \"BRCA\", \"BRCA\", \"BRCA\", \"COAD\", \"LUAD\", \"COAD\", \"KIRC\", \"PRAD\", \"KIRC\", \"BRCA\", \"BRCA\", \"KIRC\", \"BRCA\", \"COAD\", \"PRAD\", \"LUAD\", \"PRAD\", \"BRCA\", \"KIRC\", \"PRAD\", \"BRCA\", \"COAD\", \"KIRC\", \"KIRC\", \"COAD\", \"COAD\", \"PRAD\", \"BRCA\", \"BRCA\", \"COAD\", \"KIRC\", \"BRCA\", \"PRAD\", \"BRCA\", \"BRCA\", \"BRCA\", \"LUAD\", \"LUAD\", \"KIRC\", \"LUAD\", \"BRCA\", \"KIRC\", \"COAD\", \"PRAD\", \"BRCA\", \"LUAD\", \"PRAD\", \"BRCA\", \"BRCA\", \"BRCA\", \"LUAD\", \"BRCA\", \"BRCA\", \"PRAD\", \"BRCA\", \"PRAD\", \"COAD\", \"BRCA\", \"LUAD\", \"BRCA\", \"BRCA\", \"LUAD\", \"BRCA\", \"BRCA\", \"BRCA\", \"KIRC\", \"LUAD\", \"PRAD\", \"BRCA\", \"PRAD\", \"KIRC\", \"BRCA\", \"KIRC\", \"COAD\", \"BRCA\", \"PRAD\", \"LUAD\", \"KIRC\", \"BRCA\", \"BRCA\", \"KIRC\", \"BRCA\", \"LUAD\", \"BRCA\", \"BRCA\", \"PRAD\", \"COAD\", \"BRCA\", \"KIRC\", \"LUAD\", \"PRAD\", \"BRCA\", \"PRAD\", \"BRCA\", \"BRCA\", \"BRCA\", \"BRCA\", \"KIRC\", \"LUAD\", \"BRCA\", \"KIRC\", \"BRCA\", \"BRCA\", \"LUAD\", \"LUAD\", \"KIRC\", \"COAD\", \"PRAD\", \"COAD\", \"BRCA\", \"KIRC\", \"KIRC\", \"BRCA\", \"PRAD\", \"KIRC\", \"COAD\", \"LUAD\", \"LUAD\", \"BRCA\", \"PRAD\", \"PRAD\", \"BRCA\", \"PRAD\", \"LUAD\", \"KIRC\", \"PRAD\", \"BRCA\", \"LUAD\", \"PRAD\", \"LUAD\", \"BRCA\", \"BRCA\", \"COAD\", \"LUAD\", \"KIRC\", \"COAD\", \"LUAD\", \"BRCA\", \"PRAD\", \"BRCA\", \"BRCA\", \"PRAD\", \"BRCA\", \"COAD\", \"BRCA\", \"COAD\", \"KIRC\", \"BRCA\", \"BRCA\", \"LUAD\", \"LUAD\", \"LUAD\", \"COAD\", \"KIRC\", \"LUAD\", \"LUAD\", \"BRCA\", \"BRCA\", \"KIRC\", \"PRAD\", \"LUAD\", \"PRAD\", \"BRCA\", \"KIRC\", \"BRCA\", \"KIRC\", \"KIRC\", \"PRAD\", \"PRAD\", \"LUAD\", \"BRCA\", \"KIRC\", \"COAD\", \"COAD\", \"BRCA\", \"KIRC\", \"KIRC\", \"BRCA\", \"BRCA\", \"PRAD\", \"KIRC\", \"COAD\", \"BRCA\", \"BRCA\", \"COAD\", \"LUAD\", \"BRCA\", \"BRCA\", \"BRCA\", \"KIRC\", \"PRAD\", \"LUAD\", \"LUAD\", \"BRCA\", \"KIRC\", \"COAD\", \"KIRC\", \"KIRC\", \"BRCA\", \"PRAD\", \"LUAD\", \"KIRC\", \"BRCA\", \"COAD\", \"LUAD\", \"LUAD\", \"LUAD\", \"PRAD\", \"LUAD\", \"KIRC\", \"BRCA\", \"BRCA\", \"COAD\", \"PRAD\", \"BRCA\", \"BRCA\", \"BRCA\", \"KIRC\", \"LUAD\", \"LUAD\", \"BRCA\", \"PRAD\", \"LUAD\", \"LUAD\", \"BRCA\", \"KIRC\", \"PRAD\", \"COAD\", \"LUAD\", \"PRAD\", \"COAD\", \"LUAD\", \"COAD\", \"KIRC\", \"KIRC\", \"BRCA\", \"BRCA\", \"KIRC\", \"KIRC\", \"COAD\", \"BRCA\", \"LUAD\", \"PRAD\", \"PRAD\", \"KIRC\", \"BRCA\", \"LUAD\", \"BRCA\", \"BRCA\", \"COAD\", \"BRCA\", \"PRAD\", \"PRAD\", \"BRCA\", \"BRCA\", \"COAD\", \"BRCA\", \"KIRC\", \"BRCA\", \"BRCA\", \"COAD\", \"BRCA\", \"PRAD\", \"BRCA\", \"BRCA\", \"KIRC\", \"PRAD\", \"LUAD\", \"BRCA\", \"BRCA\", \"KIRC\", \"BRCA\", \"BRCA\", \"BRCA\", \"BRCA\", \"BRCA\", \"COAD\", \"LUAD\", \"LUAD\", \"BRCA\", \"BRCA\", \"BRCA\", \"PRAD\", \"BRCA\", \"BRCA\", \"KIRC\", \"LUAD\", \"LUAD\", \"KIRC\", \"KIRC\", \"LUAD\", \"KIRC\", \"COAD\", \"BRCA\", \"COAD\", \"KIRC\", \"BRCA\", \"BRCA\", \"PRAD\", \"PRAD\", \"PRAD\", \"LUAD\", \"PRAD\", \"PRAD\", \"COAD\", \"BRCA\", \"BRCA\", \"COAD\", \"LUAD\", \"KIRC\", \"BRCA\", \"KIRC\", \"COAD\", \"BRCA\", \"BRCA\", \"BRCA\", \"PRAD\", \"LUAD\", \"KIRC\", \"BRCA\", \"PRAD\", \"KIRC\", \"PRAD\", \"BRCA\", \"LUAD\", \"KIRC\", \"PRAD\", \"LUAD\", \"PRAD\", \"PRAD\", \"BRCA\", \"KIRC\", \"PRAD\", \"LUAD\", \"COAD\", \"COAD\", \"BRCA\", \"BRCA\", \"BRCA\", \"LUAD\", \"KIRC\", \"KIRC\", \"KIRC\", \"BRCA\", \"LUAD\", \"KIRC\", \"PRAD\", \"BRCA\", \"LUAD\", \"PRAD\", \"BRCA\", \"PRAD\", \"BRCA\", \"KIRC\", \"BRCA\", \"COAD\", \"PRAD\", \"PRAD\", \"KIRC\", \"PRAD\", \"KIRC\", \"BRCA\", \"LUAD\", \"LUAD\", \"BRCA\", \"BRCA\", \"KIRC\", \"BRCA\", \"BRCA\", \"BRCA\", \"BRCA\", \"KIRC\", \"KIRC\", \"PRAD\", \"COAD\", \"KIRC\", \"BRCA\", \"BRCA\", \"KIRC\", \"BRCA\", \"LUAD\", \"BRCA\", \"BRCA\", \"PRAD\", \"BRCA\", \"PRAD\", \"BRCA\", \"COAD\", \"BRCA\", \"BRCA\", \"KIRC\", \"LUAD\", \"BRCA\", \"BRCA\", \"PRAD\", \"BRCA\", \"PRAD\", \"COAD\", \"BRCA\", \"BRCA\", \"BRCA\", \"LUAD\", \"BRCA\", \"LUAD\", \"BRCA\", \"LUAD\", \"KIRC\", \"KIRC\", \"COAD\", \"COAD\", \"BRCA\", \"BRCA\", \"BRCA\", \"LUAD\", \"BRCA\", \"LUAD\", \"KIRC\", \"BRCA\", \"LUAD\", \"KIRC\", \"LUAD\", \"LUAD\", \"LUAD\", \"KIRC\", \"BRCA\", \"PRAD\", \"BRCA\", \"BRCA\", \"KIRC\", \"BRCA\", \"PRAD\", \"KIRC\", \"BRCA\", \"BRCA\", \"BRCA\", \"BRCA\", \"PRAD\", \"LUAD\", \"BRCA\", \"LUAD\", \"COAD\", \"PRAD\", \"PRAD\"], \"xaxis\": \"x\", \"yaxis\": \"y\"}, {\"alignmentgroup\": \"True\", \"hovertemplate\": \"variable=Class<br>value=%{x}<extra></extra>\", \"legendgroup\": \"Class\", \"marker\": {\"color\": \"#636efa\"}, \"name\": \"Class\", \"offsetgroup\": \"Class\", \"scalegroup\": \"x\", \"showlegend\": false, \"type\": \"violin\", \"x\": [\"PRAD\", \"LUAD\", \"PRAD\", \"PRAD\", \"BRCA\", \"PRAD\", \"KIRC\", \"PRAD\", \"BRCA\", \"PRAD\", \"BRCA\", \"KIRC\", \"PRAD\", \"BRCA\", \"BRCA\", \"BRCA\", \"LUAD\", \"KIRC\", \"KIRC\", \"PRAD\", \"BRCA\", \"KIRC\", \"LUAD\", \"BRCA\", \"KIRC\", \"LUAD\", \"COAD\", \"BRCA\", \"BRCA\", \"BRCA\", \"BRCA\", \"BRCA\", \"KIRC\", \"BRCA\", \"PRAD\", \"BRCA\", \"KIRC\", \"LUAD\", \"BRCA\", \"BRCA\", \"KIRC\", \"PRAD\", \"PRAD\", \"KIRC\", \"KIRC\", \"BRCA\", \"PRAD\", \"COAD\", \"BRCA\", \"LUAD\", \"BRCA\", \"LUAD\", \"BRCA\", \"PRAD\", \"COAD\", \"BRCA\", \"BRCA\", \"COAD\", \"KIRC\", \"BRCA\", \"LUAD\", \"KIRC\", \"BRCA\", \"LUAD\", \"PRAD\", \"COAD\", \"BRCA\", \"PRAD\", \"KIRC\", \"BRCA\", \"KIRC\", \"BRCA\", \"BRCA\", \"LUAD\", \"BRCA\", \"LUAD\", \"BRCA\", \"KIRC\", \"PRAD\", \"COAD\", \"BRCA\", \"PRAD\", \"BRCA\", \"BRCA\", \"PRAD\", \"PRAD\", \"BRCA\", \"BRCA\", \"KIRC\", \"BRCA\", \"PRAD\", \"PRAD\", \"BRCA\", \"BRCA\", \"BRCA\", \"PRAD\", \"COAD\", \"BRCA\", \"PRAD\", \"BRCA\", \"BRCA\", \"KIRC\", \"BRCA\", \"KIRC\", \"LUAD\", \"KIRC\", \"LUAD\", \"COAD\", \"LUAD\", \"LUAD\", \"PRAD\", \"BRCA\", \"LUAD\", \"PRAD\", \"BRCA\", \"KIRC\", \"KIRC\", \"KIRC\", \"BRCA\", \"BRCA\", \"LUAD\", \"KIRC\", \"LUAD\", \"BRCA\", \"PRAD\", \"PRAD\", \"PRAD\", \"BRCA\", \"KIRC\", \"LUAD\", \"COAD\", \"BRCA\", \"COAD\", \"BRCA\", \"BRCA\", \"KIRC\", \"LUAD\", \"BRCA\", \"KIRC\", \"COAD\", \"BRCA\", \"PRAD\", \"BRCA\", \"KIRC\", \"LUAD\", \"COAD\", \"PRAD\", \"BRCA\", \"LUAD\", \"LUAD\", \"LUAD\", \"LUAD\", \"BRCA\", \"BRCA\", \"LUAD\", \"BRCA\", \"BRCA\", \"PRAD\", \"PRAD\", \"LUAD\", \"PRAD\", \"LUAD\", \"KIRC\", \"BRCA\", \"PRAD\", \"LUAD\", \"COAD\", \"KIRC\", \"LUAD\", \"BRCA\", \"KIRC\", \"LUAD\", \"BRCA\", \"LUAD\", \"BRCA\", \"BRCA\", \"BRCA\", \"PRAD\", \"BRCA\", \"KIRC\", \"COAD\", \"KIRC\", \"BRCA\", \"PRAD\", \"PRAD\", \"PRAD\", \"LUAD\", \"LUAD\", \"BRCA\", \"LUAD\", \"LUAD\", \"KIRC\", \"LUAD\", \"PRAD\", \"LUAD\", \"BRCA\", \"BRCA\", \"BRCA\", \"LUAD\", \"LUAD\", \"BRCA\", \"KIRC\", \"KIRC\", \"KIRC\", \"KIRC\", \"PRAD\", \"BRCA\", \"PRAD\", \"BRCA\", \"LUAD\", \"LUAD\", \"BRCA\", \"PRAD\", \"BRCA\", \"PRAD\", \"BRCA\", \"BRCA\", \"BRCA\", \"LUAD\", \"BRCA\", \"KIRC\", \"LUAD\", \"KIRC\", \"KIRC\", \"LUAD\", \"BRCA\", \"KIRC\", \"PRAD\", \"BRCA\", \"LUAD\", \"LUAD\", \"PRAD\", \"COAD\", \"BRCA\", \"KIRC\", \"PRAD\", \"KIRC\", \"COAD\", \"BRCA\", \"KIRC\", \"KIRC\", \"LUAD\", \"PRAD\", \"PRAD\", \"LUAD\", \"LUAD\", \"KIRC\", \"BRCA\", \"BRCA\", \"COAD\", \"BRCA\", \"PRAD\", \"COAD\", \"BRCA\", \"PRAD\", \"KIRC\", \"PRAD\", \"PRAD\", \"PRAD\", \"BRCA\", \"COAD\", \"COAD\", \"LUAD\", \"COAD\", \"COAD\", \"PRAD\", \"LUAD\", \"BRCA\", \"BRCA\", \"KIRC\", \"KIRC\", \"BRCA\", \"COAD\", \"PRAD\", \"KIRC\", \"PRAD\", \"BRCA\", \"BRCA\", \"KIRC\", \"BRCA\", \"BRCA\", \"BRCA\", \"BRCA\", \"LUAD\", \"LUAD\", \"BRCA\", \"BRCA\", \"BRCA\", \"KIRC\", \"KIRC\", \"KIRC\", \"KIRC\", \"BRCA\", \"BRCA\", \"BRCA\", \"KIRC\", \"BRCA\", \"BRCA\", \"LUAD\", \"PRAD\", \"BRCA\", \"BRCA\", \"COAD\", \"LUAD\", \"PRAD\", \"BRCA\", \"BRCA\", \"BRCA\", \"COAD\", \"BRCA\", \"PRAD\", \"BRCA\", \"COAD\", \"LUAD\", \"LUAD\", \"PRAD\", \"KIRC\", \"BRCA\", \"KIRC\", \"KIRC\", \"LUAD\", \"COAD\", \"KIRC\", \"BRCA\", \"BRCA\", \"BRCA\", \"BRCA\", \"KIRC\", \"BRCA\", \"BRCA\", \"PRAD\", \"BRCA\", \"KIRC\", \"BRCA\", \"LUAD\", \"PRAD\", \"KIRC\", \"BRCA\", \"PRAD\", \"COAD\", \"BRCA\", \"BRCA\", \"BRCA\", \"LUAD\", \"LUAD\", \"LUAD\", \"BRCA\", \"BRCA\", \"PRAD\", \"LUAD\", \"BRCA\", \"KIRC\", \"BRCA\", \"COAD\", \"COAD\", \"LUAD\", \"BRCA\", \"KIRC\", \"BRCA\", \"BRCA\", \"BRCA\", \"COAD\", \"LUAD\", \"COAD\", \"KIRC\", \"PRAD\", \"KIRC\", \"BRCA\", \"BRCA\", \"KIRC\", \"BRCA\", \"COAD\", \"PRAD\", \"LUAD\", \"PRAD\", \"BRCA\", \"KIRC\", \"PRAD\", \"BRCA\", \"COAD\", \"KIRC\", \"KIRC\", \"COAD\", \"COAD\", \"PRAD\", \"BRCA\", \"BRCA\", \"COAD\", \"KIRC\", \"BRCA\", \"PRAD\", \"BRCA\", \"BRCA\", \"BRCA\", \"LUAD\", \"LUAD\", \"KIRC\", \"LUAD\", \"BRCA\", \"KIRC\", \"COAD\", \"PRAD\", \"BRCA\", \"LUAD\", \"PRAD\", \"BRCA\", \"BRCA\", \"BRCA\", \"LUAD\", \"BRCA\", \"BRCA\", \"PRAD\", \"BRCA\", \"PRAD\", \"COAD\", \"BRCA\", \"LUAD\", \"BRCA\", \"BRCA\", \"LUAD\", \"BRCA\", \"BRCA\", \"BRCA\", \"KIRC\", \"LUAD\", \"PRAD\", \"BRCA\", \"PRAD\", \"KIRC\", \"BRCA\", \"KIRC\", \"COAD\", \"BRCA\", \"PRAD\", \"LUAD\", \"KIRC\", \"BRCA\", \"BRCA\", \"KIRC\", \"BRCA\", \"LUAD\", \"BRCA\", \"BRCA\", \"PRAD\", \"COAD\", \"BRCA\", \"KIRC\", \"LUAD\", \"PRAD\", \"BRCA\", \"PRAD\", \"BRCA\", \"BRCA\", \"BRCA\", \"BRCA\", \"KIRC\", \"LUAD\", \"BRCA\", \"KIRC\", \"BRCA\", \"BRCA\", \"LUAD\", \"LUAD\", \"KIRC\", \"COAD\", \"PRAD\", \"COAD\", \"BRCA\", \"KIRC\", \"KIRC\", \"BRCA\", \"PRAD\", \"KIRC\", \"COAD\", \"LUAD\", \"LUAD\", \"BRCA\", \"PRAD\", \"PRAD\", \"BRCA\", \"PRAD\", \"LUAD\", \"KIRC\", \"PRAD\", \"BRCA\", \"LUAD\", \"PRAD\", \"LUAD\", \"BRCA\", \"BRCA\", \"COAD\", \"LUAD\", \"KIRC\", \"COAD\", \"LUAD\", \"BRCA\", \"PRAD\", \"BRCA\", \"BRCA\", \"PRAD\", \"BRCA\", \"COAD\", \"BRCA\", \"COAD\", \"KIRC\", \"BRCA\", \"BRCA\", \"LUAD\", \"LUAD\", \"LUAD\", \"COAD\", \"KIRC\", \"LUAD\", \"LUAD\", \"BRCA\", \"BRCA\", \"KIRC\", \"PRAD\", \"LUAD\", \"PRAD\", \"BRCA\", \"KIRC\", \"BRCA\", \"KIRC\", \"KIRC\", \"PRAD\", \"PRAD\", \"LUAD\", \"BRCA\", \"KIRC\", \"COAD\", \"COAD\", \"BRCA\", \"KIRC\", \"KIRC\", \"BRCA\", \"BRCA\", \"PRAD\", \"KIRC\", \"COAD\", \"BRCA\", \"BRCA\", \"COAD\", \"LUAD\", \"BRCA\", \"BRCA\", \"BRCA\", \"KIRC\", \"PRAD\", \"LUAD\", \"LUAD\", \"BRCA\", \"KIRC\", \"COAD\", \"KIRC\", \"KIRC\", \"BRCA\", \"PRAD\", \"LUAD\", \"KIRC\", \"BRCA\", \"COAD\", \"LUAD\", \"LUAD\", \"LUAD\", \"PRAD\", \"LUAD\", \"KIRC\", \"BRCA\", \"BRCA\", \"COAD\", \"PRAD\", \"BRCA\", \"BRCA\", \"BRCA\", \"KIRC\", \"LUAD\", \"LUAD\", \"BRCA\", \"PRAD\", \"LUAD\", \"LUAD\", \"BRCA\", \"KIRC\", \"PRAD\", \"COAD\", \"LUAD\", \"PRAD\", \"COAD\", \"LUAD\", \"COAD\", \"KIRC\", \"KIRC\", \"BRCA\", \"BRCA\", \"KIRC\", \"KIRC\", \"COAD\", \"BRCA\", \"LUAD\", \"PRAD\", \"PRAD\", \"KIRC\", \"BRCA\", \"LUAD\", \"BRCA\", \"BRCA\", \"COAD\", \"BRCA\", \"PRAD\", \"PRAD\", \"BRCA\", \"BRCA\", \"COAD\", \"BRCA\", \"KIRC\", \"BRCA\", \"BRCA\", \"COAD\", \"BRCA\", \"PRAD\", \"BRCA\", \"BRCA\", \"KIRC\", \"PRAD\", \"LUAD\", \"BRCA\", \"BRCA\", \"KIRC\", \"BRCA\", \"BRCA\", \"BRCA\", \"BRCA\", \"BRCA\", \"COAD\", \"LUAD\", \"LUAD\", \"BRCA\", \"BRCA\", \"BRCA\", \"PRAD\", \"BRCA\", \"BRCA\", \"KIRC\", \"LUAD\", \"LUAD\", \"KIRC\", \"KIRC\", \"LUAD\", \"KIRC\", \"COAD\", \"BRCA\", \"COAD\", \"KIRC\", \"BRCA\", \"BRCA\", \"PRAD\", \"PRAD\", \"PRAD\", \"LUAD\", \"PRAD\", \"PRAD\", \"COAD\", \"BRCA\", \"BRCA\", \"COAD\", \"LUAD\", \"KIRC\", \"BRCA\", \"KIRC\", \"COAD\", \"BRCA\", \"BRCA\", \"BRCA\", \"PRAD\", \"LUAD\", \"KIRC\", \"BRCA\", \"PRAD\", \"KIRC\", \"PRAD\", \"BRCA\", \"LUAD\", \"KIRC\", \"PRAD\", \"LUAD\", \"PRAD\", \"PRAD\", \"BRCA\", \"KIRC\", \"PRAD\", \"LUAD\", \"COAD\", \"COAD\", \"BRCA\", \"BRCA\", \"BRCA\", \"LUAD\", \"KIRC\", \"KIRC\", \"KIRC\", \"BRCA\", \"LUAD\", \"KIRC\", \"PRAD\", \"BRCA\", \"LUAD\", \"PRAD\", \"BRCA\", \"PRAD\", \"BRCA\", \"KIRC\", \"BRCA\", \"COAD\", \"PRAD\", \"PRAD\", \"KIRC\", \"PRAD\", \"KIRC\", \"BRCA\", \"LUAD\", \"LUAD\", \"BRCA\", \"BRCA\", \"KIRC\", \"BRCA\", \"BRCA\", \"BRCA\", \"BRCA\", \"KIRC\", \"KIRC\", \"PRAD\", \"COAD\", \"KIRC\", \"BRCA\", \"BRCA\", \"KIRC\", \"BRCA\", \"LUAD\", \"BRCA\", \"BRCA\", \"PRAD\", \"BRCA\", \"PRAD\", \"BRCA\", \"COAD\", \"BRCA\", \"BRCA\", \"KIRC\", \"LUAD\", \"BRCA\", \"BRCA\", \"PRAD\", \"BRCA\", \"PRAD\", \"COAD\", \"BRCA\", \"BRCA\", \"BRCA\", \"LUAD\", \"BRCA\", \"LUAD\", \"BRCA\", \"LUAD\", \"KIRC\", \"KIRC\", \"COAD\", \"COAD\", \"BRCA\", \"BRCA\", \"BRCA\", \"LUAD\", \"BRCA\", \"LUAD\", \"KIRC\", \"BRCA\", \"LUAD\", \"KIRC\", \"LUAD\", \"LUAD\", \"LUAD\", \"KIRC\", \"BRCA\", \"PRAD\", \"BRCA\", \"BRCA\", \"KIRC\", \"BRCA\", \"PRAD\", \"KIRC\", \"BRCA\", \"BRCA\", \"BRCA\", \"BRCA\", \"PRAD\", \"LUAD\", \"BRCA\", \"LUAD\", \"COAD\", \"PRAD\", \"PRAD\"], \"xaxis\": \"x2\", \"yaxis\": \"y2\"}],                        {\"barmode\": \"relative\", \"legend\": {\"title\": {\"text\": \"variable\"}, \"tracegroupgap\": 0}, \"margin\": {\"t\": 60}, \"template\": {\"data\": {\"bar\": [{\"error_x\": {\"color\": \"#2a3f5f\"}, \"error_y\": {\"color\": \"#2a3f5f\"}, \"marker\": {\"line\": {\"color\": \"#E5ECF6\", \"width\": 0.5}}, \"type\": \"bar\"}], \"barpolar\": [{\"marker\": {\"line\": {\"color\": \"#E5ECF6\", \"width\": 0.5}}, \"type\": \"barpolar\"}], \"carpet\": [{\"aaxis\": {\"endlinecolor\": \"#2a3f5f\", \"gridcolor\": \"white\", \"linecolor\": \"white\", \"minorgridcolor\": \"white\", \"startlinecolor\": \"#2a3f5f\"}, \"baxis\": {\"endlinecolor\": \"#2a3f5f\", \"gridcolor\": \"white\", \"linecolor\": \"white\", \"minorgridcolor\": \"white\", \"startlinecolor\": \"#2a3f5f\"}, \"type\": \"carpet\"}], \"choropleth\": [{\"colorbar\": {\"outlinewidth\": 0, \"ticks\": \"\"}, \"type\": \"choropleth\"}], \"contour\": [{\"colorbar\": {\"outlinewidth\": 0, \"ticks\": \"\"}, \"colorscale\": [[0.0, \"#0d0887\"], [0.1111111111111111, \"#46039f\"], [0.2222222222222222, \"#7201a8\"], [0.3333333333333333, \"#9c179e\"], [0.4444444444444444, \"#bd3786\"], [0.5555555555555556, \"#d8576b\"], [0.6666666666666666, \"#ed7953\"], [0.7777777777777778, \"#fb9f3a\"], [0.8888888888888888, \"#fdca26\"], [1.0, \"#f0f921\"]], \"type\": \"contour\"}], \"contourcarpet\": [{\"colorbar\": {\"outlinewidth\": 0, \"ticks\": \"\"}, \"type\": \"contourcarpet\"}], \"heatmap\": [{\"colorbar\": {\"outlinewidth\": 0, \"ticks\": \"\"}, \"colorscale\": [[0.0, \"#0d0887\"], [0.1111111111111111, \"#46039f\"], [0.2222222222222222, \"#7201a8\"], [0.3333333333333333, \"#9c179e\"], [0.4444444444444444, \"#bd3786\"], [0.5555555555555556, \"#d8576b\"], [0.6666666666666666, \"#ed7953\"], [0.7777777777777778, \"#fb9f3a\"], [0.8888888888888888, \"#fdca26\"], [1.0, \"#f0f921\"]], \"type\": \"heatmap\"}], \"heatmapgl\": [{\"colorbar\": {\"outlinewidth\": 0, \"ticks\": \"\"}, \"colorscale\": [[0.0, \"#0d0887\"], [0.1111111111111111, \"#46039f\"], [0.2222222222222222, \"#7201a8\"], [0.3333333333333333, \"#9c179e\"], [0.4444444444444444, \"#bd3786\"], [0.5555555555555556, \"#d8576b\"], [0.6666666666666666, \"#ed7953\"], [0.7777777777777778, \"#fb9f3a\"], [0.8888888888888888, \"#fdca26\"], [1.0, \"#f0f921\"]], \"type\": \"heatmapgl\"}], \"histogram\": [{\"marker\": {\"colorbar\": {\"outlinewidth\": 0, \"ticks\": \"\"}}, \"type\": \"histogram\"}], \"histogram2d\": [{\"colorbar\": {\"outlinewidth\": 0, \"ticks\": \"\"}, \"colorscale\": [[0.0, \"#0d0887\"], [0.1111111111111111, \"#46039f\"], [0.2222222222222222, \"#7201a8\"], [0.3333333333333333, \"#9c179e\"], [0.4444444444444444, \"#bd3786\"], [0.5555555555555556, \"#d8576b\"], [0.6666666666666666, \"#ed7953\"], [0.7777777777777778, \"#fb9f3a\"], [0.8888888888888888, \"#fdca26\"], [1.0, \"#f0f921\"]], \"type\": \"histogram2d\"}], \"histogram2dcontour\": [{\"colorbar\": {\"outlinewidth\": 0, \"ticks\": \"\"}, \"colorscale\": [[0.0, \"#0d0887\"], [0.1111111111111111, \"#46039f\"], [0.2222222222222222, \"#7201a8\"], [0.3333333333333333, \"#9c179e\"], [0.4444444444444444, \"#bd3786\"], [0.5555555555555556, \"#d8576b\"], [0.6666666666666666, \"#ed7953\"], [0.7777777777777778, \"#fb9f3a\"], [0.8888888888888888, \"#fdca26\"], [1.0, \"#f0f921\"]], \"type\": \"histogram2dcontour\"}], \"mesh3d\": [{\"colorbar\": {\"outlinewidth\": 0, \"ticks\": \"\"}, \"type\": \"mesh3d\"}], \"parcoords\": [{\"line\": {\"colorbar\": {\"outlinewidth\": 0, \"ticks\": \"\"}}, \"type\": \"parcoords\"}], \"pie\": [{\"automargin\": true, \"type\": \"pie\"}], \"scatter\": [{\"marker\": {\"colorbar\": {\"outlinewidth\": 0, \"ticks\": \"\"}}, \"type\": \"scatter\"}], \"scatter3d\": [{\"line\": {\"colorbar\": {\"outlinewidth\": 0, \"ticks\": \"\"}}, \"marker\": {\"colorbar\": {\"outlinewidth\": 0, \"ticks\": \"\"}}, \"type\": \"scatter3d\"}], \"scattercarpet\": [{\"marker\": {\"colorbar\": {\"outlinewidth\": 0, \"ticks\": \"\"}}, \"type\": \"scattercarpet\"}], \"scattergeo\": [{\"marker\": {\"colorbar\": {\"outlinewidth\": 0, \"ticks\": \"\"}}, \"type\": \"scattergeo\"}], \"scattergl\": [{\"marker\": {\"colorbar\": {\"outlinewidth\": 0, \"ticks\": \"\"}}, \"type\": \"scattergl\"}], \"scattermapbox\": [{\"marker\": {\"colorbar\": {\"outlinewidth\": 0, \"ticks\": \"\"}}, \"type\": \"scattermapbox\"}], \"scatterpolar\": [{\"marker\": {\"colorbar\": {\"outlinewidth\": 0, \"ticks\": \"\"}}, \"type\": \"scatterpolar\"}], \"scatterpolargl\": [{\"marker\": {\"colorbar\": {\"outlinewidth\": 0, \"ticks\": \"\"}}, \"type\": \"scatterpolargl\"}], \"scatterternary\": [{\"marker\": {\"colorbar\": {\"outlinewidth\": 0, \"ticks\": \"\"}}, \"type\": \"scatterternary\"}], \"surface\": [{\"colorbar\": {\"outlinewidth\": 0, \"ticks\": \"\"}, \"colorscale\": [[0.0, \"#0d0887\"], [0.1111111111111111, \"#46039f\"], [0.2222222222222222, \"#7201a8\"], [0.3333333333333333, \"#9c179e\"], [0.4444444444444444, \"#bd3786\"], [0.5555555555555556, \"#d8576b\"], [0.6666666666666666, \"#ed7953\"], [0.7777777777777778, \"#fb9f3a\"], [0.8888888888888888, \"#fdca26\"], [1.0, \"#f0f921\"]], \"type\": \"surface\"}], \"table\": [{\"cells\": {\"fill\": {\"color\": \"#EBF0F8\"}, \"line\": {\"color\": \"white\"}}, \"header\": {\"fill\": {\"color\": \"#C8D4E3\"}, \"line\": {\"color\": \"white\"}}, \"type\": \"table\"}]}, \"layout\": {\"annotationdefaults\": {\"arrowcolor\": \"#2a3f5f\", \"arrowhead\": 0, \"arrowwidth\": 1}, \"autotypenumbers\": \"strict\", \"coloraxis\": {\"colorbar\": {\"outlinewidth\": 0, \"ticks\": \"\"}}, \"colorscale\": {\"diverging\": [[0, \"#8e0152\"], [0.1, \"#c51b7d\"], [0.2, \"#de77ae\"], [0.3, \"#f1b6da\"], [0.4, \"#fde0ef\"], [0.5, \"#f7f7f7\"], [0.6, \"#e6f5d0\"], [0.7, \"#b8e186\"], [0.8, \"#7fbc41\"], [0.9, \"#4d9221\"], [1, \"#276419\"]], \"sequential\": [[0.0, \"#0d0887\"], [0.1111111111111111, \"#46039f\"], [0.2222222222222222, \"#7201a8\"], [0.3333333333333333, \"#9c179e\"], [0.4444444444444444, \"#bd3786\"], [0.5555555555555556, \"#d8576b\"], [0.6666666666666666, \"#ed7953\"], [0.7777777777777778, \"#fb9f3a\"], [0.8888888888888888, \"#fdca26\"], [1.0, \"#f0f921\"]], \"sequentialminus\": [[0.0, \"#0d0887\"], [0.1111111111111111, \"#46039f\"], [0.2222222222222222, \"#7201a8\"], [0.3333333333333333, \"#9c179e\"], [0.4444444444444444, \"#bd3786\"], [0.5555555555555556, \"#d8576b\"], [0.6666666666666666, \"#ed7953\"], [0.7777777777777778, \"#fb9f3a\"], [0.8888888888888888, \"#fdca26\"], [1.0, \"#f0f921\"]]}, \"colorway\": [\"#636efa\", \"#EF553B\", \"#00cc96\", \"#ab63fa\", \"#FFA15A\", \"#19d3f3\", \"#FF6692\", \"#B6E880\", \"#FF97FF\", \"#FECB52\"], \"font\": {\"color\": \"#2a3f5f\"}, \"geo\": {\"bgcolor\": \"white\", \"lakecolor\": \"white\", \"landcolor\": \"#E5ECF6\", \"showlakes\": true, \"showland\": true, \"subunitcolor\": \"white\"}, \"hoverlabel\": {\"align\": \"left\"}, \"hovermode\": \"closest\", \"mapbox\": {\"style\": \"light\"}, \"paper_bgcolor\": \"white\", \"plot_bgcolor\": \"#E5ECF6\", \"polar\": {\"angularaxis\": {\"gridcolor\": \"white\", \"linecolor\": \"white\", \"ticks\": \"\"}, \"bgcolor\": \"#E5ECF6\", \"radialaxis\": {\"gridcolor\": \"white\", \"linecolor\": \"white\", \"ticks\": \"\"}}, \"scene\": {\"xaxis\": {\"backgroundcolor\": \"#E5ECF6\", \"gridcolor\": \"white\", \"gridwidth\": 2, \"linecolor\": \"white\", \"showbackground\": true, \"ticks\": \"\", \"zerolinecolor\": \"white\"}, \"yaxis\": {\"backgroundcolor\": \"#E5ECF6\", \"gridcolor\": \"white\", \"gridwidth\": 2, \"linecolor\": \"white\", \"showbackground\": true, \"ticks\": \"\", \"zerolinecolor\": \"white\"}, \"zaxis\": {\"backgroundcolor\": \"#E5ECF6\", \"gridcolor\": \"white\", \"gridwidth\": 2, \"linecolor\": \"white\", \"showbackground\": true, \"ticks\": \"\", \"zerolinecolor\": \"white\"}}, \"shapedefaults\": {\"line\": {\"color\": \"#2a3f5f\"}}, \"ternary\": {\"aaxis\": {\"gridcolor\": \"white\", \"linecolor\": \"white\", \"ticks\": \"\"}, \"baxis\": {\"gridcolor\": \"white\", \"linecolor\": \"white\", \"ticks\": \"\"}, \"bgcolor\": \"#E5ECF6\", \"caxis\": {\"gridcolor\": \"white\", \"linecolor\": \"white\", \"ticks\": \"\"}}, \"title\": {\"x\": 0.05}, \"xaxis\": {\"automargin\": true, \"gridcolor\": \"white\", \"linecolor\": \"white\", \"ticks\": \"\", \"title\": {\"standoff\": 15}, \"zerolinecolor\": \"white\", \"zerolinewidth\": 2}, \"yaxis\": {\"automargin\": true, \"gridcolor\": \"white\", \"linecolor\": \"white\", \"ticks\": \"\", \"title\": {\"standoff\": 15}, \"zerolinecolor\": \"white\", \"zerolinewidth\": 2}}}, \"xaxis\": {\"anchor\": \"y\", \"domain\": [0.0, 1.0], \"title\": {\"text\": \"value\"}}, \"xaxis2\": {\"anchor\": \"y2\", \"domain\": [0.0, 1.0], \"matches\": \"x\", \"showgrid\": true, \"showticklabels\": false}, \"yaxis\": {\"anchor\": \"x\", \"domain\": [0.0, 0.7326], \"title\": {\"text\": \"count\"}}, \"yaxis2\": {\"anchor\": \"x2\", \"domain\": [0.7426, 1.0], \"matches\": \"y2\", \"showgrid\": false, \"showline\": false, \"showticklabels\": false, \"ticks\": \"\"}},                        {\"responsive\": true}                    ).then(function(){\n",
       "                            \n",
       "var gd = document.getElementById('99a61670-ec40-4d84-8662-3e9c67e43e15');\n",
       "var x = new MutationObserver(function (mutations, observer) {{\n",
       "        var display = window.getComputedStyle(gd).display;\n",
       "        if (!display || display === 'none') {{\n",
       "            console.log([gd, 'removed!']);\n",
       "            Plotly.purge(gd);\n",
       "            observer.disconnect();\n",
       "        }}\n",
       "}});\n",
       "\n",
       "// Listen for the removal of the full notebook cells\n",
       "var notebookContainer = gd.closest('#notebook-container');\n",
       "if (notebookContainer) {{\n",
       "    x.observe(notebookContainer, {childList: true});\n",
       "}}\n",
       "\n",
       "// Listen for the clearing of the current output cell\n",
       "var outputEl = gd.closest('.output');\n",
       "if (outputEl) {{\n",
       "    x.observe(outputEl, {childList: true});\n",
       "}}\n",
       "\n",
       "                        })                };                });            </script>        </div>"
      ]
     },
     "metadata": {},
     "output_type": "display_data"
    }
   ],
   "source": [
    "fig = px.histogram(y.Class, nbins=5, marginal=\"violin\")\n",
    "fig.show()"
   ]
  },
  {
   "cell_type": "markdown",
   "metadata": {},
   "source": [
    "As we can see the dataset is not equally distributed so we will use stratified shuffle and split to seperate the data to train and test sets."
   ]
  },
  {
   "cell_type": "markdown",
   "metadata": {},
   "source": [
    "## Prepare the Data for Machine Learning Algorithms<a id='prepare'></a>"
   ]
  },
  {
   "cell_type": "markdown",
   "metadata": {},
   "source": [
    "We will encode the class column so that it can be used in the machine learning algorithms."
   ]
  },
  {
   "cell_type": "code",
   "execution_count": 11,
   "metadata": {},
   "outputs": [],
   "source": [
    "y['Enc'] = y.Class.replace({'PRAD':0, 'LUAD':1, 'BRCA':2, 'KIRC':3, 'COAD':4})\n",
    "labels = ['PRAD', 'LUAD', 'BRCA', 'KIRC', 'COAD']"
   ]
  },
  {
   "cell_type": "code",
   "execution_count": 12,
   "metadata": {},
   "outputs": [
    {
     "data": {
      "text/html": [
       "<div>\n",
       "<style scoped>\n",
       "    .dataframe tbody tr th:only-of-type {\n",
       "        vertical-align: middle;\n",
       "    }\n",
       "\n",
       "    .dataframe tbody tr th {\n",
       "        vertical-align: top;\n",
       "    }\n",
       "\n",
       "    .dataframe thead th {\n",
       "        text-align: right;\n",
       "    }\n",
       "</style>\n",
       "<table border=\"1\" class=\"dataframe\">\n",
       "  <thead>\n",
       "    <tr style=\"text-align: right;\">\n",
       "      <th></th>\n",
       "      <th>Unnamed: 0</th>\n",
       "      <th>Class</th>\n",
       "      <th>Enc</th>\n",
       "    </tr>\n",
       "  </thead>\n",
       "  <tbody>\n",
       "    <tr>\n",
       "      <th>0</th>\n",
       "      <td>sample_0</td>\n",
       "      <td>PRAD</td>\n",
       "      <td>0</td>\n",
       "    </tr>\n",
       "    <tr>\n",
       "      <th>1</th>\n",
       "      <td>sample_1</td>\n",
       "      <td>LUAD</td>\n",
       "      <td>1</td>\n",
       "    </tr>\n",
       "    <tr>\n",
       "      <th>2</th>\n",
       "      <td>sample_2</td>\n",
       "      <td>PRAD</td>\n",
       "      <td>0</td>\n",
       "    </tr>\n",
       "    <tr>\n",
       "      <th>3</th>\n",
       "      <td>sample_3</td>\n",
       "      <td>PRAD</td>\n",
       "      <td>0</td>\n",
       "    </tr>\n",
       "    <tr>\n",
       "      <th>4</th>\n",
       "      <td>sample_4</td>\n",
       "      <td>BRCA</td>\n",
       "      <td>2</td>\n",
       "    </tr>\n",
       "  </tbody>\n",
       "</table>\n",
       "</div>"
      ],
      "text/plain": [
       "  Unnamed: 0 Class  Enc\n",
       "0   sample_0  PRAD    0\n",
       "1   sample_1  LUAD    1\n",
       "2   sample_2  PRAD    0\n",
       "3   sample_3  PRAD    0\n",
       "4   sample_4  BRCA    2"
      ]
     },
     "execution_count": 12,
     "metadata": {},
     "output_type": "execute_result"
    }
   ],
   "source": [
    "y.head()"
   ]
  },
  {
   "cell_type": "code",
   "execution_count": 13,
   "metadata": {
    "scrolled": false
   },
   "outputs": [
    {
     "name": "stdout",
     "output_type": "stream",
     "text": [
      "<class 'pandas.core.frame.DataFrame'>\n",
      "RangeIndex: 801 entries, 0 to 800\n",
      "Columns: 20532 entries, Unnamed: 0 to gene_20530\n",
      "dtypes: float64(20531), object(1)\n",
      "memory usage: 125.5+ MB\n"
     ]
    }
   ],
   "source": [
    "data.info()"
   ]
  },
  {
   "cell_type": "code",
   "execution_count": 14,
   "metadata": {},
   "outputs": [
    {
     "name": "stdout",
     "output_type": "stream",
     "text": [
      "0\n"
     ]
    }
   ],
   "source": [
    "na = 0\n",
    "for i in data.columns:\n",
    "    na +=  data[i].isna().sum()\n",
    "print(na)"
   ]
  },
  {
   "cell_type": "markdown",
   "metadata": {},
   "source": [
    "There are no null values in the dataset."
   ]
  },
  {
   "cell_type": "code",
   "execution_count": 15,
   "metadata": {},
   "outputs": [],
   "source": [
    "data.drop('Unnamed: 0', axis=1, inplace=True)\n",
    "y.drop('Unnamed: 0', axis=1, inplace=True)"
   ]
  },
  {
   "cell_type": "markdown",
   "metadata": {},
   "source": [
    "### Stratified Shuffle Split <a id='strat'></a>"
   ]
  },
  {
   "cell_type": "code",
   "execution_count": 16,
   "metadata": {},
   "outputs": [],
   "source": [
    "from sklearn.model_selection import StratifiedShuffleSplit\n",
    "from sklearn.model_selection import train_test_split\n",
    "\n",
    "split = StratifiedShuffleSplit(n_splits=1, test_size=0.2, random_state=42)\n",
    "\n",
    "for train_index, test_index in split.split(y, y['Class']):\n",
    "    X_train = data.loc[train_index]\n",
    "    X_test = data.loc[test_index]\n",
    "    y_train = y.loc[train_index]\n",
    "    y_test = y.loc[test_index]\n"
   ]
  },
  {
   "cell_type": "code",
   "execution_count": 17,
   "metadata": {
    "scrolled": true
   },
   "outputs": [],
   "source": [
    "def tumor_class_proportions(data):\n",
    "    return data[\"Class\"].value_counts() / len(data)\n",
    "\n",
    "Xtrain, Xtest, ytrain, ytest = train_test_split(data, y , test_size=0.2, random_state=42)\n",
    "\n",
    "compare_props = pd.DataFrame({\n",
    "    #\"Labels\": labels,\n",
    "    \"Class\": tumor_class_proportions(y),\n",
    "    \"Stratified\": tumor_class_proportions(y_test),\n",
    "    \"Random\": tumor_class_proportions(ytest),\n",
    "}).sort_index()\n",
    "compare_props[\"Strat. %error\"] = 100 * compare_props[\"Stratified\"] / compare_props[\"Class\"] - 100\n",
    "compare_props[\"Rand. %error\"] = 100 * compare_props[\"Random\"] / compare_props[\"Class\"] - 100\n"
   ]
  },
  {
   "cell_type": "code",
   "execution_count": 18,
   "metadata": {
    "scrolled": false
   },
   "outputs": [
    {
     "data": {
      "text/html": [
       "<div>\n",
       "<style scoped>\n",
       "    .dataframe tbody tr th:only-of-type {\n",
       "        vertical-align: middle;\n",
       "    }\n",
       "\n",
       "    .dataframe tbody tr th {\n",
       "        vertical-align: top;\n",
       "    }\n",
       "\n",
       "    .dataframe thead th {\n",
       "        text-align: right;\n",
       "    }\n",
       "</style>\n",
       "<table border=\"1\" class=\"dataframe\">\n",
       "  <thead>\n",
       "    <tr style=\"text-align: right;\">\n",
       "      <th></th>\n",
       "      <th>Class</th>\n",
       "      <th>Stratified</th>\n",
       "      <th>Random</th>\n",
       "      <th>Strat. %error</th>\n",
       "      <th>Rand. %error</th>\n",
       "    </tr>\n",
       "  </thead>\n",
       "  <tbody>\n",
       "    <tr>\n",
       "      <th>BRCA</th>\n",
       "      <td>0.374532</td>\n",
       "      <td>0.372671</td>\n",
       "      <td>0.378882</td>\n",
       "      <td>-0.496894</td>\n",
       "      <td>1.161491</td>\n",
       "    </tr>\n",
       "    <tr>\n",
       "      <th>COAD</th>\n",
       "      <td>0.097378</td>\n",
       "      <td>0.099379</td>\n",
       "      <td>0.105590</td>\n",
       "      <td>2.054467</td>\n",
       "      <td>8.432871</td>\n",
       "    </tr>\n",
       "    <tr>\n",
       "      <th>KIRC</th>\n",
       "      <td>0.182272</td>\n",
       "      <td>0.186335</td>\n",
       "      <td>0.155280</td>\n",
       "      <td>2.229218</td>\n",
       "      <td>-14.808985</td>\n",
       "    </tr>\n",
       "    <tr>\n",
       "      <th>LUAD</th>\n",
       "      <td>0.176030</td>\n",
       "      <td>0.173913</td>\n",
       "      <td>0.180124</td>\n",
       "      <td>-1.202590</td>\n",
       "      <td>2.325889</td>\n",
       "    </tr>\n",
       "    <tr>\n",
       "      <th>PRAD</th>\n",
       "      <td>0.169788</td>\n",
       "      <td>0.167702</td>\n",
       "      <td>0.180124</td>\n",
       "      <td>-1.228535</td>\n",
       "      <td>6.087870</td>\n",
       "    </tr>\n",
       "  </tbody>\n",
       "</table>\n",
       "</div>"
      ],
      "text/plain": [
       "         Class  Stratified    Random  Strat. %error  Rand. %error\n",
       "BRCA  0.374532    0.372671  0.378882      -0.496894      1.161491\n",
       "COAD  0.097378    0.099379  0.105590       2.054467      8.432871\n",
       "KIRC  0.182272    0.186335  0.155280       2.229218    -14.808985\n",
       "LUAD  0.176030    0.173913  0.180124      -1.202590      2.325889\n",
       "PRAD  0.169788    0.167702  0.180124      -1.228535      6.087870"
      ]
     },
     "execution_count": 18,
     "metadata": {},
     "output_type": "execute_result"
    }
   ],
   "source": [
    "compare_props"
   ]
  },
  {
   "cell_type": "markdown",
   "metadata": {},
   "source": [
    "### Scale the Data <a id='scale'></a>"
   ]
  },
  {
   "cell_type": "code",
   "execution_count": 19,
   "metadata": {
    "scrolled": true
   },
   "outputs": [
    {
     "data": {
      "text/html": [
       "<div>\n",
       "<style scoped>\n",
       "    .dataframe tbody tr th:only-of-type {\n",
       "        vertical-align: middle;\n",
       "    }\n",
       "\n",
       "    .dataframe tbody tr th {\n",
       "        vertical-align: top;\n",
       "    }\n",
       "\n",
       "    .dataframe thead th {\n",
       "        text-align: right;\n",
       "    }\n",
       "</style>\n",
       "<table border=\"1\" class=\"dataframe\">\n",
       "  <thead>\n",
       "    <tr style=\"text-align: right;\">\n",
       "      <th></th>\n",
       "      <th>gene_0</th>\n",
       "      <th>gene_1</th>\n",
       "      <th>gene_2</th>\n",
       "      <th>gene_3</th>\n",
       "      <th>gene_4</th>\n",
       "      <th>gene_5</th>\n",
       "      <th>gene_6</th>\n",
       "      <th>gene_7</th>\n",
       "      <th>gene_8</th>\n",
       "      <th>gene_9</th>\n",
       "      <th>...</th>\n",
       "      <th>gene_20521</th>\n",
       "      <th>gene_20522</th>\n",
       "      <th>gene_20523</th>\n",
       "      <th>gene_20524</th>\n",
       "      <th>gene_20525</th>\n",
       "      <th>gene_20526</th>\n",
       "      <th>gene_20527</th>\n",
       "      <th>gene_20528</th>\n",
       "      <th>gene_20529</th>\n",
       "      <th>gene_20530</th>\n",
       "    </tr>\n",
       "  </thead>\n",
       "  <tbody>\n",
       "    <tr>\n",
       "      <th>count</th>\n",
       "      <td>801.000000</td>\n",
       "      <td>801.000000</td>\n",
       "      <td>801.000000</td>\n",
       "      <td>801.000000</td>\n",
       "      <td>801.000000</td>\n",
       "      <td>801.0</td>\n",
       "      <td>801.000000</td>\n",
       "      <td>801.000000</td>\n",
       "      <td>801.000000</td>\n",
       "      <td>801.000000</td>\n",
       "      <td>...</td>\n",
       "      <td>801.000000</td>\n",
       "      <td>801.000000</td>\n",
       "      <td>801.000000</td>\n",
       "      <td>801.000000</td>\n",
       "      <td>801.000000</td>\n",
       "      <td>801.000000</td>\n",
       "      <td>801.000000</td>\n",
       "      <td>801.000000</td>\n",
       "      <td>801.000000</td>\n",
       "      <td>801.000000</td>\n",
       "    </tr>\n",
       "    <tr>\n",
       "      <th>mean</th>\n",
       "      <td>0.026642</td>\n",
       "      <td>3.010909</td>\n",
       "      <td>3.095350</td>\n",
       "      <td>6.722305</td>\n",
       "      <td>9.813612</td>\n",
       "      <td>0.0</td>\n",
       "      <td>7.405509</td>\n",
       "      <td>0.499882</td>\n",
       "      <td>0.016744</td>\n",
       "      <td>0.013428</td>\n",
       "      <td>...</td>\n",
       "      <td>5.896573</td>\n",
       "      <td>8.765891</td>\n",
       "      <td>10.056252</td>\n",
       "      <td>4.847727</td>\n",
       "      <td>9.741987</td>\n",
       "      <td>11.742228</td>\n",
       "      <td>10.155271</td>\n",
       "      <td>9.590726</td>\n",
       "      <td>5.528177</td>\n",
       "      <td>0.095411</td>\n",
       "    </tr>\n",
       "    <tr>\n",
       "      <th>std</th>\n",
       "      <td>0.136850</td>\n",
       "      <td>1.200828</td>\n",
       "      <td>1.065601</td>\n",
       "      <td>0.638819</td>\n",
       "      <td>0.506537</td>\n",
       "      <td>0.0</td>\n",
       "      <td>1.108237</td>\n",
       "      <td>0.508799</td>\n",
       "      <td>0.133635</td>\n",
       "      <td>0.204722</td>\n",
       "      <td>...</td>\n",
       "      <td>0.746399</td>\n",
       "      <td>0.603176</td>\n",
       "      <td>0.379278</td>\n",
       "      <td>2.382728</td>\n",
       "      <td>0.533898</td>\n",
       "      <td>0.670371</td>\n",
       "      <td>0.580569</td>\n",
       "      <td>0.563849</td>\n",
       "      <td>2.073859</td>\n",
       "      <td>0.364529</td>\n",
       "    </tr>\n",
       "    <tr>\n",
       "      <th>min</th>\n",
       "      <td>0.000000</td>\n",
       "      <td>0.000000</td>\n",
       "      <td>0.000000</td>\n",
       "      <td>5.009284</td>\n",
       "      <td>8.435999</td>\n",
       "      <td>0.0</td>\n",
       "      <td>3.930747</td>\n",
       "      <td>0.000000</td>\n",
       "      <td>0.000000</td>\n",
       "      <td>0.000000</td>\n",
       "      <td>...</td>\n",
       "      <td>2.853517</td>\n",
       "      <td>6.678368</td>\n",
       "      <td>8.669456</td>\n",
       "      <td>0.000000</td>\n",
       "      <td>7.974942</td>\n",
       "      <td>9.045255</td>\n",
       "      <td>7.530141</td>\n",
       "      <td>7.864533</td>\n",
       "      <td>0.593975</td>\n",
       "      <td>0.000000</td>\n",
       "    </tr>\n",
       "    <tr>\n",
       "      <th>25%</th>\n",
       "      <td>0.000000</td>\n",
       "      <td>2.299039</td>\n",
       "      <td>2.390365</td>\n",
       "      <td>6.303346</td>\n",
       "      <td>9.464466</td>\n",
       "      <td>0.0</td>\n",
       "      <td>6.676042</td>\n",
       "      <td>0.000000</td>\n",
       "      <td>0.000000</td>\n",
       "      <td>0.000000</td>\n",
       "      <td>...</td>\n",
       "      <td>5.454926</td>\n",
       "      <td>8.383834</td>\n",
       "      <td>9.826027</td>\n",
       "      <td>3.130750</td>\n",
       "      <td>9.400747</td>\n",
       "      <td>11.315857</td>\n",
       "      <td>9.836525</td>\n",
       "      <td>9.244219</td>\n",
       "      <td>4.092385</td>\n",
       "      <td>0.000000</td>\n",
       "    </tr>\n",
       "    <tr>\n",
       "      <th>50%</th>\n",
       "      <td>0.000000</td>\n",
       "      <td>3.143687</td>\n",
       "      <td>3.127006</td>\n",
       "      <td>6.655893</td>\n",
       "      <td>9.791599</td>\n",
       "      <td>0.0</td>\n",
       "      <td>7.450114</td>\n",
       "      <td>0.443076</td>\n",
       "      <td>0.000000</td>\n",
       "      <td>0.000000</td>\n",
       "      <td>...</td>\n",
       "      <td>5.972582</td>\n",
       "      <td>8.784144</td>\n",
       "      <td>10.066385</td>\n",
       "      <td>5.444935</td>\n",
       "      <td>9.784524</td>\n",
       "      <td>11.749802</td>\n",
       "      <td>10.191207</td>\n",
       "      <td>9.566511</td>\n",
       "      <td>5.218618</td>\n",
       "      <td>0.000000</td>\n",
       "    </tr>\n",
       "    <tr>\n",
       "      <th>75%</th>\n",
       "      <td>0.000000</td>\n",
       "      <td>3.883484</td>\n",
       "      <td>3.802534</td>\n",
       "      <td>7.038447</td>\n",
       "      <td>10.142324</td>\n",
       "      <td>0.0</td>\n",
       "      <td>8.121984</td>\n",
       "      <td>0.789354</td>\n",
       "      <td>0.000000</td>\n",
       "      <td>0.000000</td>\n",
       "      <td>...</td>\n",
       "      <td>6.411292</td>\n",
       "      <td>9.147136</td>\n",
       "      <td>10.299025</td>\n",
       "      <td>6.637412</td>\n",
       "      <td>10.082269</td>\n",
       "      <td>12.177852</td>\n",
       "      <td>10.578561</td>\n",
       "      <td>9.917888</td>\n",
       "      <td>6.876382</td>\n",
       "      <td>0.000000</td>\n",
       "    </tr>\n",
       "    <tr>\n",
       "      <th>max</th>\n",
       "      <td>1.482332</td>\n",
       "      <td>6.237034</td>\n",
       "      <td>6.063484</td>\n",
       "      <td>10.129528</td>\n",
       "      <td>11.355621</td>\n",
       "      <td>0.0</td>\n",
       "      <td>10.718190</td>\n",
       "      <td>2.779008</td>\n",
       "      <td>1.785592</td>\n",
       "      <td>4.067604</td>\n",
       "      <td>...</td>\n",
       "      <td>7.771054</td>\n",
       "      <td>11.105431</td>\n",
       "      <td>11.318243</td>\n",
       "      <td>9.207495</td>\n",
       "      <td>11.811632</td>\n",
       "      <td>13.715361</td>\n",
       "      <td>11.675653</td>\n",
       "      <td>12.813320</td>\n",
       "      <td>11.205836</td>\n",
       "      <td>5.254133</td>\n",
       "    </tr>\n",
       "  </tbody>\n",
       "</table>\n",
       "<p>8 rows × 20531 columns</p>\n",
       "</div>"
      ],
      "text/plain": [
       "           gene_0      gene_1      gene_2      gene_3      gene_4  gene_5  \\\n",
       "count  801.000000  801.000000  801.000000  801.000000  801.000000   801.0   \n",
       "mean     0.026642    3.010909    3.095350    6.722305    9.813612     0.0   \n",
       "std      0.136850    1.200828    1.065601    0.638819    0.506537     0.0   \n",
       "min      0.000000    0.000000    0.000000    5.009284    8.435999     0.0   \n",
       "25%      0.000000    2.299039    2.390365    6.303346    9.464466     0.0   \n",
       "50%      0.000000    3.143687    3.127006    6.655893    9.791599     0.0   \n",
       "75%      0.000000    3.883484    3.802534    7.038447   10.142324     0.0   \n",
       "max      1.482332    6.237034    6.063484   10.129528   11.355621     0.0   \n",
       "\n",
       "           gene_6      gene_7      gene_8      gene_9  ...  gene_20521  \\\n",
       "count  801.000000  801.000000  801.000000  801.000000  ...  801.000000   \n",
       "mean     7.405509    0.499882    0.016744    0.013428  ...    5.896573   \n",
       "std      1.108237    0.508799    0.133635    0.204722  ...    0.746399   \n",
       "min      3.930747    0.000000    0.000000    0.000000  ...    2.853517   \n",
       "25%      6.676042    0.000000    0.000000    0.000000  ...    5.454926   \n",
       "50%      7.450114    0.443076    0.000000    0.000000  ...    5.972582   \n",
       "75%      8.121984    0.789354    0.000000    0.000000  ...    6.411292   \n",
       "max     10.718190    2.779008    1.785592    4.067604  ...    7.771054   \n",
       "\n",
       "       gene_20522  gene_20523  gene_20524  gene_20525  gene_20526  gene_20527  \\\n",
       "count  801.000000  801.000000  801.000000  801.000000  801.000000  801.000000   \n",
       "mean     8.765891   10.056252    4.847727    9.741987   11.742228   10.155271   \n",
       "std      0.603176    0.379278    2.382728    0.533898    0.670371    0.580569   \n",
       "min      6.678368    8.669456    0.000000    7.974942    9.045255    7.530141   \n",
       "25%      8.383834    9.826027    3.130750    9.400747   11.315857    9.836525   \n",
       "50%      8.784144   10.066385    5.444935    9.784524   11.749802   10.191207   \n",
       "75%      9.147136   10.299025    6.637412   10.082269   12.177852   10.578561   \n",
       "max     11.105431   11.318243    9.207495   11.811632   13.715361   11.675653   \n",
       "\n",
       "       gene_20528  gene_20529  gene_20530  \n",
       "count  801.000000  801.000000  801.000000  \n",
       "mean     9.590726    5.528177    0.095411  \n",
       "std      0.563849    2.073859    0.364529  \n",
       "min      7.864533    0.593975    0.000000  \n",
       "25%      9.244219    4.092385    0.000000  \n",
       "50%      9.566511    5.218618    0.000000  \n",
       "75%      9.917888    6.876382    0.000000  \n",
       "max     12.813320   11.205836    5.254133  \n",
       "\n",
       "[8 rows x 20531 columns]"
      ]
     },
     "execution_count": 19,
     "metadata": {},
     "output_type": "execute_result"
    }
   ],
   "source": [
    "data.describe()"
   ]
  },
  {
   "cell_type": "markdown",
   "metadata": {},
   "source": [
    "Clearly there is some variation in the scales across the different features. Many machine learning models work much better with data that's on the same scale, so let's create a scaled version of the dataset."
   ]
  },
  {
   "cell_type": "code",
   "execution_count": 20,
   "metadata": {},
   "outputs": [],
   "source": [
    "scaler = StandardScaler()\n",
    "X_train_scl = scaler.fit_transform(X_train)\n",
    "X_test_scl = scaler.transform(X_test) "
   ]
  },
  {
   "cell_type": "markdown",
   "metadata": {},
   "source": [
    "### Principal Component Analysis<a id='pca'></a>"
   ]
  },
  {
   "cell_type": "markdown",
   "metadata": {},
   "source": [
    "With 20531 features, it would be a good practice to reduce the dimensionality of the dataset. **Principal Component Analysis (PCA)** is the most popular dimensionality reduction algorithm.     \n",
    "We will use pca to preserve 95% of the variance."
   ]
  },
  {
   "cell_type": "code",
   "execution_count": 21,
   "metadata": {},
   "outputs": [],
   "source": [
    "pca = PCA(n_components=0.95)\n",
    "#X_train.pca = pca.fit_transform(X_train)\n",
    "pca.fit_transform(X_train)\n",
    "X_train_pca = pca.transform(X_train)\n",
    "X_test_pca = pca.transform(X_test)"
   ]
  },
  {
   "cell_type": "code",
   "execution_count": 22,
   "metadata": {},
   "outputs": [
    {
     "data": {
      "text/plain": [
       "394"
      ]
     },
     "execution_count": 22,
     "metadata": {},
     "output_type": "execute_result"
    }
   ],
   "source": [
    "pca.n_components_"
   ]
  },
  {
   "cell_type": "markdown",
   "metadata": {},
   "source": [
    "Around 95% of variance is explained by 394 features out of the 20531 features."
   ]
  },
  {
   "cell_type": "markdown",
   "metadata": {},
   "source": [
    "We can't plot something in 394 dimensions, so we will take a look at how PCA looks like when we pick the top 3 components."
   ]
  },
  {
   "cell_type": "code",
   "execution_count": 23,
   "metadata": {},
   "outputs": [],
   "source": [
    "pca3 = PCA(n_components=3).fit(X_train)\n",
    "X_train_reduced = pca3.transform(X_train)"
   ]
  },
  {
   "cell_type": "code",
   "execution_count": 24,
   "metadata": {},
   "outputs": [
    {
     "data": {
      "application/vnd.plotly.v1+json": {
       "config": {
        "plotlyServerURL": "https://plot.ly"
       },
       "data": [
        {
         "hovertemplate": "Class=BRCA<br>1st eigenvector=%{x}<br>2nd eigenvector=%{y}<br>3rd eigenvector=%{z}<extra></extra>",
         "legendgroup": "BRCA",
         "marker": {
          "color": "#636efa",
          "opacity": 0.7,
          "symbol": "circle"
         },
         "mode": "markers",
         "name": "BRCA",
         "scene": "scene",
         "showlegend": true,
         "type": "scatter3d",
         "x": [
          -51.07033204900715,
          -56.541858459006285,
          -38.71462687551073,
          -40.25977784914619,
          -22.40129772028375,
          -55.673540585209224,
          -22.60941204049929,
          -35.82242839158728,
          -51.2188611466837,
          -24.84063682309461,
          -56.248804564617316,
          -63.71802304603038,
          -50.41489463660086,
          -43.34151558111211,
          -13.57957011038889,
          -47.96250649238773,
          -49.87164792338868,
          -40.32091843502616,
          -54.12661597955977,
          -68.3630629968275,
          -43.220048597380355,
          -46.845502072973886,
          -46.799222996219605,
          -60.702419121746544,
          -37.24509620228143,
          -40.40809806002734,
          -13.501560265502173,
          -28.538178696205105,
          -59.10133355276049,
          -30.573361551259094,
          -42.78008302899495,
          -42.09590380350799,
          -61.0190112859576,
          -54.49386781479331,
          -40.74343990402323,
          -58.2531076194394,
          -57.38449215149363,
          -44.834220319652374,
          -42.58892638039004,
          -41.64359280034811,
          -36.69852683273107,
          -50.94535030872474,
          -42.11346118138561,
          -32.534908011567225,
          -86.44757302198371,
          -29.770501270721805,
          -54.38933795849482,
          -52.71162936406907,
          -50.199422177097986,
          -33.69788209110445,
          -29.21543780465845,
          -61.283830645765114,
          -71.02386642269542,
          -76.10507227917425,
          -64.7473621773652,
          -46.6490542221095,
          -75.9300007189275,
          -63.576892245826386,
          -50.04552541895733,
          -59.94115806744884,
          -50.79235738326025,
          -64.02894119105142,
          -52.54663601448353,
          6.8165390702939685,
          -12.113401514915708,
          -32.179696878589176,
          -54.47472537800091,
          -44.18500251786528,
          -49.182399472767635,
          -51.24373897145266,
          -34.32288625611608,
          -54.16922498314282,
          -37.441309007629314,
          -42.78392652925928,
          -83.68404116251756,
          -37.51707775481353,
          -41.33532255990125,
          -39.46471345542062,
          -84.7692611417895,
          -64.38160438541665,
          -51.79728788090691,
          -45.24375433492627,
          20.18322346453401,
          -43.97520070003567,
          -62.910110494975626,
          -57.126639532088014,
          -21.149958484637988,
          -47.03791270666882,
          -43.98065608607558,
          -51.55086676836515,
          -62.95291751054546,
          -56.529919000280714,
          -58.70922429810893,
          -35.06937482942067,
          -38.90295285530942,
          -39.390223891132905,
          -30.50192315134029,
          -12.305315996514809,
          -38.48546217370106,
          -27.20065874961495,
          -27.8990763970249,
          -61.92396452860419,
          -55.81536930988122,
          -28.955301283721614,
          -46.4823521151157,
          -24.125345752880552,
          -62.79844354444932,
          -40.260560181566134,
          -50.39819985298719,
          -66.07799653415174,
          -42.55034379029736,
          -40.63853548946817,
          -50.231666115371134,
          -39.94816703929893,
          -49.02208805381062,
          -34.42900884832757,
          -30.293515037434723,
          -27.35094192847269,
          -55.90415544457653,
          -52.906358053143954,
          -29.013544497918623,
          -26.793239195654273,
          -52.267305936168384,
          -39.044648157541396,
          -28.05728652015881,
          -26.333410234053513,
          -63.43624225127692,
          -68.64738760803884,
          -46.41579051548539,
          -38.93205259600706,
          -45.191366278153986,
          -24.78647837884801,
          -41.29030344810151,
          -30.364188657319023,
          -74.09850799527914,
          -45.30387701991571,
          -53.06809703086906,
          -31.06472908872091,
          2.245581058609482,
          -19.16816033540328,
          -52.98736703527185,
          -66.67535298698796,
          -43.590119452803144,
          -41.222468147168065,
          -35.23134472722966,
          -46.86076414028946,
          -49.88780957604458,
          -47.83379782374253,
          -1.3354598919657081,
          -57.431544194634434,
          -25.05547088026581,
          -47.2188166459983,
          -48.489329235238316,
          -45.55047733791467,
          -43.919432749312264,
          -49.7360555267444,
          -51.67978675038422,
          -55.78353505391789,
          -38.14118410389969,
          -38.6427896766275,
          -55.68624876196274,
          -55.693636328689514,
          -29.84364283822633,
          -48.776275228816246,
          -47.53194377827976,
          -54.533145909786946,
          -28.505876305008016,
          -24.619526071993864,
          -39.682578610060204,
          -61.721433090384245,
          -43.59052003020624,
          -61.50635518441918,
          -51.225687084425445,
          -46.34252110773179,
          -44.250064921678025,
          -54.825417953273806,
          -64.97450640235871,
          -43.75415335416516,
          -47.253939098171486,
          -31.311923572079802,
          -25.487137084862606,
          -43.69586526518572,
          -50.353821779820805,
          -37.93827422855893,
          -25.858015370401702,
          -52.88513205462187,
          -31.885349917736182,
          -56.44755591836735,
          -28.907489271117097,
          -45.201085766074634,
          -41.032621421047615,
          -42.063539645513366,
          -33.79918253424628,
          -32.28250796339317,
          -42.730644885638974,
          -16.541378880140865,
          -65.83329917847188,
          -66.04209008700064,
          -8.137280905083065,
          -47.99673686720942,
          -25.85426543920169,
          -39.467792254404564,
          -61.69005219205243,
          -28.908962119392914,
          -61.39448863501626,
          -24.241648863918655,
          -32.63159071722919,
          -10.596754237543523,
          -55.015899595477805,
          -32.11986620446013,
          -56.500813460086164,
          -30.239410192532965,
          -44.489949757600165,
          -47.86759242028336,
          -42.01046267806633,
          -30.666997126231216,
          -43.00824287445305,
          -44.428880985117914,
          -47.215962263491406,
          -50.69722458859785,
          -25.416154412370098,
          -42.934201565828666,
          -59.89666461948096,
          -42.61671076601015,
          -20.86112969531261,
          -42.936893260015104,
          -30.93065012509087,
          -22.75147462236655,
          -63.8026524475837,
          -58.95573062446693,
          -21.02508779579692,
          -51.60627631935017,
          -65.4497289909324,
          -22.47762134003102,
          -39.90701450871996,
          -39.62117121377409,
          -21.317952177895503,
          -50.68785340799669,
          -57.458075474922964,
          -45.060687736092305
         ],
         "y": [
          45.41259018738505,
          -4.987669029552398,
          12.578660636470364,
          26.936301221273233,
          -7.392955114906792,
          7.5612493309546265,
          -32.25232911036467,
          50.771400390459334,
          -5.527739858883266,
          -14.094724253921383,
          3.4260638574372044,
          -12.047220255929876,
          5.619180654563194,
          -25.69095097151224,
          -36.57712527533321,
          -29.23528086242949,
          -36.4901088696409,
          -40.79214012387469,
          -23.408488246698848,
          40.852801819709185,
          -21.066438712044427,
          -26.455558388059163,
          30.575258395537737,
          10.48180937927269,
          2.65740265915905,
          4.999350373260339,
          9.983438952468735,
          6.1584559373361,
          -19.712955537033537,
          -25.741274156213176,
          -31.72974039837033,
          6.920726920250657,
          4.268867122297989,
          -10.777334048490044,
          -20.17254198441251,
          1.1922694855600582,
          -4.842315818750058,
          -25.317927833862576,
          -3.287059413256924,
          -5.060296234606751,
          37.606028215045804,
          -20.103041153850945,
          -23.697631180686393,
          -22.146017990555,
          39.95831157299035,
          43.80948554653622,
          -2.9645282941606825,
          10.641051728438756,
          -1.3099051428518411,
          2.3634920901997756,
          46.68008355406579,
          2.9653714807275917,
          -5.180152145151589,
          7.98485972764113,
          -4.021286344076607,
          25.797760659359444,
          17.444586576255247,
          35.894795136236645,
          5.9577469143749795,
          -3.59599467146837,
          -29.070308449511693,
          19.874990513092648,
          -17.966072452846287,
          0.2787581174100261,
          39.92883251269178,
          -16.31889474697988,
          14.624352013252732,
          -19.174028468201616,
          -20.822670345537528,
          23.502269697214803,
          -10.897372710453627,
          21.092601433732707,
          -13.108522750307074,
          56.80127171393254,
          31.059040241754754,
          20.090449647201815,
          40.09511230240615,
          -1.8798146377266123,
          24.759547384298035,
          4.225347371583518,
          6.45336382349992,
          -16.376071811751423,
          17.34245362186403,
          8.002834493858936,
          10.212306356452284,
          14.556619630523619,
          49.18461315331251,
          6.141185643763537,
          -15.177554719437355,
          -8.894359336731585,
          -5.696286437423191,
          4.3938298854730355,
          10.838993308490059,
          2.352752302032691,
          -14.73424404530303,
          -15.418463911102757,
          26.01098264614897,
          24.162383806828036,
          53.890920271752464,
          -4.851757281831607,
          -27.369321707210243,
          11.688619295423088,
          -12.230427549987988,
          -29.563742990766606,
          -21.45070063774083,
          -43.08165687254865,
          4.944366212078134,
          -3.039616611794142,
          -12.45131100647312,
          9.118865465441564,
          15.425349109752636,
          -0.1741207546037998,
          55.21353432884711,
          24.204976438582282,
          -10.563342836739508,
          -24.922287649613985,
          -17.480399098932775,
          10.300420133316228,
          1.8778042700470237,
          -36.626251267541036,
          -23.380934336225515,
          -33.79715532053571,
          5.508189647477762,
          0.5535296240978912,
          59.49921233885439,
          33.08849931738986,
          -1.4520966944693847,
          -9.973225879021973,
          -1.8466791180357063,
          61.08164541452746,
          -30.859743911884763,
          54.79321647145297,
          -14.484665680739758,
          26.916898984074297,
          13.993691647008635,
          25.327944621874455,
          -13.865912471220977,
          32.08054181329593,
          21.894021656411844,
          41.48287206032808,
          43.628356098043646,
          -5.368405027074105,
          6.018524862162333,
          36.79991728345521,
          -35.48121789513852,
          9.467727480664799,
          15.860097285585288,
          -8.104713060099943,
          35.12370726137138,
          -15.518211201205858,
          -46.612679345312245,
          -17.665781350381856,
          -4.044531573286812,
          13.859303735018926,
          -17.83718624389141,
          11.4066361482453,
          6.828251613932266,
          -1.9160960104585034,
          -24.09125479406551,
          16.775538930588812,
          6.962013895118357,
          1.4673833321439533,
          -1.8678375422524562,
          -15.954371355615072,
          -9.858486443399485,
          -5.708788023105856,
          -31.876576518908475,
          69.0514268226405,
          -6.106672195626,
          6.997137799583034,
          -10.670812506896,
          -1.356730676184203,
          -6.286170809616867,
          19.08770945553714,
          -23.697518713994878,
          -14.348919758114802,
          11.083043558938257,
          -5.03241420423585,
          -11.699538101571655,
          -20.865843918255443,
          23.95592980085507,
          45.45702979314044,
          -8.965505921320885,
          -10.211990692752199,
          36.53603880594343,
          9.16898832838822,
          -22.74641274994481,
          -24.388725195927915,
          -14.708953564805059,
          -41.31327430903663,
          -11.92535814718139,
          -22.750531163070548,
          56.47424611478486,
          34.643353140006084,
          8.748664437980217,
          12.88828434413263,
          -0.2715458223859746,
          43.467743710872924,
          -23.084082044861937,
          3.3499939833854313,
          -28.750972130204605,
          -4.593416111687231,
          28.707018004404866,
          23.071062809271254,
          5.183320287479327,
          15.456612987977202,
          6.75894336411924,
          51.9810317939895,
          46.95804169511441,
          -30.67629661825494,
          -14.129739695037637,
          4.812964368085636,
          36.13743442198921,
          -16.216952274720523,
          -10.008721090326796,
          -4.184051474677109,
          -26.01698661172727,
          10.680625827777922,
          -37.925966423287,
          -3.7172480448677496,
          65.14446670839673,
          4.430190444110791,
          12.042854286491803,
          30.578668007973242,
          -47.03302113473727,
          -34.5598019276228,
          -32.104759611942384,
          -15.261324151360524,
          15.034423019782137,
          17.65782642174078,
          -7.180866213547762,
          -8.942561184798404,
          17.292588082315344,
          51.86123981869078,
          -8.092163216681136,
          -43.35439230415758,
          -10.987742819505012,
          29.66143350511359,
          -2.2454600617118667,
          -28.1389149063098
         ],
         "z": [
          -18.734250818107178,
          -52.860679854108305,
          -58.34924839553455,
          -47.633875854056605,
          -58.855356824230945,
          -81.07720345830907,
          -79.42924686241157,
          -29.85602185328318,
          -61.984807244238425,
          -64.20591859028193,
          -73.09248222751158,
          -37.86636906137924,
          -73.85843470288229,
          -73.7183946032664,
          -93.86183479686622,
          -84.6239414083975,
          -42.199496503413606,
          -78.21658898589718,
          -52.46521068606589,
          -35.77385045622628,
          -69.03022954875135,
          -62.22453930421729,
          -68.73401376660301,
          -63.099982134486396,
          -45.41379897066934,
          -66.10866220826985,
          -51.79098108604574,
          -59.50406673430448,
          -49.08543139024071,
          -74.26781243270466,
          -58.87903104943635,
          -79.11821431124976,
          -79.71715221907654,
          -51.27325745941127,
          -66.0117520013355,
          -78.1356111706809,
          -85.24444238550055,
          -56.68982294384759,
          -78.09151707454221,
          -74.138915705208,
          -22.246324967463703,
          -63.92334733773992,
          -80.3775036126094,
          -89.80431547832056,
          -17.0948288540079,
          -43.682143805537336,
          -67.411640646959,
          -70.64979287727586,
          -73.99769062522495,
          -75.51080998414487,
          -38.811927935633086,
          -61.11783104040553,
          -69.13356193362694,
          -51.488128634602525,
          -61.04409469656921,
          -23.10478803601405,
          -68.53647553650863,
          -30.09102215654569,
          -83.20973408457444,
          -67.31632792901733,
          -73.55355357918626,
          -56.72951833394435,
          -66.53603409991227,
          -25.49054930147702,
          -55.64017103047174,
          -64.22341576276045,
          -68.91356156589194,
          -85.4275061267908,
          -81.4834106492534,
          -76.37859315890664,
          -56.59839926885939,
          -78.39003183192665,
          -41.057445006783,
          -37.927364246803094,
          -39.658468761082545,
          -67.73965945760708,
          -63.375437037577065,
          -88.98086466035625,
          -30.296048739526483,
          -56.76093050608812,
          -46.28287040423045,
          -74.48965469470244,
          -67.49332610229126,
          -77.43819475668406,
          -57.80266843361466,
          -62.12329385545344,
          -33.89782924660721,
          -79.56577574711318,
          -78.82204084502217,
          -81.39766096002094,
          -50.25819527035553,
          -75.81289904147299,
          -37.22382972830071,
          -33.82200616581727,
          -62.12324382351944,
          -73.38707055287557,
          -46.17879975464435,
          -59.72255454614058,
          -33.80388671642825,
          -74.49384979044943,
          -76.27392252005559,
          -33.19129398668065,
          -67.39488907773965,
          -75.26262244929725,
          -64.26368240211458,
          -73.35520142686721,
          -57.34390989656359,
          -68.21839557714303,
          -37.95092411390185,
          -51.80336248109191,
          -68.10638678893764,
          -13.499368103923198,
          -9.514448811068101,
          -39.46306735458576,
          -74.7836817728756,
          -77.3382240957436,
          -79.37803628277912,
          -54.685817390636174,
          -68.62591197995059,
          -62.29181918248572,
          -62.400493169755975,
          -70.74249407876269,
          -78.8536862444799,
          -78.10185561404835,
          -32.8673080222835,
          -46.25582412062848,
          -56.97291976760961,
          -64.20321747198375,
          -75.07353539505137,
          -34.90932633016303,
          -70.96535792541894,
          -31.79963901842683,
          -45.3712311362559,
          -50.238953556374035,
          -41.53255741810473,
          -45.745139585602814,
          -57.13015753216104,
          -40.26090509218137,
          -57.959808258718915,
          -32.75476503085069,
          -8.417214613956011,
          -29.7540733948564,
          -70.6549785979132,
          -22.738301195502,
          -85.05697334413243,
          -51.55962296103051,
          -66.55708801440694,
          -39.11919002965962,
          -46.50650520047062,
          -80.61715150728028,
          -48.98002873338293,
          -91.96590447870159,
          -72.4774003021435,
          -81.98453692793754,
          -86.37100689698319,
          -43.608668794865785,
          -48.60476518128173,
          -64.38362014235149,
          -72.49638229323101,
          -64.28942025582694,
          -55.13114699546504,
          -62.10304827013522,
          -65.35575651413593,
          -58.472381289496894,
          -54.14416177283935,
          -54.59074507829318,
          -50.47448378368881,
          -37.83998585154088,
          -54.58180103488841,
          -65.7451419801974,
          -62.08144601691557,
          -58.58111031299231,
          -51.634055362384935,
          -74.73724266439609,
          -67.28871512957141,
          -79.11488123307724,
          -61.35227204459788,
          -57.969370932214254,
          -75.8703612170068,
          -73.47002982282407,
          -38.04075004381417,
          -36.73393260443258,
          -74.5079665505858,
          -87.46791835672256,
          3.5742065420931075,
          -6.48488106084222,
          -57.415962414045275,
          -61.34294454039763,
          -74.47940979499396,
          -56.8910391232763,
          -76.77690262805059,
          -72.86924880738802,
          -28.487553021862382,
          -28.219808436289554,
          -73.36748678314032,
          -51.14070458507086,
          -61.841633149853386,
          -45.17113174003189,
          -90.89675703369525,
          -78.57276398272082,
          -86.05774102219674,
          -71.86854720349116,
          -58.67282216913538,
          -37.66921277024974,
          -77.4519476462248,
          -64.11698101749347,
          -67.30290035446066,
          -26.98360280774644,
          6.371922120728657,
          -66.72981118243318,
          -77.87629304594182,
          -87.97012240994898,
          5.6082850467999545,
          -49.306801282582384,
          -91.10957050729928,
          -56.755662163354444,
          -77.1007669428929,
          -64.87982848769916,
          -75.73111418880602,
          -59.83697901330353,
          -41.151845770738205,
          -61.22088760269007,
          -47.48934983621789,
          -50.51474008296741,
          -74.36749930256684,
          -82.72831240121981,
          -49.064370838171506,
          -79.08638407943869,
          -38.52672934140829,
          -62.60272171176042,
          -87.33847928134846,
          -81.29347038757926,
          -40.919087586425064,
          -40.69346881179364,
          -70.16564571410697,
          -65.17051985088871,
          -81.66659494532409,
          -57.498305668142876,
          -71.4769847255516,
          -84.86705766924287
         ]
        },
        {
         "hovertemplate": "Class=LUAD<br>1st eigenvector=%{x}<br>2nd eigenvector=%{y}<br>3rd eigenvector=%{z}<extra></extra>",
         "legendgroup": "LUAD",
         "marker": {
          "color": "#EF553B",
          "opacity": 0.7,
          "symbol": "circle"
         },
         "mode": "markers",
         "name": "LUAD",
         "scene": "scene",
         "showlegend": true,
         "type": "scatter3d",
         "x": [
          6.352112711244956,
          -3.7247954279309647,
          -4.525431800467511,
          -6.958379747364402,
          0.08687937635357827,
          6.620444931902372,
          0.7104501569120693,
          3.068727808939418,
          -2.7309549993397453,
          14.123122053027936,
          4.889871416982191,
          -4.757516075008277,
          5.663202970591991,
          -9.612606341427348,
          2.5556390611120627,
          5.89134062647185,
          1.5020564355022339,
          -9.634125713826297,
          2.8747003992513993,
          -0.014506107173262027,
          1.739621451332005,
          12.214977393498552,
          1.2554360308016266,
          -1.2390205491367947,
          2.667355010134958,
          4.778927806234763,
          -7.704776409147472,
          12.361575283312321,
          8.220869634159936,
          -4.901168598802018,
          -21.244113308999857,
          10.0486757779423,
          2.06022385267989,
          11.945988932978777,
          8.53952633391405,
          -1.0745816007981777,
          19.611744475247626,
          15.782463222320805,
          26.89930000335302,
          5.009149475839144,
          11.403835803825197,
          4.770414401797982,
          13.693492725243992,
          -3.7178755210565884,
          -3.0458518425660492,
          5.170177288724411,
          -14.626289964976925,
          -4.331156524244991,
          -1.77689222274722,
          -6.258783554757465,
          19.442301415203065,
          -17.32741935304784,
          -8.342501034717964,
          22.138984177826256,
          -8.01406477378477,
          -5.543070258029782,
          27.404615702647842,
          1.3505773393248668,
          -26.62114669906548,
          8.435398638221827,
          10.544737796229686,
          17.31090831108707,
          -2.6370999132394863,
          -11.397431070141918,
          -15.36381863840167,
          -1.8869566229147776,
          -5.652355495502681,
          4.801433626452751,
          -21.819961061983573,
          -0.9686920721852109,
          -13.080949830924778,
          14.712559101211122,
          -11.129573921337213,
          -21.000630217902007,
          -4.4080810477784516,
          9.397878645348959,
          13.484085020645898,
          5.432194547787957,
          -13.397866082671126,
          20.679017676509076,
          30.001771165392455,
          10.762104306589105,
          -19.38007778598179,
          0.6004630859892496,
          7.415928018078023,
          1.7585404861961773,
          -6.741999460214807,
          9.310632571225161,
          13.634695969217844,
          -6.0998850244186,
          -11.794550006188521,
          23.091201520043292,
          -26.626726788147522,
          -0.5400684201015518,
          5.28629572537423,
          1.9409304661001034,
          -32.5389445035938,
          -16.10419223787611,
          19.121481075152165,
          -3.543950591657205,
          -17.648912621227872,
          3.702052312554686,
          7.702887796809069,
          -0.43059848883618956,
          2.202868406015399,
          3.3353674316830872,
          -15.820146129734022,
          -11.997552847427858,
          -11.481863170962974,
          -18.379650554102927,
          1.2155725266363924,
          -2.811579464744274,
          -7.223521462719805
         ],
         "y": [
          43.593934458147665,
          41.527937597231606,
          53.077976275610375,
          54.25446947265644,
          55.499160520302134,
          59.72553350260694,
          29.76664927593284,
          65.9517158490075,
          71.5503952489785,
          8.87418772389306,
          41.450925560695076,
          50.18931626988872,
          2.293409331474675,
          62.661706029485394,
          41.903196668157996,
          26.581576746145995,
          25.72489493951646,
          55.331877488954696,
          64.81718323302886,
          34.50416825922118,
          39.63592923875822,
          56.7790676731051,
          21.492640710536627,
          71.15104492543445,
          73.82541367121931,
          39.22223613842239,
          68.02395790525968,
          13.630444498201912,
          45.76168390785293,
          62.752894885837435,
          62.85175059642148,
          45.43949907284243,
          70.08985529991692,
          52.422524001461674,
          25.709286689328625,
          59.38561560058854,
          20.89706786813787,
          54.86791961363539,
          25.571916729175776,
          50.25731471758235,
          54.224343613926145,
          77.66741558678636,
          29.05095688813992,
          50.46025256857674,
          88.74973698236091,
          38.31196415707839,
          68.16682259804782,
          52.714534813744926,
          41.9703703085292,
          49.124430284780985,
          51.477128262563056,
          64.25804647651799,
          38.94871064122622,
          35.29365456441456,
          1.0949756427426591,
          70.79720104914179,
          37.27696566944701,
          51.170494899183595,
          66.51851387668374,
          42.8164050689958,
          36.82111515677186,
          57.29042893721925,
          42.376153535871985,
          36.51142640627735,
          48.9797774969299,
          41.28894649211316,
          59.965411280440826,
          32.74942402045071,
          75.54211748686478,
          55.207851985419964,
          76.1116841121143,
          28.822706708584157,
          62.732172694476525,
          57.17814521550771,
          29.21027647785397,
          51.19505591102882,
          48.43482353784306,
          41.71783256856864,
          80.29567068453221,
          79.37362257845326,
          16.522854810391948,
          38.22074495764074,
          77.36590554160806,
          49.35064616480872,
          59.07734421068113,
          49.19506695647637,
          62.0461085772425,
          75.12797494053882,
          38.5512617015334,
          53.70591686524928,
          19.59003624141782,
          4.991207712284367,
          35.187806315361954,
          33.83369857972081,
          26.279596792046,
          47.474042628109885,
          62.995838822176694,
          55.570852710545324,
          39.96972831581176,
          49.03514732187036,
          56.87860528411276,
          47.36644156003701,
          40.877376278932225,
          39.65645698011806,
          29.65511835433822,
          79.54552619540473,
          57.46877674796113,
          55.071766374747064,
          23.887214590400514,
          44.6090951348376,
          75.15574192661109,
          64.28210707206946,
          69.67611343946835
         ],
         "z": [
          32.577609731518365,
          -10.731892488577786,
          3.389185400760939,
          25.060317221283896,
          -0.6021052271684303,
          0.5438249759939234,
          31.80039637949294,
          17.203607097603236,
          -11.103185109830074,
          -20.482753945365825,
          3.7520132874436367,
          -3.2209212097793967,
          -6.229584178392834,
          7.698350225964439,
          2.986157633721635,
          -28.34177815911422,
          -6.529567710476859,
          22.76845382118011,
          -11.075293533759584,
          -2.3397270187293997,
          4.082011663733105,
          -6.390979887827138,
          10.199559634969766,
          47.468756054594465,
          24.25967127371484,
          -18.169904503751887,
          19.206794673433603,
          -4.991915845941386,
          -1.4205690215633568,
          4.868601120868113,
          3.625589282820542,
          -9.109392162343712,
          -5.611262906936604,
          -5.303988476933741,
          13.396729319740748,
          13.389723379551619,
          7.494634437994621,
          -8.024012539138457,
          -24.168860960076675,
          -6.0926107807463294,
          -21.889415069374063,
          0.6904749236691952,
          -1.1014280953925437,
          16.024049017199296,
          -7.021481639675823,
          9.38434044093886,
          32.38886889800687,
          -6.268074626915293,
          -20.200141031256155,
          -9.566952027844184,
          -3.9476523568193964,
          5.818362610241868,
          32.14083571374536,
          18.635483964030616,
          25.819955096373242,
          5.286116619646587,
          -33.34953264940493,
          -6.138362899886325,
          7.2624264458706875,
          -9.622269244554342,
          4.803794813278308,
          -18.865063748802267,
          -10.22534390705723,
          12.998594829218032,
          7.0406811149674295,
          -2.579775392118295,
          43.70764719117135,
          4.262966849267072,
          1.8733039980750479,
          2.9392423658030573,
          8.424659719807751,
          -14.0141421711915,
          -15.702986225693182,
          22.48090833993191,
          20.997051254111245,
          -8.229966701826065,
          -12.991154504013734,
          31.535036825824427,
          2.3346316521756405,
          3.5530909202640224,
          -4.269262959804131,
          -21.3890159632581,
          60.9329918596198,
          2.369151183194897,
          -12.697775664597668,
          -20.913267637815622,
          13.542969904038527,
          -12.056890630663332,
          -5.077717274156628,
          22.777941954010092,
          11.89122770020126,
          0.27870551222784296,
          5.837514417004951,
          24.98044204169196,
          24.381940214239826,
          -2.30740864758834,
          14.307723774239854,
          10.271287544794692,
          1.9821639244092841,
          -1.5178514951663158,
          25.151744134592207,
          7.315752596738009,
          -18.644928098866213,
          21.474576154207327,
          11.743682121508241,
          56.519659314371665,
          1.0672171717905938,
          4.686396990422391,
          8.441649614053285,
          -7.54629789455351,
          -1.112880629082196,
          10.09270382321327,
          23.446404825952374
         ]
        },
        {
         "hovertemplate": "Class=KIRC<br>1st eigenvector=%{x}<br>2nd eigenvector=%{y}<br>3rd eigenvector=%{z}<extra></extra>",
         "legendgroup": "KIRC",
         "marker": {
          "color": "#00cc96",
          "opacity": 0.7,
          "symbol": "circle"
         },
         "mode": "markers",
         "name": "KIRC",
         "scene": "scene",
         "showlegend": true,
         "type": "scatter3d",
         "x": [
          166.39801874285342,
          176.8487601784016,
          134.7878097933219,
          135.97273230304648,
          185.2222979604557,
          157.66622542254564,
          128.37051945799902,
          148.72823706268795,
          152.19780443516333,
          99.1379371105795,
          172.82716631883045,
          140.93523616634224,
          128.17270756918825,
          177.6637487516671,
          168.2230868507456,
          119.39928570501493,
          171.49189158632655,
          110.67177461244339,
          165.60891494119224,
          133.54450988627727,
          178.77000427917778,
          166.54941959618424,
          159.85560353119797,
          137.9425747590139,
          171.9153504018691,
          130.98227402239405,
          168.90663137049472,
          121.05495030028915,
          159.79011104209292,
          109.65997044289601,
          170.6926275678209,
          175.00628488792395,
          142.38148376246536,
          170.14669501722122,
          87.4632978663128,
          139.10026862436223,
          159.55072051913396,
          84.52165970278976,
          158.41567776106876,
          150.96822684139445,
          163.88512798967938,
          166.19097023459645,
          144.83617779918907,
          167.41638098650475,
          128.10420611848375,
          162.83551258702465,
          175.6201206720678,
          170.45403352195007,
          67.42174896412276,
          160.12541715969482,
          33.68505164495141,
          163.35521348131374,
          176.52110051620326,
          128.08746153318344,
          173.02974780755596,
          157.5352267610339,
          173.12260828417058,
          119.74600081461915,
          154.5687306928027,
          154.87419639698885,
          166.14466710466255,
          148.7764319643674,
          163.770430033281,
          164.31600074051465,
          172.234711729033,
          127.77634449948343,
          132.08976714120294,
          177.81735229369053,
          178.5019159799819,
          177.08755895595252,
          166.38431772836412,
          141.50412250996973,
          146.52001037602108,
          147.03352459804148,
          182.5273879322493,
          166.20254804752855,
          164.40385923964357,
          158.16182732925589,
          68.66251193276197,
          139.3933204933561,
          156.40486629314643,
          135.48393322975193,
          147.52487964976223,
          170.70310999095184,
          146.02376308907046,
          148.29704315811216,
          167.9615706799221,
          168.16128763979532,
          136.6072567045937,
          175.58568884313254,
          157.94247793233006,
          146.015672482765,
          172.16001521986155,
          166.38187694015005,
          171.7572191523029,
          173.59835497077324,
          175.49648892789688,
          167.1758948578003,
          153.36836694249763,
          136.71003031289288,
          172.3545276000938,
          130.71855107141587,
          145.440351183647,
          156.60496782392974,
          181.4968818053309,
          139.5547290543478,
          151.9607362224819,
          175.90805727399587,
          164.48315121188548,
          146.92219950370483,
          118.54960078575813,
          174.71150063022446,
          170.25466864206754,
          167.78658189910357,
          158.30406029501165,
          163.31242142287965
         ],
         "y": [
          -33.76218714278172,
          -15.87648144215957,
          -23.95866837537855,
          4.434608097807469,
          -25.444916215062005,
          -21.446773341489905,
          3.8027754351709326,
          -22.59122011101157,
          -21.702253606347377,
          -11.588496177840858,
          -22.05481595561562,
          -16.216820279590447,
          -14.244888285219467,
          -30.30323005392642,
          -27.434433816284244,
          -21.076397476883244,
          -29.67379879028948,
          13.979618232698177,
          -56.19867845712226,
          -11.587263681013168,
          -33.8198163359445,
          -22.724702038319393,
          -8.380640990469372,
          -7.903416703476736,
          -8.187572031289333,
          -8.992346948287963,
          -30.316559187804234,
          -29.112735090553954,
          -32.512299213401405,
          24.92488247696244,
          -21.252106559526226,
          -30.45089818184999,
          -28.187247588298966,
          -28.829260922790812,
          -14.082664317186868,
          -7.214994418132575,
          -31.217624874470776,
          -42.917025771734906,
          -36.866506270931474,
          -21.838590950759265,
          -38.16626647127826,
          -13.503395755570233,
          -26.653971598686145,
          -31.35900695863105,
          -44.50512879552867,
          -33.3113413586353,
          -21.43069411267008,
          -31.532161573951857,
          -25.84999107460638,
          -13.90337174981821,
          -3.203278518226402,
          -43.433769724415896,
          -34.32647467482448,
          -31.68924285344357,
          -37.875159434080686,
          -17.14367562830436,
          -42.64015045729067,
          -4.72092067555865,
          -33.71342484599537,
          -37.11744633474383,
          -23.028703882346207,
          -34.15203881934843,
          -16.8116948291024,
          -12.948685537915193,
          -27.038272908464048,
          -24.268782144614114,
          -12.338558922948177,
          -34.1667383834138,
          -35.71810721795036,
          -27.48782358419902,
          -0.3258372063014236,
          -21.715553109658224,
          -39.65611187250786,
          -33.63551814271328,
          -33.592547983382524,
          -31.590552702344766,
          -25.44021829352646,
          -44.84978558232904,
          -1.6632247611261282,
          19.921280583591866,
          -36.42788113995488,
          -35.70810414717994,
          -7.452215498316008,
          -29.956571346092776,
          -9.848156384228494,
          -11.51592085302195,
          -37.41342739163241,
          -36.634577082967255,
          -29.771122619095653,
          -28.099572351406774,
          -34.67565871879838,
          -38.11823617833091,
          -15.58520061132393,
          -33.81989392089874,
          -11.682573584344748,
          -21.286931773285687,
          -31.436291182873095,
          -30.128546856802185,
          -17.52290568724148,
          2.2179289995356566,
          -15.426249193645502,
          -8.905546289996858,
          -15.935725811699989,
          -15.195280256234279,
          -21.344324390457253,
          -23.781239436172836,
          -35.40310485481283,
          -23.395073094868188,
          -21.49924401674993,
          0.6684799206693998,
          23.727294349457562,
          -32.36681157696387,
          -34.13996943044842,
          -13.187763311874985,
          -22.45021872891048,
          -10.95069691040016
         ],
         "z": [
          5.989695450862634,
          -3.8956889648642705,
          -7.244149027374252,
          -22.235906456994062,
          -5.390883692391246,
          0.6393959964445036,
          5.293577365556802,
          -6.987573772185962,
          5.48934464144653,
          24.253936574756747,
          13.449595383437316,
          6.173091675708788,
          -27.972416442795986,
          5.108686517882204,
          -2.341095958134822,
          -16.2775315280954,
          -9.322987585634081,
          18.27793761080402,
          -10.823061620975603,
          -6.9368533996741535,
          -0.08486088090573835,
          -10.67621040438701,
          -5.823044722436276,
          -14.576910848795862,
          -1.3385213785658532,
          -16.11723655669798,
          9.03051159074424,
          -29.146927947090678,
          2.559383657169811,
          4.166912626880316,
          -5.405674331132532,
          5.599083007916683,
          -22.356916153902528,
          11.566300709127205,
          -0.1219551159434023,
          7.346914338519422,
          0.5766743854947198,
          5.719288312523225,
          -9.41018762930759,
          6.979393504341566,
          -2.904827940131025,
          8.952530270439103,
          8.24526373606325,
          0.7375842756120934,
          5.097329577424697,
          -8.44276540576391,
          -10.095150950722884,
          -3.59936273948198,
          11.51279095672353,
          -11.983357046427475,
          -19.140707302883378,
          -8.927995442530095,
          17.76543424644908,
          9.076073362303493,
          -3.2825272213123715,
          -6.800756024330969,
          9.873313481601096,
          12.713259311175557,
          -17.215914262370354,
          -21.485411693647805,
          -3.8704035749713377,
          17.158605974661228,
          -4.434360917966637,
          -7.726282316617242,
          -12.941150233613499,
          4.196558467859625,
          14.232930624549104,
          -6.848539288702712,
          -3.633723541261232,
          -5.232001349196373,
          3.9555097448748935,
          8.103382432236764,
          -10.04117664159861,
          1.2978579988935854,
          10.940011964634325,
          -11.381390755277422,
          5.933759697759494,
          -4.388124641055122,
          39.10569901631576,
          11.292852121889458,
          -3.9604820450389444,
          -5.79444979285578,
          6.035924903325302,
          10.107675248401112,
          -5.756397866414434,
          13.194147536586549,
          -18.901191789041007,
          2.0084863189666575,
          -7.316221110725914,
          -1.2608546719921447,
          -9.237412411916038,
          -24.45490851858891,
          4.714498603868032,
          5.013867188806032,
          2.974759326706445,
          6.948070552635509,
          -9.195054318355833,
          -11.168261385329819,
          -4.443742718178826,
          -10.158015564242893,
          -21.827000000581407,
          -29.053140742457767,
          -13.57514111639367,
          -13.741114772209656,
          5.055087845884874,
          -12.540587731923953,
          -12.351797392687436,
          11.622549759345608,
          9.307257461115503,
          29.866652182335397,
          4.954785940806837,
          -1.8774153373394098,
          -1.8670123654687085,
          -1.6310405901213612,
          25.578802148081163,
          0.9146897366566029
         ]
        },
        {
         "hovertemplate": "Class=COAD<br>1st eigenvector=%{x}<br>2nd eigenvector=%{y}<br>3rd eigenvector=%{z}<extra></extra>",
         "legendgroup": "COAD",
         "marker": {
          "color": "#ab63fa",
          "opacity": 0.7,
          "symbol": "circle"
         },
         "mode": "markers",
         "name": "COAD",
         "scene": "scene",
         "showlegend": true,
         "type": "scatter3d",
         "x": [
          -9.993597096470419,
          -33.31475653735302,
          3.6540150681451764,
          -33.71951058353533,
          -16.38284853260441,
          -20.593326354276336,
          -15.00366612433874,
          -29.447836702657376,
          -16.909289501715904,
          -10.74457321622599,
          -27.846553704069972,
          -31.507749267152185,
          -28.86500044156476,
          -16.30906705603098,
          -15.332775852950494,
          -10.497057240361018,
          13.058665326597419,
          -10.656603457501957,
          -14.574466463184232,
          -9.835580204964458,
          1.5165541280133634,
          -7.124471195833846,
          -25.800842123246763,
          -12.254130513283616,
          -40.28147859682998,
          -39.96314604615617,
          -21.213768054224257,
          -17.34120705011688,
          -22.482372879291027,
          -14.414752095426177,
          -8.89616445047267,
          -20.78556372850863,
          -14.314451057752114,
          -27.420733813334138,
          3.2473466820524717,
          -26.910748815311543,
          -13.89483816972325,
          -37.70307851084159,
          -40.98869026887362,
          -29.971364339843106,
          -24.69763819049596,
          -29.425278883495515,
          -14.296918755694518,
          -31.803345139092322,
          -9.83504573465872,
          -9.83663977684493,
          -24.06755144339603,
          -18.364575175180757,
          -8.31793360895959,
          -2.999855337198409,
          -19.675206303586812,
          18.60873525224502,
          -13.149664742784699,
          -26.94858265894063,
          -21.25332542079586,
          -33.72281284062711,
          -27.39260769823368,
          -13.140603345102281,
          -2.621129892560582,
          -29.43348387154355,
          -4.730151223239652,
          -36.404339558986536
         ],
         "y": [
          124.54583443795771,
          146.288878897964,
          29.606899050152165,
          142.1930340632435,
          105.43468775312299,
          124.40811633571835,
          140.14522757785363,
          138.37897095689877,
          154.5519803696656,
          99.12164610947447,
          115.41242999199622,
          138.26016787665122,
          106.93234364382398,
          134.91818440030514,
          118.86421421710929,
          95.69184940209355,
          30.149093879397928,
          107.51389772788889,
          126.3754369120387,
          102.71437133655117,
          78.90972434541405,
          91.08564932545,
          144.56132175241305,
          122.70543026636716,
          137.0537431376383,
          145.63254371632914,
          120.25056909519317,
          125.11334328173271,
          128.3255947330737,
          104.32157362119699,
          133.54855044753083,
          130.3795221674488,
          103.9060384602314,
          111.3503695037676,
          69.25141471742025,
          140.61274184357757,
          123.87116051263833,
          112.26547443156014,
          129.35065863533566,
          100.93814473053082,
          123.9970704919319,
          131.56568180550448,
          125.94587673621065,
          145.2141938695436,
          79.11527268952521,
          121.69030320238205,
          107.29598773671566,
          101.62451888666313,
          106.1209294992442,
          116.84932090183587,
          51.51879034165115,
          78.9053858726955,
          128.18790378611902,
          117.0847464427812,
          135.11015763626375,
          114.49461272864436,
          121.47726586430414,
          105.06198202705947,
          91.3488208039212,
          137.90838292620276,
          112.59255229609752,
          129.9104284304271
         ],
         "z": [
          89.3971765380175,
          112.92399052273758,
          40.86461617648454,
          108.46890268048071,
          102.21921054995035,
          116.27294695397467,
          98.74631911481944,
          127.58314681223594,
          142.9419020457572,
          87.2891463178004,
          116.78655115570929,
          111.93872731638503,
          112.45291626645692,
          93.62320427634937,
          78.88001915991171,
          70.1359488833064,
          36.18085481827657,
          87.86520872145685,
          93.51684532914801,
          91.78743161271737,
          70.45601763017429,
          74.77276551504383,
          103.1613607294399,
          104.09783258987581,
          126.61520094754628,
          132.8582872365548,
          99.38975722025614,
          80.50463288673654,
          129.34059606819503,
          82.3419741632026,
          106.71964414025149,
          93.21802434760097,
          80.43543794279327,
          97.16472935016763,
          65.98431710345442,
          122.26273480803346,
          120.8839075850452,
          103.80940441805467,
          112.47302363188479,
          86.05393293250698,
          101.36353633759617,
          108.2827272364198,
          122.70813466814063,
          118.56276178623457,
          66.92636548582568,
          70.94535643695059,
          106.99266462296926,
          84.8251362878178,
          97.71181823604873,
          82.55341610462152,
          97.56934469520048,
          35.232041350910556,
          97.06515728645262,
          93.53974210808575,
          78.41663225655051,
          131.49339013511093,
          107.01809468388666,
          83.9388994045424,
          76.36184647393345,
          93.33093058273698,
          102.10725606973679,
          111.74709290339399
         ]
        },
        {
         "hovertemplate": "Class=PRAD<br>1st eigenvector=%{x}<br>2nd eigenvector=%{y}<br>3rd eigenvector=%{z}<extra></extra>",
         "legendgroup": "PRAD",
         "marker": {
          "color": "#FFA15A",
          "opacity": 0.7,
          "symbol": "circle"
         },
         "mode": "markers",
         "name": "PRAD",
         "scene": "scene",
         "showlegend": true,
         "type": "scatter3d",
         "x": [
          -49.30610813940568,
          -62.133048835540144,
          -60.46153124663003,
          -70.97929839126782,
          -58.00405809931535,
          -53.782717957785934,
          -46.96475912224954,
          -43.98684767146478,
          -68.6192801364583,
          -50.52148214468131,
          -71.88924764926645,
          -18.68251658638436,
          -26.969100617515696,
          -63.29821643369043,
          -44.95374429670194,
          -68.80247793777313,
          -69.61030240934575,
          -36.03620758762532,
          -15.536532981520269,
          -71.21321804720965,
          -35.28462585556205,
          -18.641106708049666,
          -49.88671323548371,
          -52.87174474279669,
          -43.428959354450654,
          -64.4624761975316,
          -63.62195437895664,
          -47.005117432730586,
          -51.01671519817895,
          -63.993856240667554,
          -53.799439538041035,
          -67.37592182997999,
          -63.47419209667702,
          -54.354533346412666,
          -70.34698842332419,
          -76.04220184036728,
          -46.96313367691414,
          -48.345359266551945,
          -84.08307909477814,
          -59.78838830283672,
          -51.97037995266558,
          -72.71929994319296,
          -57.990353941439224,
          -50.24013870987166,
          -56.959092529819316,
          -82.28139142738152,
          -47.03637838991535,
          -60.31991866321451,
          -35.56630389255563,
          -61.67709887058384,
          -67.35847970130892,
          -55.65011806871493,
          -76.2994196776824,
          -63.16286559034972,
          -72.43501567566493,
          -70.80921034730264,
          -36.87839847667077,
          -48.76906696065974,
          -60.49597188987398,
          -65.32762556236457,
          -35.80027410214616,
          -72.85455684191665,
          -63.60748497540475,
          -61.549331623279826,
          -43.53961562481378,
          -56.81083426300484,
          -56.37912971275858,
          -65.75035448160057,
          -45.105268586302614,
          -47.58141422538197,
          -64.69572344230465,
          -37.44643295422548,
          -39.39346788335146,
          -28.58706481175436,
          -67.84925011943514,
          -54.359234548580716,
          -66.22792822399101,
          -52.05000774603954,
          -75.67382818625326,
          -46.1634837442673,
          -47.966854360887,
          -77.45717530574727,
          -70.82167553527168,
          -48.89557549069895,
          -44.617429898188426,
          -52.29088799483127,
          -36.25068807865182,
          -44.34486858999631,
          -42.006340284239464,
          -44.47964732552093,
          -62.45527951497915,
          -48.56855459168284,
          -50.10967807468809,
          -85.27109120652995,
          -87.73880902973389,
          -47.72625322414938,
          -43.30394563927504,
          -53.22623076686256,
          -55.557746376610154,
          -71.71983301213838,
          -64.29153059276922,
          -46.25739505688211,
          -58.953364060134284,
          -34.297686037317234,
          -54.62930976824975,
          -69.91095470429052,
          -36.618325583859885,
          -61.61422538462638,
          -62.30706693386812
         ],
         "y": [
          -91.01216432084253,
          -85.75603160958607,
          -112.26295768574592,
          -58.222772738938886,
          -89.75221936423364,
          -109.8458930888811,
          -82.49468315036879,
          -108.33438753518574,
          -104.44581426910656,
          -80.56064656562373,
          -119.80522295116988,
          -100.25362689368535,
          -56.70413666132887,
          -93.15372106048858,
          -123.73412186604165,
          -94.90776818283032,
          -87.94400038827315,
          -101.28748218431261,
          -60.618250379311874,
          -110.4311568423711,
          -115.39403390741022,
          -115.1333356633112,
          -113.60739599238103,
          -94.84933940487315,
          -87.24511288228672,
          -104.1833626977622,
          -113.630891074829,
          -90.11526984338602,
          -86.58844061092196,
          -85.03155819956723,
          -101.68065999542027,
          -105.10674736644059,
          -109.90781360610401,
          -107.98832268731285,
          -107.98375000571694,
          -78.50774870161045,
          -118.48559530273931,
          -91.84466305390902,
          -94.97254237843242,
          -103.74557741042587,
          -110.02982889398444,
          -95.90549350417493,
          -97.74478200297422,
          -51.41635064455643,
          -106.58984260359925,
          -87.7749545354398,
          -83.64476625045887,
          -111.35625256829783,
          -93.70718437406322,
          -90.6725395519774,
          -82.01399421940546,
          -88.97223328013828,
          -103.0067547957736,
          -85.71179403357165,
          -111.62407822277942,
          -100.41786137679388,
          -98.75873856552202,
          -94.39542837151686,
          -121.27104983576118,
          -112.72624657331417,
          -84.76586103950528,
          -96.28732567230387,
          -91.13058498408819,
          -109.45820706388562,
          -109.32584926944094,
          -82.42160988409901,
          -91.95393727130727,
          -99.48455022575897,
          -112.21729580352519,
          -76.97022027565215,
          -101.23243451133732,
          -101.21190484242346,
          -86.93263086033923,
          -90.0134014553952,
          -115.44592960696454,
          -104.31264964732765,
          -114.72062203497202,
          -104.09080435381401,
          -81.54212340688288,
          -108.0660055903194,
          -98.43267549146547,
          -108.61121667446163,
          -7.575366520079073,
          -96.48752401601678,
          -110.53710334104085,
          -122.10241580437621,
          -112.44891803046852,
          -111.77083730102412,
          -59.01717538074105,
          -108.25261831541225,
          -95.84514444253942,
          -113.75235332162896,
          -115.28940935763735,
          -72.2979358308893,
          -69.021350878098,
          -84.15529172318229,
          -83.61650318045518,
          -106.22275729746079,
          -96.13581412438874,
          -111.79017477485448,
          -101.998552699596,
          -91.05404514878549,
          -110.0156106827649,
          -104.03633751715564,
          -104.11428769303322,
          -76.80389548068365,
          -91.83704590741104,
          -111.33444944807026,
          -125.64467098687304
         ],
         "z": [
          76.58215633988205,
          59.878997766328744,
          74.58319093041045,
          78.89067019170444,
          67.9739814886416,
          80.33709585948121,
          57.18418080269165,
          64.42737562106285,
          69.72404536473515,
          97.29077635958434,
          96.14244552397938,
          54.56253452757589,
          26.06701236712865,
          88.83317619235675,
          84.96949721659867,
          80.12003789401379,
          105.00651393239727,
          43.90317036323811,
          7.758987943439121,
          92.43443856674479,
          54.32111157303562,
          40.22170541035739,
          60.74645331352338,
          62.03760002100197,
          73.93168830539021,
          81.5652711808414,
          74.05375527561995,
          58.0515225525003,
          47.856920333736205,
          74.98499620796576,
          71.7417750948898,
          92.88198261013535,
          74.53398125601706,
          87.42539716605191,
          92.21703938884805,
          88.6111576377513,
          74.32766529115237,
          69.44812570148376,
          98.925969708611,
          66.5428753230374,
          71.92841219902219,
          93.26385922165058,
          65.14870207468975,
          37.568035264856306,
          63.38486264296425,
          98.15235282878427,
          58.980013799715735,
          85.85754345939577,
          81.12452523492064,
          65.83387335259927,
          66.24879309863177,
          74.95676359947801,
          102.50314574920638,
          92.607792948138,
          95.75039558130064,
          92.28748076494107,
          52.41725451868323,
          71.74123714277475,
          83.6603574987122,
          95.11661031159194,
          52.342893709307084,
          91.54776690846852,
          66.6234428005332,
          74.11004426647649,
          59.40407714705534,
          66.00564342553459,
          79.93947067853333,
          89.18840576457087,
          62.148561288473786,
          55.24222073221701,
          80.15224424226416,
          54.434251702256766,
          74.35974581448576,
          59.32625441327229,
          90.72256750683302,
          62.498597906816656,
          81.99411791184335,
          83.79306468354275,
          87.47265274626884,
          75.45890485711212,
          64.4080716562381,
          110.27125463787955,
          70.02763986520208,
          70.1943368422388,
          80.18968156436416,
          82.44115019754469,
          53.759976048374625,
          65.61758612384355,
          42.35299256652944,
          66.14611616863526,
          77.62720251229696,
          85.50884774427726,
          79.67318346629317,
          75.69052136807879,
          115.22319160693543,
          66.05234730469286,
          44.44165409355838,
          63.81122934935235,
          63.12671086262495,
          88.77212951654178,
          72.42984444726723,
          67.22405669336541,
          67.93737112329262,
          66.09365960245282,
          73.23955711432495,
          83.99012736046843,
          56.70310755129989,
          76.91958066779038,
          93.46469255621483
         ]
        }
       ],
       "layout": {
        "height": 500,
        "legend": {
         "title": {
          "text": "Class"
         },
         "tracegroupgap": 0
        },
        "scene": {
         "domain": {
          "x": [
           0,
           1
          ],
          "y": [
           0,
           1
          ]
         },
         "xaxis": {
          "title": {
           "text": "1st eigenvector"
          }
         },
         "yaxis": {
          "title": {
           "text": "2nd eigenvector"
          }
         },
         "zaxis": {
          "title": {
           "text": "3rd eigenvector"
          }
         }
        },
        "template": {
         "data": {
          "bar": [
           {
            "error_x": {
             "color": "#2a3f5f"
            },
            "error_y": {
             "color": "#2a3f5f"
            },
            "marker": {
             "line": {
              "color": "#E5ECF6",
              "width": 0.5
             }
            },
            "type": "bar"
           }
          ],
          "barpolar": [
           {
            "marker": {
             "line": {
              "color": "#E5ECF6",
              "width": 0.5
             }
            },
            "type": "barpolar"
           }
          ],
          "carpet": [
           {
            "aaxis": {
             "endlinecolor": "#2a3f5f",
             "gridcolor": "white",
             "linecolor": "white",
             "minorgridcolor": "white",
             "startlinecolor": "#2a3f5f"
            },
            "baxis": {
             "endlinecolor": "#2a3f5f",
             "gridcolor": "white",
             "linecolor": "white",
             "minorgridcolor": "white",
             "startlinecolor": "#2a3f5f"
            },
            "type": "carpet"
           }
          ],
          "choropleth": [
           {
            "colorbar": {
             "outlinewidth": 0,
             "ticks": ""
            },
            "type": "choropleth"
           }
          ],
          "contour": [
           {
            "colorbar": {
             "outlinewidth": 0,
             "ticks": ""
            },
            "colorscale": [
             [
              0,
              "#0d0887"
             ],
             [
              0.1111111111111111,
              "#46039f"
             ],
             [
              0.2222222222222222,
              "#7201a8"
             ],
             [
              0.3333333333333333,
              "#9c179e"
             ],
             [
              0.4444444444444444,
              "#bd3786"
             ],
             [
              0.5555555555555556,
              "#d8576b"
             ],
             [
              0.6666666666666666,
              "#ed7953"
             ],
             [
              0.7777777777777778,
              "#fb9f3a"
             ],
             [
              0.8888888888888888,
              "#fdca26"
             ],
             [
              1,
              "#f0f921"
             ]
            ],
            "type": "contour"
           }
          ],
          "contourcarpet": [
           {
            "colorbar": {
             "outlinewidth": 0,
             "ticks": ""
            },
            "type": "contourcarpet"
           }
          ],
          "heatmap": [
           {
            "colorbar": {
             "outlinewidth": 0,
             "ticks": ""
            },
            "colorscale": [
             [
              0,
              "#0d0887"
             ],
             [
              0.1111111111111111,
              "#46039f"
             ],
             [
              0.2222222222222222,
              "#7201a8"
             ],
             [
              0.3333333333333333,
              "#9c179e"
             ],
             [
              0.4444444444444444,
              "#bd3786"
             ],
             [
              0.5555555555555556,
              "#d8576b"
             ],
             [
              0.6666666666666666,
              "#ed7953"
             ],
             [
              0.7777777777777778,
              "#fb9f3a"
             ],
             [
              0.8888888888888888,
              "#fdca26"
             ],
             [
              1,
              "#f0f921"
             ]
            ],
            "type": "heatmap"
           }
          ],
          "heatmapgl": [
           {
            "colorbar": {
             "outlinewidth": 0,
             "ticks": ""
            },
            "colorscale": [
             [
              0,
              "#0d0887"
             ],
             [
              0.1111111111111111,
              "#46039f"
             ],
             [
              0.2222222222222222,
              "#7201a8"
             ],
             [
              0.3333333333333333,
              "#9c179e"
             ],
             [
              0.4444444444444444,
              "#bd3786"
             ],
             [
              0.5555555555555556,
              "#d8576b"
             ],
             [
              0.6666666666666666,
              "#ed7953"
             ],
             [
              0.7777777777777778,
              "#fb9f3a"
             ],
             [
              0.8888888888888888,
              "#fdca26"
             ],
             [
              1,
              "#f0f921"
             ]
            ],
            "type": "heatmapgl"
           }
          ],
          "histogram": [
           {
            "marker": {
             "colorbar": {
              "outlinewidth": 0,
              "ticks": ""
             }
            },
            "type": "histogram"
           }
          ],
          "histogram2d": [
           {
            "colorbar": {
             "outlinewidth": 0,
             "ticks": ""
            },
            "colorscale": [
             [
              0,
              "#0d0887"
             ],
             [
              0.1111111111111111,
              "#46039f"
             ],
             [
              0.2222222222222222,
              "#7201a8"
             ],
             [
              0.3333333333333333,
              "#9c179e"
             ],
             [
              0.4444444444444444,
              "#bd3786"
             ],
             [
              0.5555555555555556,
              "#d8576b"
             ],
             [
              0.6666666666666666,
              "#ed7953"
             ],
             [
              0.7777777777777778,
              "#fb9f3a"
             ],
             [
              0.8888888888888888,
              "#fdca26"
             ],
             [
              1,
              "#f0f921"
             ]
            ],
            "type": "histogram2d"
           }
          ],
          "histogram2dcontour": [
           {
            "colorbar": {
             "outlinewidth": 0,
             "ticks": ""
            },
            "colorscale": [
             [
              0,
              "#0d0887"
             ],
             [
              0.1111111111111111,
              "#46039f"
             ],
             [
              0.2222222222222222,
              "#7201a8"
             ],
             [
              0.3333333333333333,
              "#9c179e"
             ],
             [
              0.4444444444444444,
              "#bd3786"
             ],
             [
              0.5555555555555556,
              "#d8576b"
             ],
             [
              0.6666666666666666,
              "#ed7953"
             ],
             [
              0.7777777777777778,
              "#fb9f3a"
             ],
             [
              0.8888888888888888,
              "#fdca26"
             ],
             [
              1,
              "#f0f921"
             ]
            ],
            "type": "histogram2dcontour"
           }
          ],
          "mesh3d": [
           {
            "colorbar": {
             "outlinewidth": 0,
             "ticks": ""
            },
            "type": "mesh3d"
           }
          ],
          "parcoords": [
           {
            "line": {
             "colorbar": {
              "outlinewidth": 0,
              "ticks": ""
             }
            },
            "type": "parcoords"
           }
          ],
          "pie": [
           {
            "automargin": true,
            "type": "pie"
           }
          ],
          "scatter": [
           {
            "marker": {
             "colorbar": {
              "outlinewidth": 0,
              "ticks": ""
             }
            },
            "type": "scatter"
           }
          ],
          "scatter3d": [
           {
            "line": {
             "colorbar": {
              "outlinewidth": 0,
              "ticks": ""
             }
            },
            "marker": {
             "colorbar": {
              "outlinewidth": 0,
              "ticks": ""
             }
            },
            "type": "scatter3d"
           }
          ],
          "scattercarpet": [
           {
            "marker": {
             "colorbar": {
              "outlinewidth": 0,
              "ticks": ""
             }
            },
            "type": "scattercarpet"
           }
          ],
          "scattergeo": [
           {
            "marker": {
             "colorbar": {
              "outlinewidth": 0,
              "ticks": ""
             }
            },
            "type": "scattergeo"
           }
          ],
          "scattergl": [
           {
            "marker": {
             "colorbar": {
              "outlinewidth": 0,
              "ticks": ""
             }
            },
            "type": "scattergl"
           }
          ],
          "scattermapbox": [
           {
            "marker": {
             "colorbar": {
              "outlinewidth": 0,
              "ticks": ""
             }
            },
            "type": "scattermapbox"
           }
          ],
          "scatterpolar": [
           {
            "marker": {
             "colorbar": {
              "outlinewidth": 0,
              "ticks": ""
             }
            },
            "type": "scatterpolar"
           }
          ],
          "scatterpolargl": [
           {
            "marker": {
             "colorbar": {
              "outlinewidth": 0,
              "ticks": ""
             }
            },
            "type": "scatterpolargl"
           }
          ],
          "scatterternary": [
           {
            "marker": {
             "colorbar": {
              "outlinewidth": 0,
              "ticks": ""
             }
            },
            "type": "scatterternary"
           }
          ],
          "surface": [
           {
            "colorbar": {
             "outlinewidth": 0,
             "ticks": ""
            },
            "colorscale": [
             [
              0,
              "#0d0887"
             ],
             [
              0.1111111111111111,
              "#46039f"
             ],
             [
              0.2222222222222222,
              "#7201a8"
             ],
             [
              0.3333333333333333,
              "#9c179e"
             ],
             [
              0.4444444444444444,
              "#bd3786"
             ],
             [
              0.5555555555555556,
              "#d8576b"
             ],
             [
              0.6666666666666666,
              "#ed7953"
             ],
             [
              0.7777777777777778,
              "#fb9f3a"
             ],
             [
              0.8888888888888888,
              "#fdca26"
             ],
             [
              1,
              "#f0f921"
             ]
            ],
            "type": "surface"
           }
          ],
          "table": [
           {
            "cells": {
             "fill": {
              "color": "#EBF0F8"
             },
             "line": {
              "color": "white"
             }
            },
            "header": {
             "fill": {
              "color": "#C8D4E3"
             },
             "line": {
              "color": "white"
             }
            },
            "type": "table"
           }
          ]
         },
         "layout": {
          "annotationdefaults": {
           "arrowcolor": "#2a3f5f",
           "arrowhead": 0,
           "arrowwidth": 1
          },
          "autotypenumbers": "strict",
          "coloraxis": {
           "colorbar": {
            "outlinewidth": 0,
            "ticks": ""
           }
          },
          "colorscale": {
           "diverging": [
            [
             0,
             "#8e0152"
            ],
            [
             0.1,
             "#c51b7d"
            ],
            [
             0.2,
             "#de77ae"
            ],
            [
             0.3,
             "#f1b6da"
            ],
            [
             0.4,
             "#fde0ef"
            ],
            [
             0.5,
             "#f7f7f7"
            ],
            [
             0.6,
             "#e6f5d0"
            ],
            [
             0.7,
             "#b8e186"
            ],
            [
             0.8,
             "#7fbc41"
            ],
            [
             0.9,
             "#4d9221"
            ],
            [
             1,
             "#276419"
            ]
           ],
           "sequential": [
            [
             0,
             "#0d0887"
            ],
            [
             0.1111111111111111,
             "#46039f"
            ],
            [
             0.2222222222222222,
             "#7201a8"
            ],
            [
             0.3333333333333333,
             "#9c179e"
            ],
            [
             0.4444444444444444,
             "#bd3786"
            ],
            [
             0.5555555555555556,
             "#d8576b"
            ],
            [
             0.6666666666666666,
             "#ed7953"
            ],
            [
             0.7777777777777778,
             "#fb9f3a"
            ],
            [
             0.8888888888888888,
             "#fdca26"
            ],
            [
             1,
             "#f0f921"
            ]
           ],
           "sequentialminus": [
            [
             0,
             "#0d0887"
            ],
            [
             0.1111111111111111,
             "#46039f"
            ],
            [
             0.2222222222222222,
             "#7201a8"
            ],
            [
             0.3333333333333333,
             "#9c179e"
            ],
            [
             0.4444444444444444,
             "#bd3786"
            ],
            [
             0.5555555555555556,
             "#d8576b"
            ],
            [
             0.6666666666666666,
             "#ed7953"
            ],
            [
             0.7777777777777778,
             "#fb9f3a"
            ],
            [
             0.8888888888888888,
             "#fdca26"
            ],
            [
             1,
             "#f0f921"
            ]
           ]
          },
          "colorway": [
           "#636efa",
           "#EF553B",
           "#00cc96",
           "#ab63fa",
           "#FFA15A",
           "#19d3f3",
           "#FF6692",
           "#B6E880",
           "#FF97FF",
           "#FECB52"
          ],
          "font": {
           "color": "#2a3f5f"
          },
          "geo": {
           "bgcolor": "white",
           "lakecolor": "white",
           "landcolor": "#E5ECF6",
           "showlakes": true,
           "showland": true,
           "subunitcolor": "white"
          },
          "hoverlabel": {
           "align": "left"
          },
          "hovermode": "closest",
          "mapbox": {
           "style": "light"
          },
          "paper_bgcolor": "white",
          "plot_bgcolor": "#E5ECF6",
          "polar": {
           "angularaxis": {
            "gridcolor": "white",
            "linecolor": "white",
            "ticks": ""
           },
           "bgcolor": "#E5ECF6",
           "radialaxis": {
            "gridcolor": "white",
            "linecolor": "white",
            "ticks": ""
           }
          },
          "scene": {
           "xaxis": {
            "backgroundcolor": "#E5ECF6",
            "gridcolor": "white",
            "gridwidth": 2,
            "linecolor": "white",
            "showbackground": true,
            "ticks": "",
            "zerolinecolor": "white"
           },
           "yaxis": {
            "backgroundcolor": "#E5ECF6",
            "gridcolor": "white",
            "gridwidth": 2,
            "linecolor": "white",
            "showbackground": true,
            "ticks": "",
            "zerolinecolor": "white"
           },
           "zaxis": {
            "backgroundcolor": "#E5ECF6",
            "gridcolor": "white",
            "gridwidth": 2,
            "linecolor": "white",
            "showbackground": true,
            "ticks": "",
            "zerolinecolor": "white"
           }
          },
          "shapedefaults": {
           "line": {
            "color": "#2a3f5f"
           }
          },
          "ternary": {
           "aaxis": {
            "gridcolor": "white",
            "linecolor": "white",
            "ticks": ""
           },
           "baxis": {
            "gridcolor": "white",
            "linecolor": "white",
            "ticks": ""
           },
           "bgcolor": "#E5ECF6",
           "caxis": {
            "gridcolor": "white",
            "linecolor": "white",
            "ticks": ""
           }
          },
          "title": {
           "x": 0.05
          },
          "xaxis": {
           "automargin": true,
           "gridcolor": "white",
           "linecolor": "white",
           "ticks": "",
           "title": {
            "standoff": 15
           },
           "zerolinecolor": "white",
           "zerolinewidth": 2
          },
          "yaxis": {
           "automargin": true,
           "gridcolor": "white",
           "linecolor": "white",
           "ticks": "",
           "title": {
            "standoff": 15
           },
           "zerolinecolor": "white",
           "zerolinewidth": 2
          }
         }
        },
        "title": {
         "text": "First three PCA directions"
        },
        "width": 700
       }
      },
      "text/html": [
       "<div>                            <div id=\"fe5deadd-437f-43c4-afe3-8475858862d8\" class=\"plotly-graph-div\" style=\"height:500px; width:700px;\"></div>            <script type=\"text/javascript\">                require([\"plotly\"], function(Plotly) {                    window.PLOTLYENV=window.PLOTLYENV || {};                                    if (document.getElementById(\"fe5deadd-437f-43c4-afe3-8475858862d8\")) {                    Plotly.newPlot(                        \"fe5deadd-437f-43c4-afe3-8475858862d8\",                        [{\"hovertemplate\": \"Class=BRCA<br>1st eigenvector=%{x}<br>2nd eigenvector=%{y}<br>3rd eigenvector=%{z}<extra></extra>\", \"legendgroup\": \"BRCA\", \"marker\": {\"color\": \"#636efa\", \"opacity\": 0.7, \"symbol\": \"circle\"}, \"mode\": \"markers\", \"name\": \"BRCA\", \"scene\": \"scene\", \"showlegend\": true, \"type\": \"scatter3d\", \"x\": [-51.07033204900715, -56.541858459006285, -38.71462687551073, -40.25977784914619, -22.40129772028375, -55.673540585209224, -22.60941204049929, -35.82242839158728, -51.2188611466837, -24.84063682309461, -56.248804564617316, -63.71802304603038, -50.41489463660086, -43.34151558111211, -13.57957011038889, -47.96250649238773, -49.87164792338868, -40.32091843502616, -54.12661597955977, -68.3630629968275, -43.220048597380355, -46.845502072973886, -46.799222996219605, -60.702419121746544, -37.24509620228143, -40.40809806002734, -13.501560265502173, -28.538178696205105, -59.10133355276049, -30.573361551259094, -42.78008302899495, -42.09590380350799, -61.0190112859576, -54.49386781479331, -40.74343990402323, -58.2531076194394, -57.38449215149363, -44.834220319652374, -42.58892638039004, -41.64359280034811, -36.69852683273107, -50.94535030872474, -42.11346118138561, -32.534908011567225, -86.44757302198371, -29.770501270721805, -54.38933795849482, -52.71162936406907, -50.199422177097986, -33.69788209110445, -29.21543780465845, -61.283830645765114, -71.02386642269542, -76.10507227917425, -64.7473621773652, -46.6490542221095, -75.9300007189275, -63.576892245826386, -50.04552541895733, -59.94115806744884, -50.79235738326025, -64.02894119105142, -52.54663601448353, 6.8165390702939685, -12.113401514915708, -32.179696878589176, -54.47472537800091, -44.18500251786528, -49.182399472767635, -51.24373897145266, -34.32288625611608, -54.16922498314282, -37.441309007629314, -42.78392652925928, -83.68404116251756, -37.51707775481353, -41.33532255990125, -39.46471345542062, -84.7692611417895, -64.38160438541665, -51.79728788090691, -45.24375433492627, 20.18322346453401, -43.97520070003567, -62.910110494975626, -57.126639532088014, -21.149958484637988, -47.03791270666882, -43.98065608607558, -51.55086676836515, -62.95291751054546, -56.529919000280714, -58.70922429810893, -35.06937482942067, -38.90295285530942, -39.390223891132905, -30.50192315134029, -12.305315996514809, -38.48546217370106, -27.20065874961495, -27.8990763970249, -61.92396452860419, -55.81536930988122, -28.955301283721614, -46.4823521151157, -24.125345752880552, -62.79844354444932, -40.260560181566134, -50.39819985298719, -66.07799653415174, -42.55034379029736, -40.63853548946817, -50.231666115371134, -39.94816703929893, -49.02208805381062, -34.42900884832757, -30.293515037434723, -27.35094192847269, -55.90415544457653, -52.906358053143954, -29.013544497918623, -26.793239195654273, -52.267305936168384, -39.044648157541396, -28.05728652015881, -26.333410234053513, -63.43624225127692, -68.64738760803884, -46.41579051548539, -38.93205259600706, -45.191366278153986, -24.78647837884801, -41.29030344810151, -30.364188657319023, -74.09850799527914, -45.30387701991571, -53.06809703086906, -31.06472908872091, 2.245581058609482, -19.16816033540328, -52.98736703527185, -66.67535298698796, -43.590119452803144, -41.222468147168065, -35.23134472722966, -46.86076414028946, -49.88780957604458, -47.83379782374253, -1.3354598919657081, -57.431544194634434, -25.05547088026581, -47.2188166459983, -48.489329235238316, -45.55047733791467, -43.919432749312264, -49.7360555267444, -51.67978675038422, -55.78353505391789, -38.14118410389969, -38.6427896766275, -55.68624876196274, -55.693636328689514, -29.84364283822633, -48.776275228816246, -47.53194377827976, -54.533145909786946, -28.505876305008016, -24.619526071993864, -39.682578610060204, -61.721433090384245, -43.59052003020624, -61.50635518441918, -51.225687084425445, -46.34252110773179, -44.250064921678025, -54.825417953273806, -64.97450640235871, -43.75415335416516, -47.253939098171486, -31.311923572079802, -25.487137084862606, -43.69586526518572, -50.353821779820805, -37.93827422855893, -25.858015370401702, -52.88513205462187, -31.885349917736182, -56.44755591836735, -28.907489271117097, -45.201085766074634, -41.032621421047615, -42.063539645513366, -33.79918253424628, -32.28250796339317, -42.730644885638974, -16.541378880140865, -65.83329917847188, -66.04209008700064, -8.137280905083065, -47.99673686720942, -25.85426543920169, -39.467792254404564, -61.69005219205243, -28.908962119392914, -61.39448863501626, -24.241648863918655, -32.63159071722919, -10.596754237543523, -55.015899595477805, -32.11986620446013, -56.500813460086164, -30.239410192532965, -44.489949757600165, -47.86759242028336, -42.01046267806633, -30.666997126231216, -43.00824287445305, -44.428880985117914, -47.215962263491406, -50.69722458859785, -25.416154412370098, -42.934201565828666, -59.89666461948096, -42.61671076601015, -20.86112969531261, -42.936893260015104, -30.93065012509087, -22.75147462236655, -63.8026524475837, -58.95573062446693, -21.02508779579692, -51.60627631935017, -65.4497289909324, -22.47762134003102, -39.90701450871996, -39.62117121377409, -21.317952177895503, -50.68785340799669, -57.458075474922964, -45.060687736092305], \"y\": [45.41259018738505, -4.987669029552398, 12.578660636470364, 26.936301221273233, -7.392955114906792, 7.5612493309546265, -32.25232911036467, 50.771400390459334, -5.527739858883266, -14.094724253921383, 3.4260638574372044, -12.047220255929876, 5.619180654563194, -25.69095097151224, -36.57712527533321, -29.23528086242949, -36.4901088696409, -40.79214012387469, -23.408488246698848, 40.852801819709185, -21.066438712044427, -26.455558388059163, 30.575258395537737, 10.48180937927269, 2.65740265915905, 4.999350373260339, 9.983438952468735, 6.1584559373361, -19.712955537033537, -25.741274156213176, -31.72974039837033, 6.920726920250657, 4.268867122297989, -10.777334048490044, -20.17254198441251, 1.1922694855600582, -4.842315818750058, -25.317927833862576, -3.287059413256924, -5.060296234606751, 37.606028215045804, -20.103041153850945, -23.697631180686393, -22.146017990555, 39.95831157299035, 43.80948554653622, -2.9645282941606825, 10.641051728438756, -1.3099051428518411, 2.3634920901997756, 46.68008355406579, 2.9653714807275917, -5.180152145151589, 7.98485972764113, -4.021286344076607, 25.797760659359444, 17.444586576255247, 35.894795136236645, 5.9577469143749795, -3.59599467146837, -29.070308449511693, 19.874990513092648, -17.966072452846287, 0.2787581174100261, 39.92883251269178, -16.31889474697988, 14.624352013252732, -19.174028468201616, -20.822670345537528, 23.502269697214803, -10.897372710453627, 21.092601433732707, -13.108522750307074, 56.80127171393254, 31.059040241754754, 20.090449647201815, 40.09511230240615, -1.8798146377266123, 24.759547384298035, 4.225347371583518, 6.45336382349992, -16.376071811751423, 17.34245362186403, 8.002834493858936, 10.212306356452284, 14.556619630523619, 49.18461315331251, 6.141185643763537, -15.177554719437355, -8.894359336731585, -5.696286437423191, 4.3938298854730355, 10.838993308490059, 2.352752302032691, -14.73424404530303, -15.418463911102757, 26.01098264614897, 24.162383806828036, 53.890920271752464, -4.851757281831607, -27.369321707210243, 11.688619295423088, -12.230427549987988, -29.563742990766606, -21.45070063774083, -43.08165687254865, 4.944366212078134, -3.039616611794142, -12.45131100647312, 9.118865465441564, 15.425349109752636, -0.1741207546037998, 55.21353432884711, 24.204976438582282, -10.563342836739508, -24.922287649613985, -17.480399098932775, 10.300420133316228, 1.8778042700470237, -36.626251267541036, -23.380934336225515, -33.79715532053571, 5.508189647477762, 0.5535296240978912, 59.49921233885439, 33.08849931738986, -1.4520966944693847, -9.973225879021973, -1.8466791180357063, 61.08164541452746, -30.859743911884763, 54.79321647145297, -14.484665680739758, 26.916898984074297, 13.993691647008635, 25.327944621874455, -13.865912471220977, 32.08054181329593, 21.894021656411844, 41.48287206032808, 43.628356098043646, -5.368405027074105, 6.018524862162333, 36.79991728345521, -35.48121789513852, 9.467727480664799, 15.860097285585288, -8.104713060099943, 35.12370726137138, -15.518211201205858, -46.612679345312245, -17.665781350381856, -4.044531573286812, 13.859303735018926, -17.83718624389141, 11.4066361482453, 6.828251613932266, -1.9160960104585034, -24.09125479406551, 16.775538930588812, 6.962013895118357, 1.4673833321439533, -1.8678375422524562, -15.954371355615072, -9.858486443399485, -5.708788023105856, -31.876576518908475, 69.0514268226405, -6.106672195626, 6.997137799583034, -10.670812506896, -1.356730676184203, -6.286170809616867, 19.08770945553714, -23.697518713994878, -14.348919758114802, 11.083043558938257, -5.03241420423585, -11.699538101571655, -20.865843918255443, 23.95592980085507, 45.45702979314044, -8.965505921320885, -10.211990692752199, 36.53603880594343, 9.16898832838822, -22.74641274994481, -24.388725195927915, -14.708953564805059, -41.31327430903663, -11.92535814718139, -22.750531163070548, 56.47424611478486, 34.643353140006084, 8.748664437980217, 12.88828434413263, -0.2715458223859746, 43.467743710872924, -23.084082044861937, 3.3499939833854313, -28.750972130204605, -4.593416111687231, 28.707018004404866, 23.071062809271254, 5.183320287479327, 15.456612987977202, 6.75894336411924, 51.9810317939895, 46.95804169511441, -30.67629661825494, -14.129739695037637, 4.812964368085636, 36.13743442198921, -16.216952274720523, -10.008721090326796, -4.184051474677109, -26.01698661172727, 10.680625827777922, -37.925966423287, -3.7172480448677496, 65.14446670839673, 4.430190444110791, 12.042854286491803, 30.578668007973242, -47.03302113473727, -34.5598019276228, -32.104759611942384, -15.261324151360524, 15.034423019782137, 17.65782642174078, -7.180866213547762, -8.942561184798404, 17.292588082315344, 51.86123981869078, -8.092163216681136, -43.35439230415758, -10.987742819505012, 29.66143350511359, -2.2454600617118667, -28.1389149063098], \"z\": [-18.734250818107178, -52.860679854108305, -58.34924839553455, -47.633875854056605, -58.855356824230945, -81.07720345830907, -79.42924686241157, -29.85602185328318, -61.984807244238425, -64.20591859028193, -73.09248222751158, -37.86636906137924, -73.85843470288229, -73.7183946032664, -93.86183479686622, -84.6239414083975, -42.199496503413606, -78.21658898589718, -52.46521068606589, -35.77385045622628, -69.03022954875135, -62.22453930421729, -68.73401376660301, -63.099982134486396, -45.41379897066934, -66.10866220826985, -51.79098108604574, -59.50406673430448, -49.08543139024071, -74.26781243270466, -58.87903104943635, -79.11821431124976, -79.71715221907654, -51.27325745941127, -66.0117520013355, -78.1356111706809, -85.24444238550055, -56.68982294384759, -78.09151707454221, -74.138915705208, -22.246324967463703, -63.92334733773992, -80.3775036126094, -89.80431547832056, -17.0948288540079, -43.682143805537336, -67.411640646959, -70.64979287727586, -73.99769062522495, -75.51080998414487, -38.811927935633086, -61.11783104040553, -69.13356193362694, -51.488128634602525, -61.04409469656921, -23.10478803601405, -68.53647553650863, -30.09102215654569, -83.20973408457444, -67.31632792901733, -73.55355357918626, -56.72951833394435, -66.53603409991227, -25.49054930147702, -55.64017103047174, -64.22341576276045, -68.91356156589194, -85.4275061267908, -81.4834106492534, -76.37859315890664, -56.59839926885939, -78.39003183192665, -41.057445006783, -37.927364246803094, -39.658468761082545, -67.73965945760708, -63.375437037577065, -88.98086466035625, -30.296048739526483, -56.76093050608812, -46.28287040423045, -74.48965469470244, -67.49332610229126, -77.43819475668406, -57.80266843361466, -62.12329385545344, -33.89782924660721, -79.56577574711318, -78.82204084502217, -81.39766096002094, -50.25819527035553, -75.81289904147299, -37.22382972830071, -33.82200616581727, -62.12324382351944, -73.38707055287557, -46.17879975464435, -59.72255454614058, -33.80388671642825, -74.49384979044943, -76.27392252005559, -33.19129398668065, -67.39488907773965, -75.26262244929725, -64.26368240211458, -73.35520142686721, -57.34390989656359, -68.21839557714303, -37.95092411390185, -51.80336248109191, -68.10638678893764, -13.499368103923198, -9.514448811068101, -39.46306735458576, -74.7836817728756, -77.3382240957436, -79.37803628277912, -54.685817390636174, -68.62591197995059, -62.29181918248572, -62.400493169755975, -70.74249407876269, -78.8536862444799, -78.10185561404835, -32.8673080222835, -46.25582412062848, -56.97291976760961, -64.20321747198375, -75.07353539505137, -34.90932633016303, -70.96535792541894, -31.79963901842683, -45.3712311362559, -50.238953556374035, -41.53255741810473, -45.745139585602814, -57.13015753216104, -40.26090509218137, -57.959808258718915, -32.75476503085069, -8.417214613956011, -29.7540733948564, -70.6549785979132, -22.738301195502, -85.05697334413243, -51.55962296103051, -66.55708801440694, -39.11919002965962, -46.50650520047062, -80.61715150728028, -48.98002873338293, -91.96590447870159, -72.4774003021435, -81.98453692793754, -86.37100689698319, -43.608668794865785, -48.60476518128173, -64.38362014235149, -72.49638229323101, -64.28942025582694, -55.13114699546504, -62.10304827013522, -65.35575651413593, -58.472381289496894, -54.14416177283935, -54.59074507829318, -50.47448378368881, -37.83998585154088, -54.58180103488841, -65.7451419801974, -62.08144601691557, -58.58111031299231, -51.634055362384935, -74.73724266439609, -67.28871512957141, -79.11488123307724, -61.35227204459788, -57.969370932214254, -75.8703612170068, -73.47002982282407, -38.04075004381417, -36.73393260443258, -74.5079665505858, -87.46791835672256, 3.5742065420931075, -6.48488106084222, -57.415962414045275, -61.34294454039763, -74.47940979499396, -56.8910391232763, -76.77690262805059, -72.86924880738802, -28.487553021862382, -28.219808436289554, -73.36748678314032, -51.14070458507086, -61.841633149853386, -45.17113174003189, -90.89675703369525, -78.57276398272082, -86.05774102219674, -71.86854720349116, -58.67282216913538, -37.66921277024974, -77.4519476462248, -64.11698101749347, -67.30290035446066, -26.98360280774644, 6.371922120728657, -66.72981118243318, -77.87629304594182, -87.97012240994898, 5.6082850467999545, -49.306801282582384, -91.10957050729928, -56.755662163354444, -77.1007669428929, -64.87982848769916, -75.73111418880602, -59.83697901330353, -41.151845770738205, -61.22088760269007, -47.48934983621789, -50.51474008296741, -74.36749930256684, -82.72831240121981, -49.064370838171506, -79.08638407943869, -38.52672934140829, -62.60272171176042, -87.33847928134846, -81.29347038757926, -40.919087586425064, -40.69346881179364, -70.16564571410697, -65.17051985088871, -81.66659494532409, -57.498305668142876, -71.4769847255516, -84.86705766924287]}, {\"hovertemplate\": \"Class=LUAD<br>1st eigenvector=%{x}<br>2nd eigenvector=%{y}<br>3rd eigenvector=%{z}<extra></extra>\", \"legendgroup\": \"LUAD\", \"marker\": {\"color\": \"#EF553B\", \"opacity\": 0.7, \"symbol\": \"circle\"}, \"mode\": \"markers\", \"name\": \"LUAD\", \"scene\": \"scene\", \"showlegend\": true, \"type\": \"scatter3d\", \"x\": [6.352112711244956, -3.7247954279309647, -4.525431800467511, -6.958379747364402, 0.08687937635357827, 6.620444931902372, 0.7104501569120693, 3.068727808939418, -2.7309549993397453, 14.123122053027936, 4.889871416982191, -4.757516075008277, 5.663202970591991, -9.612606341427348, 2.5556390611120627, 5.89134062647185, 1.5020564355022339, -9.634125713826297, 2.8747003992513993, -0.014506107173262027, 1.739621451332005, 12.214977393498552, 1.2554360308016266, -1.2390205491367947, 2.667355010134958, 4.778927806234763, -7.704776409147472, 12.361575283312321, 8.220869634159936, -4.901168598802018, -21.244113308999857, 10.0486757779423, 2.06022385267989, 11.945988932978777, 8.53952633391405, -1.0745816007981777, 19.611744475247626, 15.782463222320805, 26.89930000335302, 5.009149475839144, 11.403835803825197, 4.770414401797982, 13.693492725243992, -3.7178755210565884, -3.0458518425660492, 5.170177288724411, -14.626289964976925, -4.331156524244991, -1.77689222274722, -6.258783554757465, 19.442301415203065, -17.32741935304784, -8.342501034717964, 22.138984177826256, -8.01406477378477, -5.543070258029782, 27.404615702647842, 1.3505773393248668, -26.62114669906548, 8.435398638221827, 10.544737796229686, 17.31090831108707, -2.6370999132394863, -11.397431070141918, -15.36381863840167, -1.8869566229147776, -5.652355495502681, 4.801433626452751, -21.819961061983573, -0.9686920721852109, -13.080949830924778, 14.712559101211122, -11.129573921337213, -21.000630217902007, -4.4080810477784516, 9.397878645348959, 13.484085020645898, 5.432194547787957, -13.397866082671126, 20.679017676509076, 30.001771165392455, 10.762104306589105, -19.38007778598179, 0.6004630859892496, 7.415928018078023, 1.7585404861961773, -6.741999460214807, 9.310632571225161, 13.634695969217844, -6.0998850244186, -11.794550006188521, 23.091201520043292, -26.626726788147522, -0.5400684201015518, 5.28629572537423, 1.9409304661001034, -32.5389445035938, -16.10419223787611, 19.121481075152165, -3.543950591657205, -17.648912621227872, 3.702052312554686, 7.702887796809069, -0.43059848883618956, 2.202868406015399, 3.3353674316830872, -15.820146129734022, -11.997552847427858, -11.481863170962974, -18.379650554102927, 1.2155725266363924, -2.811579464744274, -7.223521462719805], \"y\": [43.593934458147665, 41.527937597231606, 53.077976275610375, 54.25446947265644, 55.499160520302134, 59.72553350260694, 29.76664927593284, 65.9517158490075, 71.5503952489785, 8.87418772389306, 41.450925560695076, 50.18931626988872, 2.293409331474675, 62.661706029485394, 41.903196668157996, 26.581576746145995, 25.72489493951646, 55.331877488954696, 64.81718323302886, 34.50416825922118, 39.63592923875822, 56.7790676731051, 21.492640710536627, 71.15104492543445, 73.82541367121931, 39.22223613842239, 68.02395790525968, 13.630444498201912, 45.76168390785293, 62.752894885837435, 62.85175059642148, 45.43949907284243, 70.08985529991692, 52.422524001461674, 25.709286689328625, 59.38561560058854, 20.89706786813787, 54.86791961363539, 25.571916729175776, 50.25731471758235, 54.224343613926145, 77.66741558678636, 29.05095688813992, 50.46025256857674, 88.74973698236091, 38.31196415707839, 68.16682259804782, 52.714534813744926, 41.9703703085292, 49.124430284780985, 51.477128262563056, 64.25804647651799, 38.94871064122622, 35.29365456441456, 1.0949756427426591, 70.79720104914179, 37.27696566944701, 51.170494899183595, 66.51851387668374, 42.8164050689958, 36.82111515677186, 57.29042893721925, 42.376153535871985, 36.51142640627735, 48.9797774969299, 41.28894649211316, 59.965411280440826, 32.74942402045071, 75.54211748686478, 55.207851985419964, 76.1116841121143, 28.822706708584157, 62.732172694476525, 57.17814521550771, 29.21027647785397, 51.19505591102882, 48.43482353784306, 41.71783256856864, 80.29567068453221, 79.37362257845326, 16.522854810391948, 38.22074495764074, 77.36590554160806, 49.35064616480872, 59.07734421068113, 49.19506695647637, 62.0461085772425, 75.12797494053882, 38.5512617015334, 53.70591686524928, 19.59003624141782, 4.991207712284367, 35.187806315361954, 33.83369857972081, 26.279596792046, 47.474042628109885, 62.995838822176694, 55.570852710545324, 39.96972831581176, 49.03514732187036, 56.87860528411276, 47.36644156003701, 40.877376278932225, 39.65645698011806, 29.65511835433822, 79.54552619540473, 57.46877674796113, 55.071766374747064, 23.887214590400514, 44.6090951348376, 75.15574192661109, 64.28210707206946, 69.67611343946835], \"z\": [32.577609731518365, -10.731892488577786, 3.389185400760939, 25.060317221283896, -0.6021052271684303, 0.5438249759939234, 31.80039637949294, 17.203607097603236, -11.103185109830074, -20.482753945365825, 3.7520132874436367, -3.2209212097793967, -6.229584178392834, 7.698350225964439, 2.986157633721635, -28.34177815911422, -6.529567710476859, 22.76845382118011, -11.075293533759584, -2.3397270187293997, 4.082011663733105, -6.390979887827138, 10.199559634969766, 47.468756054594465, 24.25967127371484, -18.169904503751887, 19.206794673433603, -4.991915845941386, -1.4205690215633568, 4.868601120868113, 3.625589282820542, -9.109392162343712, -5.611262906936604, -5.303988476933741, 13.396729319740748, 13.389723379551619, 7.494634437994621, -8.024012539138457, -24.168860960076675, -6.0926107807463294, -21.889415069374063, 0.6904749236691952, -1.1014280953925437, 16.024049017199296, -7.021481639675823, 9.38434044093886, 32.38886889800687, -6.268074626915293, -20.200141031256155, -9.566952027844184, -3.9476523568193964, 5.818362610241868, 32.14083571374536, 18.635483964030616, 25.819955096373242, 5.286116619646587, -33.34953264940493, -6.138362899886325, 7.2624264458706875, -9.622269244554342, 4.803794813278308, -18.865063748802267, -10.22534390705723, 12.998594829218032, 7.0406811149674295, -2.579775392118295, 43.70764719117135, 4.262966849267072, 1.8733039980750479, 2.9392423658030573, 8.424659719807751, -14.0141421711915, -15.702986225693182, 22.48090833993191, 20.997051254111245, -8.229966701826065, -12.991154504013734, 31.535036825824427, 2.3346316521756405, 3.5530909202640224, -4.269262959804131, -21.3890159632581, 60.9329918596198, 2.369151183194897, -12.697775664597668, -20.913267637815622, 13.542969904038527, -12.056890630663332, -5.077717274156628, 22.777941954010092, 11.89122770020126, 0.27870551222784296, 5.837514417004951, 24.98044204169196, 24.381940214239826, -2.30740864758834, 14.307723774239854, 10.271287544794692, 1.9821639244092841, -1.5178514951663158, 25.151744134592207, 7.315752596738009, -18.644928098866213, 21.474576154207327, 11.743682121508241, 56.519659314371665, 1.0672171717905938, 4.686396990422391, 8.441649614053285, -7.54629789455351, -1.112880629082196, 10.09270382321327, 23.446404825952374]}, {\"hovertemplate\": \"Class=KIRC<br>1st eigenvector=%{x}<br>2nd eigenvector=%{y}<br>3rd eigenvector=%{z}<extra></extra>\", \"legendgroup\": \"KIRC\", \"marker\": {\"color\": \"#00cc96\", \"opacity\": 0.7, \"symbol\": \"circle\"}, \"mode\": \"markers\", \"name\": \"KIRC\", \"scene\": \"scene\", \"showlegend\": true, \"type\": \"scatter3d\", \"x\": [166.39801874285342, 176.8487601784016, 134.7878097933219, 135.97273230304648, 185.2222979604557, 157.66622542254564, 128.37051945799902, 148.72823706268795, 152.19780443516333, 99.1379371105795, 172.82716631883045, 140.93523616634224, 128.17270756918825, 177.6637487516671, 168.2230868507456, 119.39928570501493, 171.49189158632655, 110.67177461244339, 165.60891494119224, 133.54450988627727, 178.77000427917778, 166.54941959618424, 159.85560353119797, 137.9425747590139, 171.9153504018691, 130.98227402239405, 168.90663137049472, 121.05495030028915, 159.79011104209292, 109.65997044289601, 170.6926275678209, 175.00628488792395, 142.38148376246536, 170.14669501722122, 87.4632978663128, 139.10026862436223, 159.55072051913396, 84.52165970278976, 158.41567776106876, 150.96822684139445, 163.88512798967938, 166.19097023459645, 144.83617779918907, 167.41638098650475, 128.10420611848375, 162.83551258702465, 175.6201206720678, 170.45403352195007, 67.42174896412276, 160.12541715969482, 33.68505164495141, 163.35521348131374, 176.52110051620326, 128.08746153318344, 173.02974780755596, 157.5352267610339, 173.12260828417058, 119.74600081461915, 154.5687306928027, 154.87419639698885, 166.14466710466255, 148.7764319643674, 163.770430033281, 164.31600074051465, 172.234711729033, 127.77634449948343, 132.08976714120294, 177.81735229369053, 178.5019159799819, 177.08755895595252, 166.38431772836412, 141.50412250996973, 146.52001037602108, 147.03352459804148, 182.5273879322493, 166.20254804752855, 164.40385923964357, 158.16182732925589, 68.66251193276197, 139.3933204933561, 156.40486629314643, 135.48393322975193, 147.52487964976223, 170.70310999095184, 146.02376308907046, 148.29704315811216, 167.9615706799221, 168.16128763979532, 136.6072567045937, 175.58568884313254, 157.94247793233006, 146.015672482765, 172.16001521986155, 166.38187694015005, 171.7572191523029, 173.59835497077324, 175.49648892789688, 167.1758948578003, 153.36836694249763, 136.71003031289288, 172.3545276000938, 130.71855107141587, 145.440351183647, 156.60496782392974, 181.4968818053309, 139.5547290543478, 151.9607362224819, 175.90805727399587, 164.48315121188548, 146.92219950370483, 118.54960078575813, 174.71150063022446, 170.25466864206754, 167.78658189910357, 158.30406029501165, 163.31242142287965], \"y\": [-33.76218714278172, -15.87648144215957, -23.95866837537855, 4.434608097807469, -25.444916215062005, -21.446773341489905, 3.8027754351709326, -22.59122011101157, -21.702253606347377, -11.588496177840858, -22.05481595561562, -16.216820279590447, -14.244888285219467, -30.30323005392642, -27.434433816284244, -21.076397476883244, -29.67379879028948, 13.979618232698177, -56.19867845712226, -11.587263681013168, -33.8198163359445, -22.724702038319393, -8.380640990469372, -7.903416703476736, -8.187572031289333, -8.992346948287963, -30.316559187804234, -29.112735090553954, -32.512299213401405, 24.92488247696244, -21.252106559526226, -30.45089818184999, -28.187247588298966, -28.829260922790812, -14.082664317186868, -7.214994418132575, -31.217624874470776, -42.917025771734906, -36.866506270931474, -21.838590950759265, -38.16626647127826, -13.503395755570233, -26.653971598686145, -31.35900695863105, -44.50512879552867, -33.3113413586353, -21.43069411267008, -31.532161573951857, -25.84999107460638, -13.90337174981821, -3.203278518226402, -43.433769724415896, -34.32647467482448, -31.68924285344357, -37.875159434080686, -17.14367562830436, -42.64015045729067, -4.72092067555865, -33.71342484599537, -37.11744633474383, -23.028703882346207, -34.15203881934843, -16.8116948291024, -12.948685537915193, -27.038272908464048, -24.268782144614114, -12.338558922948177, -34.1667383834138, -35.71810721795036, -27.48782358419902, -0.3258372063014236, -21.715553109658224, -39.65611187250786, -33.63551814271328, -33.592547983382524, -31.590552702344766, -25.44021829352646, -44.84978558232904, -1.6632247611261282, 19.921280583591866, -36.42788113995488, -35.70810414717994, -7.452215498316008, -29.956571346092776, -9.848156384228494, -11.51592085302195, -37.41342739163241, -36.634577082967255, -29.771122619095653, -28.099572351406774, -34.67565871879838, -38.11823617833091, -15.58520061132393, -33.81989392089874, -11.682573584344748, -21.286931773285687, -31.436291182873095, -30.128546856802185, -17.52290568724148, 2.2179289995356566, -15.426249193645502, -8.905546289996858, -15.935725811699989, -15.195280256234279, -21.344324390457253, -23.781239436172836, -35.40310485481283, -23.395073094868188, -21.49924401674993, 0.6684799206693998, 23.727294349457562, -32.36681157696387, -34.13996943044842, -13.187763311874985, -22.45021872891048, -10.95069691040016], \"z\": [5.989695450862634, -3.8956889648642705, -7.244149027374252, -22.235906456994062, -5.390883692391246, 0.6393959964445036, 5.293577365556802, -6.987573772185962, 5.48934464144653, 24.253936574756747, 13.449595383437316, 6.173091675708788, -27.972416442795986, 5.108686517882204, -2.341095958134822, -16.2775315280954, -9.322987585634081, 18.27793761080402, -10.823061620975603, -6.9368533996741535, -0.08486088090573835, -10.67621040438701, -5.823044722436276, -14.576910848795862, -1.3385213785658532, -16.11723655669798, 9.03051159074424, -29.146927947090678, 2.559383657169811, 4.166912626880316, -5.405674331132532, 5.599083007916683, -22.356916153902528, 11.566300709127205, -0.1219551159434023, 7.346914338519422, 0.5766743854947198, 5.719288312523225, -9.41018762930759, 6.979393504341566, -2.904827940131025, 8.952530270439103, 8.24526373606325, 0.7375842756120934, 5.097329577424697, -8.44276540576391, -10.095150950722884, -3.59936273948198, 11.51279095672353, -11.983357046427475, -19.140707302883378, -8.927995442530095, 17.76543424644908, 9.076073362303493, -3.2825272213123715, -6.800756024330969, 9.873313481601096, 12.713259311175557, -17.215914262370354, -21.485411693647805, -3.8704035749713377, 17.158605974661228, -4.434360917966637, -7.726282316617242, -12.941150233613499, 4.196558467859625, 14.232930624549104, -6.848539288702712, -3.633723541261232, -5.232001349196373, 3.9555097448748935, 8.103382432236764, -10.04117664159861, 1.2978579988935854, 10.940011964634325, -11.381390755277422, 5.933759697759494, -4.388124641055122, 39.10569901631576, 11.292852121889458, -3.9604820450389444, -5.79444979285578, 6.035924903325302, 10.107675248401112, -5.756397866414434, 13.194147536586549, -18.901191789041007, 2.0084863189666575, -7.316221110725914, -1.2608546719921447, -9.237412411916038, -24.45490851858891, 4.714498603868032, 5.013867188806032, 2.974759326706445, 6.948070552635509, -9.195054318355833, -11.168261385329819, -4.443742718178826, -10.158015564242893, -21.827000000581407, -29.053140742457767, -13.57514111639367, -13.741114772209656, 5.055087845884874, -12.540587731923953, -12.351797392687436, 11.622549759345608, 9.307257461115503, 29.866652182335397, 4.954785940806837, -1.8774153373394098, -1.8670123654687085, -1.6310405901213612, 25.578802148081163, 0.9146897366566029]}, {\"hovertemplate\": \"Class=COAD<br>1st eigenvector=%{x}<br>2nd eigenvector=%{y}<br>3rd eigenvector=%{z}<extra></extra>\", \"legendgroup\": \"COAD\", \"marker\": {\"color\": \"#ab63fa\", \"opacity\": 0.7, \"symbol\": \"circle\"}, \"mode\": \"markers\", \"name\": \"COAD\", \"scene\": \"scene\", \"showlegend\": true, \"type\": \"scatter3d\", \"x\": [-9.993597096470419, -33.31475653735302, 3.6540150681451764, -33.71951058353533, -16.38284853260441, -20.593326354276336, -15.00366612433874, -29.447836702657376, -16.909289501715904, -10.74457321622599, -27.846553704069972, -31.507749267152185, -28.86500044156476, -16.30906705603098, -15.332775852950494, -10.497057240361018, 13.058665326597419, -10.656603457501957, -14.574466463184232, -9.835580204964458, 1.5165541280133634, -7.124471195833846, -25.800842123246763, -12.254130513283616, -40.28147859682998, -39.96314604615617, -21.213768054224257, -17.34120705011688, -22.482372879291027, -14.414752095426177, -8.89616445047267, -20.78556372850863, -14.314451057752114, -27.420733813334138, 3.2473466820524717, -26.910748815311543, -13.89483816972325, -37.70307851084159, -40.98869026887362, -29.971364339843106, -24.69763819049596, -29.425278883495515, -14.296918755694518, -31.803345139092322, -9.83504573465872, -9.83663977684493, -24.06755144339603, -18.364575175180757, -8.31793360895959, -2.999855337198409, -19.675206303586812, 18.60873525224502, -13.149664742784699, -26.94858265894063, -21.25332542079586, -33.72281284062711, -27.39260769823368, -13.140603345102281, -2.621129892560582, -29.43348387154355, -4.730151223239652, -36.404339558986536], \"y\": [124.54583443795771, 146.288878897964, 29.606899050152165, 142.1930340632435, 105.43468775312299, 124.40811633571835, 140.14522757785363, 138.37897095689877, 154.5519803696656, 99.12164610947447, 115.41242999199622, 138.26016787665122, 106.93234364382398, 134.91818440030514, 118.86421421710929, 95.69184940209355, 30.149093879397928, 107.51389772788889, 126.3754369120387, 102.71437133655117, 78.90972434541405, 91.08564932545, 144.56132175241305, 122.70543026636716, 137.0537431376383, 145.63254371632914, 120.25056909519317, 125.11334328173271, 128.3255947330737, 104.32157362119699, 133.54855044753083, 130.3795221674488, 103.9060384602314, 111.3503695037676, 69.25141471742025, 140.61274184357757, 123.87116051263833, 112.26547443156014, 129.35065863533566, 100.93814473053082, 123.9970704919319, 131.56568180550448, 125.94587673621065, 145.2141938695436, 79.11527268952521, 121.69030320238205, 107.29598773671566, 101.62451888666313, 106.1209294992442, 116.84932090183587, 51.51879034165115, 78.9053858726955, 128.18790378611902, 117.0847464427812, 135.11015763626375, 114.49461272864436, 121.47726586430414, 105.06198202705947, 91.3488208039212, 137.90838292620276, 112.59255229609752, 129.9104284304271], \"z\": [89.3971765380175, 112.92399052273758, 40.86461617648454, 108.46890268048071, 102.21921054995035, 116.27294695397467, 98.74631911481944, 127.58314681223594, 142.9419020457572, 87.2891463178004, 116.78655115570929, 111.93872731638503, 112.45291626645692, 93.62320427634937, 78.88001915991171, 70.1359488833064, 36.18085481827657, 87.86520872145685, 93.51684532914801, 91.78743161271737, 70.45601763017429, 74.77276551504383, 103.1613607294399, 104.09783258987581, 126.61520094754628, 132.8582872365548, 99.38975722025614, 80.50463288673654, 129.34059606819503, 82.3419741632026, 106.71964414025149, 93.21802434760097, 80.43543794279327, 97.16472935016763, 65.98431710345442, 122.26273480803346, 120.8839075850452, 103.80940441805467, 112.47302363188479, 86.05393293250698, 101.36353633759617, 108.2827272364198, 122.70813466814063, 118.56276178623457, 66.92636548582568, 70.94535643695059, 106.99266462296926, 84.8251362878178, 97.71181823604873, 82.55341610462152, 97.56934469520048, 35.232041350910556, 97.06515728645262, 93.53974210808575, 78.41663225655051, 131.49339013511093, 107.01809468388666, 83.9388994045424, 76.36184647393345, 93.33093058273698, 102.10725606973679, 111.74709290339399]}, {\"hovertemplate\": \"Class=PRAD<br>1st eigenvector=%{x}<br>2nd eigenvector=%{y}<br>3rd eigenvector=%{z}<extra></extra>\", \"legendgroup\": \"PRAD\", \"marker\": {\"color\": \"#FFA15A\", \"opacity\": 0.7, \"symbol\": \"circle\"}, \"mode\": \"markers\", \"name\": \"PRAD\", \"scene\": \"scene\", \"showlegend\": true, \"type\": \"scatter3d\", \"x\": [-49.30610813940568, -62.133048835540144, -60.46153124663003, -70.97929839126782, -58.00405809931535, -53.782717957785934, -46.96475912224954, -43.98684767146478, -68.6192801364583, -50.52148214468131, -71.88924764926645, -18.68251658638436, -26.969100617515696, -63.29821643369043, -44.95374429670194, -68.80247793777313, -69.61030240934575, -36.03620758762532, -15.536532981520269, -71.21321804720965, -35.28462585556205, -18.641106708049666, -49.88671323548371, -52.87174474279669, -43.428959354450654, -64.4624761975316, -63.62195437895664, -47.005117432730586, -51.01671519817895, -63.993856240667554, -53.799439538041035, -67.37592182997999, -63.47419209667702, -54.354533346412666, -70.34698842332419, -76.04220184036728, -46.96313367691414, -48.345359266551945, -84.08307909477814, -59.78838830283672, -51.97037995266558, -72.71929994319296, -57.990353941439224, -50.24013870987166, -56.959092529819316, -82.28139142738152, -47.03637838991535, -60.31991866321451, -35.56630389255563, -61.67709887058384, -67.35847970130892, -55.65011806871493, -76.2994196776824, -63.16286559034972, -72.43501567566493, -70.80921034730264, -36.87839847667077, -48.76906696065974, -60.49597188987398, -65.32762556236457, -35.80027410214616, -72.85455684191665, -63.60748497540475, -61.549331623279826, -43.53961562481378, -56.81083426300484, -56.37912971275858, -65.75035448160057, -45.105268586302614, -47.58141422538197, -64.69572344230465, -37.44643295422548, -39.39346788335146, -28.58706481175436, -67.84925011943514, -54.359234548580716, -66.22792822399101, -52.05000774603954, -75.67382818625326, -46.1634837442673, -47.966854360887, -77.45717530574727, -70.82167553527168, -48.89557549069895, -44.617429898188426, -52.29088799483127, -36.25068807865182, -44.34486858999631, -42.006340284239464, -44.47964732552093, -62.45527951497915, -48.56855459168284, -50.10967807468809, -85.27109120652995, -87.73880902973389, -47.72625322414938, -43.30394563927504, -53.22623076686256, -55.557746376610154, -71.71983301213838, -64.29153059276922, -46.25739505688211, -58.953364060134284, -34.297686037317234, -54.62930976824975, -69.91095470429052, -36.618325583859885, -61.61422538462638, -62.30706693386812], \"y\": [-91.01216432084253, -85.75603160958607, -112.26295768574592, -58.222772738938886, -89.75221936423364, -109.8458930888811, -82.49468315036879, -108.33438753518574, -104.44581426910656, -80.56064656562373, -119.80522295116988, -100.25362689368535, -56.70413666132887, -93.15372106048858, -123.73412186604165, -94.90776818283032, -87.94400038827315, -101.28748218431261, -60.618250379311874, -110.4311568423711, -115.39403390741022, -115.1333356633112, -113.60739599238103, -94.84933940487315, -87.24511288228672, -104.1833626977622, -113.630891074829, -90.11526984338602, -86.58844061092196, -85.03155819956723, -101.68065999542027, -105.10674736644059, -109.90781360610401, -107.98832268731285, -107.98375000571694, -78.50774870161045, -118.48559530273931, -91.84466305390902, -94.97254237843242, -103.74557741042587, -110.02982889398444, -95.90549350417493, -97.74478200297422, -51.41635064455643, -106.58984260359925, -87.7749545354398, -83.64476625045887, -111.35625256829783, -93.70718437406322, -90.6725395519774, -82.01399421940546, -88.97223328013828, -103.0067547957736, -85.71179403357165, -111.62407822277942, -100.41786137679388, -98.75873856552202, -94.39542837151686, -121.27104983576118, -112.72624657331417, -84.76586103950528, -96.28732567230387, -91.13058498408819, -109.45820706388562, -109.32584926944094, -82.42160988409901, -91.95393727130727, -99.48455022575897, -112.21729580352519, -76.97022027565215, -101.23243451133732, -101.21190484242346, -86.93263086033923, -90.0134014553952, -115.44592960696454, -104.31264964732765, -114.72062203497202, -104.09080435381401, -81.54212340688288, -108.0660055903194, -98.43267549146547, -108.61121667446163, -7.575366520079073, -96.48752401601678, -110.53710334104085, -122.10241580437621, -112.44891803046852, -111.77083730102412, -59.01717538074105, -108.25261831541225, -95.84514444253942, -113.75235332162896, -115.28940935763735, -72.2979358308893, -69.021350878098, -84.15529172318229, -83.61650318045518, -106.22275729746079, -96.13581412438874, -111.79017477485448, -101.998552699596, -91.05404514878549, -110.0156106827649, -104.03633751715564, -104.11428769303322, -76.80389548068365, -91.83704590741104, -111.33444944807026, -125.64467098687304], \"z\": [76.58215633988205, 59.878997766328744, 74.58319093041045, 78.89067019170444, 67.9739814886416, 80.33709585948121, 57.18418080269165, 64.42737562106285, 69.72404536473515, 97.29077635958434, 96.14244552397938, 54.56253452757589, 26.06701236712865, 88.83317619235675, 84.96949721659867, 80.12003789401379, 105.00651393239727, 43.90317036323811, 7.758987943439121, 92.43443856674479, 54.32111157303562, 40.22170541035739, 60.74645331352338, 62.03760002100197, 73.93168830539021, 81.5652711808414, 74.05375527561995, 58.0515225525003, 47.856920333736205, 74.98499620796576, 71.7417750948898, 92.88198261013535, 74.53398125601706, 87.42539716605191, 92.21703938884805, 88.6111576377513, 74.32766529115237, 69.44812570148376, 98.925969708611, 66.5428753230374, 71.92841219902219, 93.26385922165058, 65.14870207468975, 37.568035264856306, 63.38486264296425, 98.15235282878427, 58.980013799715735, 85.85754345939577, 81.12452523492064, 65.83387335259927, 66.24879309863177, 74.95676359947801, 102.50314574920638, 92.607792948138, 95.75039558130064, 92.28748076494107, 52.41725451868323, 71.74123714277475, 83.6603574987122, 95.11661031159194, 52.342893709307084, 91.54776690846852, 66.6234428005332, 74.11004426647649, 59.40407714705534, 66.00564342553459, 79.93947067853333, 89.18840576457087, 62.148561288473786, 55.24222073221701, 80.15224424226416, 54.434251702256766, 74.35974581448576, 59.32625441327229, 90.72256750683302, 62.498597906816656, 81.99411791184335, 83.79306468354275, 87.47265274626884, 75.45890485711212, 64.4080716562381, 110.27125463787955, 70.02763986520208, 70.1943368422388, 80.18968156436416, 82.44115019754469, 53.759976048374625, 65.61758612384355, 42.35299256652944, 66.14611616863526, 77.62720251229696, 85.50884774427726, 79.67318346629317, 75.69052136807879, 115.22319160693543, 66.05234730469286, 44.44165409355838, 63.81122934935235, 63.12671086262495, 88.77212951654178, 72.42984444726723, 67.22405669336541, 67.93737112329262, 66.09365960245282, 73.23955711432495, 83.99012736046843, 56.70310755129989, 76.91958066779038, 93.46469255621483]}],                        {\"height\": 500, \"legend\": {\"title\": {\"text\": \"Class\"}, \"tracegroupgap\": 0}, \"scene\": {\"domain\": {\"x\": [0.0, 1.0], \"y\": [0.0, 1.0]}, \"xaxis\": {\"title\": {\"text\": \"1st eigenvector\"}}, \"yaxis\": {\"title\": {\"text\": \"2nd eigenvector\"}}, \"zaxis\": {\"title\": {\"text\": \"3rd eigenvector\"}}}, \"template\": {\"data\": {\"bar\": [{\"error_x\": {\"color\": \"#2a3f5f\"}, \"error_y\": {\"color\": \"#2a3f5f\"}, \"marker\": {\"line\": {\"color\": \"#E5ECF6\", \"width\": 0.5}}, \"type\": \"bar\"}], \"barpolar\": [{\"marker\": {\"line\": {\"color\": \"#E5ECF6\", \"width\": 0.5}}, \"type\": \"barpolar\"}], \"carpet\": [{\"aaxis\": {\"endlinecolor\": \"#2a3f5f\", \"gridcolor\": \"white\", \"linecolor\": \"white\", \"minorgridcolor\": \"white\", \"startlinecolor\": \"#2a3f5f\"}, \"baxis\": {\"endlinecolor\": \"#2a3f5f\", \"gridcolor\": \"white\", \"linecolor\": \"white\", \"minorgridcolor\": \"white\", \"startlinecolor\": \"#2a3f5f\"}, \"type\": \"carpet\"}], \"choropleth\": [{\"colorbar\": {\"outlinewidth\": 0, \"ticks\": \"\"}, \"type\": \"choropleth\"}], \"contour\": [{\"colorbar\": {\"outlinewidth\": 0, \"ticks\": \"\"}, \"colorscale\": [[0.0, \"#0d0887\"], [0.1111111111111111, \"#46039f\"], [0.2222222222222222, \"#7201a8\"], [0.3333333333333333, \"#9c179e\"], [0.4444444444444444, \"#bd3786\"], [0.5555555555555556, \"#d8576b\"], [0.6666666666666666, \"#ed7953\"], [0.7777777777777778, \"#fb9f3a\"], [0.8888888888888888, \"#fdca26\"], [1.0, \"#f0f921\"]], \"type\": \"contour\"}], \"contourcarpet\": [{\"colorbar\": {\"outlinewidth\": 0, \"ticks\": \"\"}, \"type\": \"contourcarpet\"}], \"heatmap\": [{\"colorbar\": {\"outlinewidth\": 0, \"ticks\": \"\"}, \"colorscale\": [[0.0, \"#0d0887\"], [0.1111111111111111, \"#46039f\"], [0.2222222222222222, \"#7201a8\"], [0.3333333333333333, \"#9c179e\"], [0.4444444444444444, \"#bd3786\"], [0.5555555555555556, \"#d8576b\"], [0.6666666666666666, \"#ed7953\"], [0.7777777777777778, \"#fb9f3a\"], [0.8888888888888888, \"#fdca26\"], [1.0, \"#f0f921\"]], \"type\": \"heatmap\"}], \"heatmapgl\": [{\"colorbar\": {\"outlinewidth\": 0, \"ticks\": \"\"}, \"colorscale\": [[0.0, \"#0d0887\"], [0.1111111111111111, \"#46039f\"], [0.2222222222222222, \"#7201a8\"], [0.3333333333333333, \"#9c179e\"], [0.4444444444444444, \"#bd3786\"], [0.5555555555555556, \"#d8576b\"], [0.6666666666666666, \"#ed7953\"], [0.7777777777777778, \"#fb9f3a\"], [0.8888888888888888, \"#fdca26\"], [1.0, \"#f0f921\"]], \"type\": \"heatmapgl\"}], \"histogram\": [{\"marker\": {\"colorbar\": {\"outlinewidth\": 0, \"ticks\": \"\"}}, \"type\": \"histogram\"}], \"histogram2d\": [{\"colorbar\": {\"outlinewidth\": 0, \"ticks\": \"\"}, \"colorscale\": [[0.0, \"#0d0887\"], [0.1111111111111111, \"#46039f\"], [0.2222222222222222, \"#7201a8\"], [0.3333333333333333, \"#9c179e\"], [0.4444444444444444, \"#bd3786\"], [0.5555555555555556, \"#d8576b\"], [0.6666666666666666, \"#ed7953\"], [0.7777777777777778, \"#fb9f3a\"], [0.8888888888888888, \"#fdca26\"], [1.0, \"#f0f921\"]], \"type\": \"histogram2d\"}], \"histogram2dcontour\": [{\"colorbar\": {\"outlinewidth\": 0, \"ticks\": \"\"}, \"colorscale\": [[0.0, \"#0d0887\"], [0.1111111111111111, \"#46039f\"], [0.2222222222222222, \"#7201a8\"], [0.3333333333333333, \"#9c179e\"], [0.4444444444444444, \"#bd3786\"], [0.5555555555555556, \"#d8576b\"], [0.6666666666666666, \"#ed7953\"], [0.7777777777777778, \"#fb9f3a\"], [0.8888888888888888, \"#fdca26\"], [1.0, \"#f0f921\"]], \"type\": \"histogram2dcontour\"}], \"mesh3d\": [{\"colorbar\": {\"outlinewidth\": 0, \"ticks\": \"\"}, \"type\": \"mesh3d\"}], \"parcoords\": [{\"line\": {\"colorbar\": {\"outlinewidth\": 0, \"ticks\": \"\"}}, \"type\": \"parcoords\"}], \"pie\": [{\"automargin\": true, \"type\": \"pie\"}], \"scatter\": [{\"marker\": {\"colorbar\": {\"outlinewidth\": 0, \"ticks\": \"\"}}, \"type\": \"scatter\"}], \"scatter3d\": [{\"line\": {\"colorbar\": {\"outlinewidth\": 0, \"ticks\": \"\"}}, \"marker\": {\"colorbar\": {\"outlinewidth\": 0, \"ticks\": \"\"}}, \"type\": \"scatter3d\"}], \"scattercarpet\": [{\"marker\": {\"colorbar\": {\"outlinewidth\": 0, \"ticks\": \"\"}}, \"type\": \"scattercarpet\"}], \"scattergeo\": [{\"marker\": {\"colorbar\": {\"outlinewidth\": 0, \"ticks\": \"\"}}, \"type\": \"scattergeo\"}], \"scattergl\": [{\"marker\": {\"colorbar\": {\"outlinewidth\": 0, \"ticks\": \"\"}}, \"type\": \"scattergl\"}], \"scattermapbox\": [{\"marker\": {\"colorbar\": {\"outlinewidth\": 0, \"ticks\": \"\"}}, \"type\": \"scattermapbox\"}], \"scatterpolar\": [{\"marker\": {\"colorbar\": {\"outlinewidth\": 0, \"ticks\": \"\"}}, \"type\": \"scatterpolar\"}], \"scatterpolargl\": [{\"marker\": {\"colorbar\": {\"outlinewidth\": 0, \"ticks\": \"\"}}, \"type\": \"scatterpolargl\"}], \"scatterternary\": [{\"marker\": {\"colorbar\": {\"outlinewidth\": 0, \"ticks\": \"\"}}, \"type\": \"scatterternary\"}], \"surface\": [{\"colorbar\": {\"outlinewidth\": 0, \"ticks\": \"\"}, \"colorscale\": [[0.0, \"#0d0887\"], [0.1111111111111111, \"#46039f\"], [0.2222222222222222, \"#7201a8\"], [0.3333333333333333, \"#9c179e\"], [0.4444444444444444, \"#bd3786\"], [0.5555555555555556, \"#d8576b\"], [0.6666666666666666, \"#ed7953\"], [0.7777777777777778, \"#fb9f3a\"], [0.8888888888888888, \"#fdca26\"], [1.0, \"#f0f921\"]], \"type\": \"surface\"}], \"table\": [{\"cells\": {\"fill\": {\"color\": \"#EBF0F8\"}, \"line\": {\"color\": \"white\"}}, \"header\": {\"fill\": {\"color\": \"#C8D4E3\"}, \"line\": {\"color\": \"white\"}}, \"type\": \"table\"}]}, \"layout\": {\"annotationdefaults\": {\"arrowcolor\": \"#2a3f5f\", \"arrowhead\": 0, \"arrowwidth\": 1}, \"autotypenumbers\": \"strict\", \"coloraxis\": {\"colorbar\": {\"outlinewidth\": 0, \"ticks\": \"\"}}, \"colorscale\": {\"diverging\": [[0, \"#8e0152\"], [0.1, \"#c51b7d\"], [0.2, \"#de77ae\"], [0.3, \"#f1b6da\"], [0.4, \"#fde0ef\"], [0.5, \"#f7f7f7\"], [0.6, \"#e6f5d0\"], [0.7, \"#b8e186\"], [0.8, \"#7fbc41\"], [0.9, \"#4d9221\"], [1, \"#276419\"]], \"sequential\": [[0.0, \"#0d0887\"], [0.1111111111111111, \"#46039f\"], [0.2222222222222222, \"#7201a8\"], [0.3333333333333333, \"#9c179e\"], [0.4444444444444444, \"#bd3786\"], [0.5555555555555556, \"#d8576b\"], [0.6666666666666666, \"#ed7953\"], [0.7777777777777778, \"#fb9f3a\"], [0.8888888888888888, \"#fdca26\"], [1.0, \"#f0f921\"]], \"sequentialminus\": [[0.0, \"#0d0887\"], [0.1111111111111111, \"#46039f\"], [0.2222222222222222, \"#7201a8\"], [0.3333333333333333, \"#9c179e\"], [0.4444444444444444, \"#bd3786\"], [0.5555555555555556, \"#d8576b\"], [0.6666666666666666, \"#ed7953\"], [0.7777777777777778, \"#fb9f3a\"], [0.8888888888888888, \"#fdca26\"], [1.0, \"#f0f921\"]]}, \"colorway\": [\"#636efa\", \"#EF553B\", \"#00cc96\", \"#ab63fa\", \"#FFA15A\", \"#19d3f3\", \"#FF6692\", \"#B6E880\", \"#FF97FF\", \"#FECB52\"], \"font\": {\"color\": \"#2a3f5f\"}, \"geo\": {\"bgcolor\": \"white\", \"lakecolor\": \"white\", \"landcolor\": \"#E5ECF6\", \"showlakes\": true, \"showland\": true, \"subunitcolor\": \"white\"}, \"hoverlabel\": {\"align\": \"left\"}, \"hovermode\": \"closest\", \"mapbox\": {\"style\": \"light\"}, \"paper_bgcolor\": \"white\", \"plot_bgcolor\": \"#E5ECF6\", \"polar\": {\"angularaxis\": {\"gridcolor\": \"white\", \"linecolor\": \"white\", \"ticks\": \"\"}, \"bgcolor\": \"#E5ECF6\", \"radialaxis\": {\"gridcolor\": \"white\", \"linecolor\": \"white\", \"ticks\": \"\"}}, \"scene\": {\"xaxis\": {\"backgroundcolor\": \"#E5ECF6\", \"gridcolor\": \"white\", \"gridwidth\": 2, \"linecolor\": \"white\", \"showbackground\": true, \"ticks\": \"\", \"zerolinecolor\": \"white\"}, \"yaxis\": {\"backgroundcolor\": \"#E5ECF6\", \"gridcolor\": \"white\", \"gridwidth\": 2, \"linecolor\": \"white\", \"showbackground\": true, \"ticks\": \"\", \"zerolinecolor\": \"white\"}, \"zaxis\": {\"backgroundcolor\": \"#E5ECF6\", \"gridcolor\": \"white\", \"gridwidth\": 2, \"linecolor\": \"white\", \"showbackground\": true, \"ticks\": \"\", \"zerolinecolor\": \"white\"}}, \"shapedefaults\": {\"line\": {\"color\": \"#2a3f5f\"}}, \"ternary\": {\"aaxis\": {\"gridcolor\": \"white\", \"linecolor\": \"white\", \"ticks\": \"\"}, \"baxis\": {\"gridcolor\": \"white\", \"linecolor\": \"white\", \"ticks\": \"\"}, \"bgcolor\": \"#E5ECF6\", \"caxis\": {\"gridcolor\": \"white\", \"linecolor\": \"white\", \"ticks\": \"\"}}, \"title\": {\"x\": 0.05}, \"xaxis\": {\"automargin\": true, \"gridcolor\": \"white\", \"linecolor\": \"white\", \"ticks\": \"\", \"title\": {\"standoff\": 15}, \"zerolinecolor\": \"white\", \"zerolinewidth\": 2}, \"yaxis\": {\"automargin\": true, \"gridcolor\": \"white\", \"linecolor\": \"white\", \"ticks\": \"\", \"title\": {\"standoff\": 15}, \"zerolinecolor\": \"white\", \"zerolinewidth\": 2}}}, \"title\": {\"text\": \"First three PCA directions\"}, \"width\": 700},                        {\"responsive\": true}                    ).then(function(){\n",
       "                            \n",
       "var gd = document.getElementById('fe5deadd-437f-43c4-afe3-8475858862d8');\n",
       "var x = new MutationObserver(function (mutations, observer) {{\n",
       "        var display = window.getComputedStyle(gd).display;\n",
       "        if (!display || display === 'none') {{\n",
       "            console.log([gd, 'removed!']);\n",
       "            Plotly.purge(gd);\n",
       "            observer.disconnect();\n",
       "        }}\n",
       "}});\n",
       "\n",
       "// Listen for the removal of the full notebook cells\n",
       "var notebookContainer = gd.closest('#notebook-container');\n",
       "if (notebookContainer) {{\n",
       "    x.observe(notebookContainer, {childList: true});\n",
       "}}\n",
       "\n",
       "// Listen for the clearing of the current output cell\n",
       "var outputEl = gd.closest('.output');\n",
       "if (outputEl) {{\n",
       "    x.observe(outputEl, {childList: true});\n",
       "}}\n",
       "\n",
       "                        })                };                });            </script>        </div>"
      ]
     },
     "metadata": {},
     "output_type": "display_data"
    }
   ],
   "source": [
    "fig = px.scatter_3d(y_train,\n",
    "                   x=X_train_reduced[:, 0],\n",
    "                   y=X_train_reduced[:, 1],\n",
    "                   z=X_train_reduced[:, 2],\n",
    "                   color=y_train.Class,\n",
    "                   title = 'First three PCA directions',\n",
    "                   opacity=0.7, width=700, height=500,\n",
    "                   labels={'x':'1st eigenvector',\n",
    "                           'y':'2nd eigenvector',\n",
    "                           'z':'3rd eigenvector'})\n",
    "\n",
    "fig"
   ]
  },
  {
   "cell_type": "markdown",
   "metadata": {},
   "source": [
    "## Train and Evaluate Machine Learning Models<a id='ml'></a>"
   ]
  },
  {
   "cell_type": "code",
   "execution_count": 25,
   "metadata": {},
   "outputs": [],
   "source": [
    "def draw_conf_mat(y_test, pred, model):\n",
    "    cm_nb =  confusion_matrix(y_test.iloc[:,1], pred)\n",
    "    ax = plt.subplot()\n",
    "    sns.heatmap(cm_nb, annot=True, ax = ax, fmt='g', cmap='Greys') \n",
    "\n",
    "    # labels, title and ticks\n",
    "    ax.set_xlabel('Predicted labels')\n",
    "    ax.set_ylabel('True labels') \n",
    "    ax.set_title( '{} Confusion Matrix'.format(type(model).__name__)) \n",
    "    ax.xaxis.set_ticklabels(labels) \n",
    "    ax.yaxis.set_ticklabels(labels, rotation=360)"
   ]
  },
  {
   "cell_type": "code",
   "execution_count": 26,
   "metadata": {},
   "outputs": [],
   "source": [
    "def ml_algo(model, X_train, y_train, X_test, y_test):\n",
    "    model.fit(X_train, y_train.iloc[:,1])\n",
    "    pred = model.predict(X_test)\n",
    "    \n",
    "    print(type(model).__name__, \n",
    "          'accuracy:', \n",
    "          round(accuracy_score(y_test.iloc[:,1], pred), 3))\n",
    "    \n",
    "    draw_conf_mat(y_test, pred, model)"
   ]
  },
  {
   "cell_type": "markdown",
   "metadata": {},
   "source": [
    "### Gaussian Naive Bayes <a id='ml1'></a>"
   ]
  },
  {
   "cell_type": "code",
   "execution_count": 27,
   "metadata": {},
   "outputs": [
    {
     "name": "stdout",
     "output_type": "stream",
     "text": [
      "GaussianNB accuracy: 0.807\n"
     ]
    },
    {
     "data": {
      "image/png": "[encoded data removed]",
      "text/plain": [
       "<Figure size 432x288 with 2 Axes>"
      ]
     },
     "metadata": {
      "needs_background": "light"
     },
     "output_type": "display_data"
    }
   ],
   "source": [
    "model = GaussianNB()\n",
    "ml_algo(model, X_train, y_train, X_test, y_test)"
   ]
  },
  {
   "cell_type": "markdown",
   "metadata": {},
   "source": [
    "### Logistic Regression <a id='ml2'></a>"
   ]
  },
  {
   "cell_type": "code",
   "execution_count": 28,
   "metadata": {},
   "outputs": [
    {
     "name": "stdout",
     "output_type": "stream",
     "text": [
      "LogisticRegression accuracy: 1.0\n"
     ]
    },
    {
     "data": {
      "image/png": "[encoded data removed]",
      "text/plain": [
       "<Figure size 432x288 with 2 Axes>"
      ]
     },
     "metadata": {
      "needs_background": "light"
     },
     "output_type": "display_data"
    }
   ],
   "source": [
    "model = LogisticRegression(C=0.1, penalty='l1', solver='liblinear')\n",
    "ml_algo(model, X_train_pca, y_train, X_test_pca, y_test)"
   ]
  },
  {
   "cell_type": "markdown",
   "metadata": {},
   "source": [
    "### Support Vector Machines<a id='ml3'></a>"
   ]
  },
  {
   "cell_type": "code",
   "execution_count": 29,
   "metadata": {},
   "outputs": [
    {
     "name": "stdout",
     "output_type": "stream",
     "text": [
      "SVC accuracy: 0.994\n"
     ]
    },
    {
     "data": {
      "image/png": "[encoded data removed]",
      "text/plain": [
       "<Figure size 432x288 with 2 Axes>"
      ]
     },
     "metadata": {
      "needs_background": "light"
     },
     "output_type": "display_data"
    }
   ],
   "source": [
    "model = SVC(C=0.1,\n",
    "            decision_function_shape='ovo',\n",
    "            gamma=1, \n",
    "            kernel='linear')\n",
    "ml_algo(model, X_train, y_train, X_test, y_test)"
   ]
  },
  {
   "cell_type": "markdown",
   "metadata": {},
   "source": [
    "### Random Forest<a id='ml4'></a>"
   ]
  },
  {
   "cell_type": "code",
   "execution_count": 30,
   "metadata": {
    "scrolled": true
   },
   "outputs": [
    {
     "name": "stdout",
     "output_type": "stream",
     "text": [
      "RandomForestClassifier accuracy: 0.975\n"
     ]
    },
    {
     "data": {
      "image/png": "[encoded data removed]",
      "text/plain": [
       "<Figure size 432x288 with 2 Axes>"
      ]
     },
     "metadata": {
      "needs_background": "light"
     },
     "output_type": "display_data"
    }
   ],
   "source": [
    "model = RandomForestClassifier(bootstrap=False,\n",
    "                               max_features=0.6,\n",
    "                               min_samples_leaf=8,\n",
    "                               min_samples_split=3,\n",
    "                               n_estimators=60,\n",
    "                               random_state=0)\n",
    "ml_algo(model, X_train_pca, y_train, X_test_pca, y_test)"
   ]
  },
  {
   "cell_type": "markdown",
   "metadata": {},
   "source": [
    "## Conclusion<a id='conclusion'></a>"
   ]
  },
  {
   "cell_type": "markdown",
   "metadata": {},
   "source": [
    "The best performance on this dataset was provided by Logistic Regrission using the reduced pca set as it had 100% accuracy.\n",
    "\n",
    "The dataset we examined was well structured, without any missing values. The data manipulation we performed was minimal and the tumor types seemed to be quite distinct enabling the machine learning algorithms to perform optimally."
   ]
  }
 ],
 "metadata": {
  "kernelspec": {
   "display_name": "biovenv",
   "language": "python",
   "name": "biovenv"
  },
  "language_info": {
   "codemirror_mode": {
    "name": "ipython",
    "version": 3
   },
   "file_extension": ".py",
   "mimetype": "text/x-python",
   "name": "python",
   "nbconvert_exporter": "python",
   "pygments_lexer": "ipython3",
   "version": "3.8.5"
  }
 },
 "nbformat": 4,
 "nbformat_minor": 4
}
